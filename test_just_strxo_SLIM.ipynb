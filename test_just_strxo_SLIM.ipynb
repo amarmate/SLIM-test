{
 "cells": [
  {
   "cell_type": "code",
   "execution_count": 1,
   "metadata": {},
   "outputs": [],
   "source": [
    "from functions.test_algorithms import *\n",
    "from functions.random_search import * \n",
    "from slim_gsgp_lib.datasets.data_loader import *\n",
    "import pickle\n",
    "\n",
    "datasets = [globals()[i] for i in globals() if 'load' in i][2:]"
   ]
  },
  {
   "cell_type": "markdown",
   "metadata": {},
   "source": [
    "#### Settings"
   ]
  },
  {
   "cell_type": "code",
   "execution_count": 2,
   "metadata": {},
   "outputs": [],
   "source": [
    "pop_size = 100 \n",
    "n_iter = 100\n",
    "n_iter_rs = 50\n",
    "n_iter_test = 30\n",
    "p_train = 0.7"
   ]
  },
  {
   "cell_type": "markdown",
   "metadata": {},
   "source": [
    "#### SLIM "
   ]
  },
  {
   "cell_type": "code",
   "execution_count": 6,
   "metadata": {},
   "outputs": [
    {
     "name": "stderr",
     "output_type": "stream",
     "text": [
      "  0%|          | 0/11 [00:00<?, ?it/s]"
     ]
    },
    {
     "name": "stdout",
     "output_type": "stream",
     "text": [
      "Best hyperparameters for breast_cancer already exist!\n",
      "Results for SLIM+SIG2 on breast_cancer saved!\n",
      "Results for SLIM*SIG2 on breast_cancer saved!\n",
      "Results for SLIM+ABS on breast_cancer saved!\n",
      "Results for SLIM*ABS on breast_cancer saved!\n",
      "Results for SLIM+SIG1 on breast_cancer saved!\n"
     ]
    },
    {
     "name": "stderr",
     "output_type": "stream",
     "text": [
      "  9%|▉         | 1/11 [23:44<3:57:26, 1424.61s/it]"
     ]
    },
    {
     "name": "stdout",
     "output_type": "stream",
     "text": [
      "Results for SLIM*SIG1 on breast_cancer saved!\n",
      "Results for breast_cancer saved!\n",
      "---------------------------------------------------\n",
      "Performing random search for concrete_slump...\n",
      "Random search for concrete_slump completed!\n",
      "Results for SLIM+SIG2 on concrete_slump saved!\n",
      "Results for SLIM*SIG2 on concrete_slump saved!\n",
      "Results for SLIM+ABS on concrete_slump saved!\n",
      "Results for SLIM*ABS on concrete_slump saved!\n",
      "Results for SLIM+SIG1 on concrete_slump saved!\n"
     ]
    },
    {
     "name": "stderr",
     "output_type": "stream",
     "text": [
      " 18%|█▊        | 2/11 [1:37:12<7:56:53, 3179.25s/it]"
     ]
    },
    {
     "name": "stdout",
     "output_type": "stream",
     "text": [
      "Results for SLIM*SIG1 on concrete_slump saved!\n",
      "Results for concrete_slump saved!\n",
      "---------------------------------------------------\n",
      "Performing random search for concrete_strength...\n",
      "Random search for concrete_strength completed!\n",
      "Results for SLIM+SIG2 on concrete_strength saved!\n",
      "Results for SLIM*SIG2 on concrete_strength saved!\n",
      "Results for SLIM+ABS on concrete_strength saved!\n",
      "Results for SLIM*ABS on concrete_strength saved!\n",
      "Results for SLIM+SIG1 on concrete_strength saved!\n"
     ]
    },
    {
     "name": "stderr",
     "output_type": "stream",
     "text": [
      " 27%|██▋       | 3/11 [2:33:53<7:17:24, 3280.61s/it]"
     ]
    },
    {
     "name": "stdout",
     "output_type": "stream",
     "text": [
      "Results for SLIM*SIG1 on concrete_strength saved!\n",
      "Results for concrete_strength saved!\n",
      "---------------------------------------------------\n",
      "Performing random search for diabetes...\n",
      "Random search for diabetes completed!\n",
      "Results for SLIM+SIG2 on diabetes saved!\n",
      "Results for SLIM*SIG2 on diabetes saved!\n",
      "Results for SLIM+ABS on diabetes saved!\n",
      "Results for SLIM*ABS on diabetes saved!\n",
      "Results for SLIM+SIG1 on diabetes saved!\n"
     ]
    },
    {
     "name": "stderr",
     "output_type": "stream",
     "text": [
      " 36%|███▋      | 4/11 [3:26:17<6:16:27, 3226.83s/it]"
     ]
    },
    {
     "name": "stdout",
     "output_type": "stream",
     "text": [
      "Results for SLIM*SIG1 on diabetes saved!\n",
      "Results for diabetes saved!\n",
      "---------------------------------------------------\n",
      "Performing random search for efficiency_heating...\n",
      "Random search for efficiency_heating completed!\n",
      "Results for SLIM+SIG2 on efficiency_heating saved!\n",
      "Results for SLIM*SIG2 on efficiency_heating saved!\n",
      "Results for SLIM+ABS on efficiency_heating saved!\n",
      "Results for SLIM*ABS on efficiency_heating saved!\n",
      "Results for SLIM+SIG1 on efficiency_heating saved!\n"
     ]
    },
    {
     "name": "stderr",
     "output_type": "stream",
     "text": [
      " 45%|████▌     | 5/11 [4:18:09<5:18:31, 3185.17s/it]"
     ]
    },
    {
     "name": "stdout",
     "output_type": "stream",
     "text": [
      "Results for SLIM*SIG1 on efficiency_heating saved!\n",
      "Results for efficiency_heating saved!\n",
      "---------------------------------------------------\n",
      "Performing random search for efficiency_cooling...\n",
      "Random search for efficiency_cooling completed!\n",
      "Results for SLIM+SIG2 on efficiency_cooling saved!\n",
      "Results for SLIM*SIG2 on efficiency_cooling saved!\n",
      "Results for SLIM+ABS on efficiency_cooling saved!\n",
      "Results for SLIM*ABS on efficiency_cooling saved!\n",
      "Results for SLIM+SIG1 on efficiency_cooling saved!\n"
     ]
    },
    {
     "name": "stderr",
     "output_type": "stream",
     "text": [
      " 55%|█████▍    | 6/11 [5:12:53<4:28:13, 3218.79s/it]"
     ]
    },
    {
     "name": "stdout",
     "output_type": "stream",
     "text": [
      "Results for SLIM*SIG1 on efficiency_cooling saved!\n",
      "Results for efficiency_cooling saved!\n",
      "---------------------------------------------------\n",
      "Performing random search for forest_fires...\n",
      "Random search for forest_fires completed!\n",
      "Results for SLIM+SIG2 on forest_fires saved!\n",
      "Results for SLIM*SIG2 on forest_fires saved!\n",
      "Results for SLIM+ABS on forest_fires saved!\n",
      "Results for SLIM*ABS on forest_fires saved!\n",
      "Results for SLIM+SIG1 on forest_fires saved!\n"
     ]
    },
    {
     "name": "stderr",
     "output_type": "stream",
     "text": [
      " 64%|██████▎   | 7/11 [6:34:31<4:11:11, 3767.80s/it]"
     ]
    },
    {
     "name": "stdout",
     "output_type": "stream",
     "text": [
      "Results for SLIM*SIG1 on forest_fires saved!\n",
      "Results for forest_fires saved!\n",
      "---------------------------------------------------\n",
      "Performing random search for parkinson_updrs...\n",
      "Random search for parkinson_updrs completed!\n",
      "Results for SLIM+SIG2 on parkinson_updrs saved!\n",
      "Results for SLIM*SIG2 on parkinson_updrs saved!\n",
      "Results for SLIM+ABS on parkinson_updrs saved!\n",
      "Results for SLIM*ABS on parkinson_updrs saved!\n",
      "Results for SLIM+SIG1 on parkinson_updrs saved!\n"
     ]
    },
    {
     "name": "stderr",
     "output_type": "stream",
     "text": [
      " 73%|███████▎  | 8/11 [7:49:44<3:20:15, 4005.11s/it]"
     ]
    },
    {
     "name": "stdout",
     "output_type": "stream",
     "text": [
      "Results for SLIM*SIG1 on parkinson_updrs saved!\n",
      "Results for parkinson_updrs saved!\n",
      "---------------------------------------------------\n",
      "Performing random search for ld50...\n",
      "Random search for ld50 completed!\n",
      "Results for SLIM+SIG2 on ld50 saved!\n",
      "Results for SLIM*SIG2 on ld50 saved!\n",
      "Results for SLIM+ABS on ld50 saved!\n",
      "Results for SLIM*ABS on ld50 saved!\n",
      "Results for SLIM+SIG1 on ld50 saved!\n"
     ]
    },
    {
     "name": "stderr",
     "output_type": "stream",
     "text": [
      " 82%|████████▏ | 9/11 [8:59:29<2:15:22, 4061.47s/it]"
     ]
    },
    {
     "name": "stdout",
     "output_type": "stream",
     "text": [
      "Results for SLIM*SIG1 on ld50 saved!\n",
      "Results for ld50 saved!\n",
      "---------------------------------------------------\n",
      "Performing random search for ppb...\n",
      "Random search for ppb completed!\n",
      "Results for SLIM+SIG2 on ppb saved!\n",
      "Results for SLIM*SIG2 on ppb saved!\n",
      "Results for SLIM+ABS on ppb saved!\n",
      "Results for SLIM*ABS on ppb saved!\n",
      "Results for SLIM+SIG1 on ppb saved!\n"
     ]
    },
    {
     "name": "stderr",
     "output_type": "stream",
     "text": [
      " 91%|█████████ | 10/11 [10:01:20<1:05:53, 3953.05s/it]"
     ]
    },
    {
     "name": "stdout",
     "output_type": "stream",
     "text": [
      "Results for SLIM*SIG1 on ppb saved!\n",
      "Results for ppb saved!\n",
      "---------------------------------------------------\n",
      "Performing random search for bioav...\n",
      "Random search for bioav completed!\n",
      "Results for SLIM+SIG2 on bioav saved!\n",
      "Results for SLIM*SIG2 on bioav saved!\n",
      "Results for SLIM+ABS on bioav saved!\n",
      "Results for SLIM*ABS on bioav saved!\n",
      "Results for SLIM+SIG1 on bioav saved!\n"
     ]
    },
    {
     "name": "stderr",
     "output_type": "stream",
     "text": [
      "100%|██████████| 11/11 [11:24:06<00:00, 3731.52s/it]  "
     ]
    },
    {
     "name": "stdout",
     "output_type": "stream",
     "text": [
      "Results for SLIM*SIG1 on bioav saved!\n",
      "Results for bioav saved!\n",
      "---------------------------------------------------\n"
     ]
    },
    {
     "name": "stderr",
     "output_type": "stream",
     "text": [
      "\n"
     ]
    }
   ],
   "source": [
    "for dataset_loader in tqdm(datasets[5:]):\n",
    "    X, y = dataset_loader()\n",
    "    dataset_name = dataset_loader.__name__.split('load_')[1]\n",
    "\n",
    "    # Test if the best hyperparameters are valid\n",
    "    try: \n",
    "        with open(f\"best_params/best_slim_{dataset_name}_{pop_size}_{n_iter}_True_just_strxo.pkl\", 'rb') as f:\n",
    "            best_params = pickle.load(f)\n",
    "            print(f\"Best hyperparameters for {dataset_name} already exist!\")\n",
    "    except:\n",
    "        best_params = {}\n",
    "            \n",
    "    # Perform random search for both scaled and unscaled versions\n",
    "    if best_params == {}:\n",
    "        print(f\"Performing random search for {dataset_name}...\")\n",
    "        best_params = random_search_slim(X, y, dataset_name, scale=True, p_train=p_train,\n",
    "                                            iterations=n_iter_rs, pop_size=pop_size, n_iter=n_iter,\n",
    "                                            struct_mutation=False, show_progress=False, x_o=True,\n",
    "                                            gp_xo=False, identifier='just_strxo')\n",
    "        \n",
    "        print(f\"Random search for {dataset_name} completed!\")\n",
    "    \n",
    "    # Initialize dictionaries for scaled and unscaled results\n",
    "    metrics = ['rmse_', 'mape_', 'nrmse_', 'r2_', 'mae_', 'std_rmse_', 'time_stats', 'train_fit', 'test_fit', 'size']\n",
    "    results = {metric: {} for metric in metrics}\n",
    "\n",
    "    for algorithm in best_params:\n",
    "        # Retrieve the best hyperparameters for testing\n",
    "        args = best_params[algorithm]\n",
    "\n",
    "        # Test SLIM \n",
    "        rm, ma, nrmse, r2, mae, std_rmse, time, train, test, size = test_slim(\n",
    "            X=X, y=y, args_dict=args, dataset_name=dataset_loader.__name__,\n",
    "            ms_lower=0, ms_upper=1, n_elites=1,\n",
    "            iterations=n_iter_test, scale=True, algorithm=algorithm,\n",
    "            verbose=0, p_train=p_train, show_progress=False,\n",
    "        )\n",
    "        \n",
    "        # Initialize storage for each algorithm if not already present\n",
    "        for metric in metrics:\n",
    "            if algorithm not in results[metric]:\n",
    "                results[metric][algorithm] = []\n",
    "\n",
    "        # Store results\n",
    "        results['rmse_'][algorithm].append(rm)\n",
    "        results['mape_'][algorithm].append(ma)\n",
    "        results['nrmse_'][algorithm].append(nrmse)\n",
    "        results['r2_'][algorithm].append(r2)\n",
    "        results['mae_'][algorithm].append(mae)\n",
    "        results['std_rmse_'][algorithm].append(std_rmse)\n",
    "        results['time_stats'][algorithm].append(time)\n",
    "        results['train_fit'][algorithm].append(train)\n",
    "        results['test_fit'][algorithm].append(test)\n",
    "        results['size'][algorithm].append(size)        \n",
    "\n",
    "        print(f\"Results for {algorithm} on {dataset_name} saved!\")\n",
    "\n",
    "    # Save the results to disk\n",
    "    with open(f\"results/SLIM/{dataset_name}_just_strxo.pkl\", 'wb') as f:\n",
    "        pickle.dump(results, f)\n",
    "\n",
    "    print(f\"Results for {dataset_name} saved!\")\n",
    "    print(\"---------------------------------------------------\")"
   ]
  }
 ],
 "metadata": {
  "kernelspec": {
   "display_name": "Python 3",
   "language": "python",
   "name": "python3"
  },
  "language_info": {
   "codemirror_mode": {
    "name": "ipython",
    "version": 3
   },
   "file_extension": ".py",
   "mimetype": "text/x-python",
   "name": "python",
   "nbconvert_exporter": "python",
   "pygments_lexer": "ipython3",
   "version": "3.11.9"
  }
 },
 "nbformat": 4,
 "nbformat_minor": 2
}
