{
 "cells": [
  {
   "cell_type": "code",
   "execution_count": 3,
   "metadata": {},
   "outputs": [],
   "source": [
    "from functions.test_algorithms import *\n",
    "from functions.random_search import * \n",
    "from slim_gsgp_lib.datasets.data_loader import *\n",
    "import pickle\n",
    "\n",
    "datasets = [globals()[i] for i in globals() if 'load' in i][2:]"
   ]
  },
  {
   "cell_type": "markdown",
   "metadata": {},
   "source": [
    "#### Settings"
   ]
  },
  {
   "cell_type": "code",
   "execution_count": 13,
   "metadata": {},
   "outputs": [],
   "source": [
    "pop_size = 100 \n",
    "n_iter = 100\n",
    "n_iter_rs = 50\n",
    "n_iter_test = 30\n",
    "p_train = 0.7"
   ]
  },
  {
   "cell_type": "markdown",
   "metadata": {},
   "source": [
    "#### SLIM "
   ]
  },
  {
   "cell_type": "code",
   "execution_count": 14,
   "metadata": {},
   "outputs": [
    {
     "name": "stderr",
     "output_type": "stream",
     "text": [
      "  0%|          | 0/16 [00:00<?, ?it/s]"
     ]
    },
    {
     "name": "stdout",
     "output_type": "stream",
     "text": [
      "Best hyperparameters for resid_build_sale_price already exist!\n",
      "Results for SLIM+SIG2 on resid_build_sale_price saved!\n",
      "Results for SLIM*SIG2 on resid_build_sale_price saved!\n",
      "Results for SLIM+ABS on resid_build_sale_price saved!\n",
      "Results for SLIM*ABS on resid_build_sale_price saved!\n",
      "Results for SLIM+SIG1 on resid_build_sale_price saved!\n"
     ]
    },
    {
     "name": "stderr",
     "output_type": "stream",
     "text": [
      "  6%|▋         | 1/16 [20:35<5:08:53, 1235.58s/it]"
     ]
    },
    {
     "name": "stdout",
     "output_type": "stream",
     "text": [
      "Results for SLIM*SIG1 on resid_build_sale_price saved!\n",
      "Results for resid_build_sale_price saved!\n",
      "---------------------------------------------------\n",
      "Performing random search for istanbul...\n",
      "Random search for istanbul completed!\n",
      "Results for SLIM+SIG2 on istanbul saved!\n",
      "Results for SLIM*SIG2 on istanbul saved!\n",
      "Results for SLIM+ABS on istanbul saved!\n",
      "Results for SLIM*ABS on istanbul saved!\n",
      "Results for SLIM+SIG1 on istanbul saved!\n"
     ]
    },
    {
     "name": "stderr",
     "output_type": "stream",
     "text": [
      " 12%|█▎        | 2/16 [1:07:57<8:28:45, 2180.36s/it]"
     ]
    },
    {
     "name": "stdout",
     "output_type": "stream",
     "text": [
      "Results for SLIM*SIG1 on istanbul saved!\n",
      "Results for istanbul saved!\n",
      "---------------------------------------------------\n",
      "Performing random search for airfoil...\n",
      "Random search for airfoil completed!\n",
      "Results for SLIM+SIG2 on airfoil saved!\n",
      "Results for SLIM*SIG2 on airfoil saved!\n",
      "Results for SLIM+ABS on airfoil saved!\n",
      "Results for SLIM*ABS on airfoil saved!\n",
      "Results for SLIM+SIG1 on airfoil saved!\n"
     ]
    },
    {
     "name": "stderr",
     "output_type": "stream",
     "text": [
      " 19%|█▉        | 3/16 [2:04:07<9:50:07, 2723.65s/it]"
     ]
    },
    {
     "name": "stdout",
     "output_type": "stream",
     "text": [
      "Results for SLIM*SIG1 on airfoil saved!\n",
      "Results for airfoil saved!\n",
      "---------------------------------------------------\n",
      "Performing random search for bike_sharing...\n",
      "Random search for bike_sharing completed!\n",
      "Results for SLIM+SIG2 on bike_sharing saved!\n",
      "Results for SLIM*SIG2 on bike_sharing saved!\n",
      "Results for SLIM+ABS on bike_sharing saved!\n",
      "Results for SLIM*ABS on bike_sharing saved!\n",
      "Results for SLIM+SIG1 on bike_sharing saved!\n"
     ]
    },
    {
     "name": "stderr",
     "output_type": "stream",
     "text": [
      " 25%|██▌       | 4/16 [2:51:03<9:12:03, 2760.32s/it]"
     ]
    },
    {
     "name": "stdout",
     "output_type": "stream",
     "text": [
      "Results for SLIM*SIG1 on bike_sharing saved!\n",
      "Results for bike_sharing saved!\n",
      "---------------------------------------------------\n",
      "Performing random search for boston...\n",
      "Random search for boston completed!\n",
      "Results for SLIM+SIG2 on boston saved!\n",
      "Results for SLIM*SIG2 on boston saved!\n",
      "Results for SLIM+ABS on boston saved!\n",
      "Results for SLIM*ABS on boston saved!\n",
      "Results for SLIM+SIG1 on boston saved!\n"
     ]
    },
    {
     "name": "stderr",
     "output_type": "stream",
     "text": [
      " 31%|███▏      | 5/16 [3:35:51<8:21:12, 2733.91s/it]"
     ]
    },
    {
     "name": "stdout",
     "output_type": "stream",
     "text": [
      "Results for SLIM*SIG1 on boston saved!\n",
      "Results for boston saved!\n",
      "---------------------------------------------------\n",
      "Performing random search for breast_cancer...\n",
      "Random search for breast_cancer completed!\n",
      "Results for SLIM+SIG2 on breast_cancer saved!\n",
      "Results for SLIM*SIG2 on breast_cancer saved!\n",
      "Results for SLIM+ABS on breast_cancer saved!\n",
      "Results for SLIM*ABS on breast_cancer saved!\n",
      "Results for SLIM+SIG1 on breast_cancer saved!\n"
     ]
    },
    {
     "name": "stderr",
     "output_type": "stream",
     "text": [
      " 38%|███▊      | 6/16 [4:21:19<7:35:20, 2732.06s/it]"
     ]
    },
    {
     "name": "stdout",
     "output_type": "stream",
     "text": [
      "Results for SLIM*SIG1 on breast_cancer saved!\n",
      "Results for breast_cancer saved!\n",
      "---------------------------------------------------\n",
      "Performing random search for concrete_slump...\n",
      "Random search for concrete_slump completed!\n",
      "Results for SLIM+SIG2 on concrete_slump saved!\n",
      "Results for SLIM*SIG2 on concrete_slump saved!\n",
      "Results for SLIM+ABS on concrete_slump saved!\n",
      "Results for SLIM*ABS on concrete_slump saved!\n",
      "Results for SLIM+SIG1 on concrete_slump saved!\n"
     ]
    },
    {
     "name": "stderr",
     "output_type": "stream",
     "text": [
      " 44%|████▍     | 7/16 [5:07:09<6:50:41, 2737.99s/it]"
     ]
    },
    {
     "name": "stdout",
     "output_type": "stream",
     "text": [
      "Results for SLIM*SIG1 on concrete_slump saved!\n",
      "Results for concrete_slump saved!\n",
      "---------------------------------------------------\n",
      "Performing random search for concrete_strength...\n",
      "Random search for concrete_strength completed!\n",
      "Results for SLIM+SIG2 on concrete_strength saved!\n",
      "Results for SLIM*SIG2 on concrete_strength saved!\n",
      "Results for SLIM+ABS on concrete_strength saved!\n",
      "Results for SLIM*ABS on concrete_strength saved!\n",
      "Results for SLIM+SIG1 on concrete_strength saved!\n"
     ]
    },
    {
     "name": "stderr",
     "output_type": "stream",
     "text": [
      " 50%|█████     | 8/16 [5:51:35<6:02:00, 2715.03s/it]"
     ]
    },
    {
     "name": "stdout",
     "output_type": "stream",
     "text": [
      "Results for SLIM*SIG1 on concrete_strength saved!\n",
      "Results for concrete_strength saved!\n",
      "---------------------------------------------------\n",
      "Performing random search for diabetes...\n",
      "Random search for diabetes completed!\n",
      "Results for SLIM+SIG2 on diabetes saved!\n",
      "Results for SLIM*SIG2 on diabetes saved!\n",
      "Results for SLIM+ABS on diabetes saved!\n",
      "Results for SLIM*ABS on diabetes saved!\n",
      "Results for SLIM+SIG1 on diabetes saved!\n"
     ]
    },
    {
     "name": "stderr",
     "output_type": "stream",
     "text": [
      " 56%|█████▋    | 9/16 [6:35:40<5:14:12, 2693.16s/it]"
     ]
    },
    {
     "name": "stdout",
     "output_type": "stream",
     "text": [
      "Results for SLIM*SIG1 on diabetes saved!\n",
      "Results for diabetes saved!\n",
      "---------------------------------------------------\n",
      "Performing random search for efficiency_heating...\n",
      "Random search for efficiency_heating completed!\n",
      "Results for SLIM+SIG2 on efficiency_heating saved!\n",
      "Results for SLIM*SIG2 on efficiency_heating saved!\n",
      "Results for SLIM+ABS on efficiency_heating saved!\n",
      "Results for SLIM*ABS on efficiency_heating saved!\n",
      "Results for SLIM+SIG1 on efficiency_heating saved!\n"
     ]
    },
    {
     "name": "stderr",
     "output_type": "stream",
     "text": [
      " 62%|██████▎   | 10/16 [7:22:01<4:32:01, 2720.30s/it]"
     ]
    },
    {
     "name": "stdout",
     "output_type": "stream",
     "text": [
      "Results for SLIM*SIG1 on efficiency_heating saved!\n",
      "Results for efficiency_heating saved!\n",
      "---------------------------------------------------\n",
      "Performing random search for efficiency_cooling...\n",
      "Random search for efficiency_cooling completed!\n",
      "Results for SLIM+SIG2 on efficiency_cooling saved!\n",
      "Results for SLIM*SIG2 on efficiency_cooling saved!\n",
      "Results for SLIM+ABS on efficiency_cooling saved!\n",
      "Results for SLIM*ABS on efficiency_cooling saved!\n",
      "Results for SLIM+SIG1 on efficiency_cooling saved!\n"
     ]
    },
    {
     "name": "stderr",
     "output_type": "stream",
     "text": [
      " 69%|██████▉   | 11/16 [8:11:13<3:52:35, 2791.04s/it]"
     ]
    },
    {
     "name": "stdout",
     "output_type": "stream",
     "text": [
      "Results for SLIM*SIG1 on efficiency_cooling saved!\n",
      "Results for efficiency_cooling saved!\n",
      "---------------------------------------------------\n",
      "Performing random search for forest_fires...\n",
      "Random search for forest_fires completed!\n",
      "Results for SLIM+SIG2 on forest_fires saved!\n",
      "Results for SLIM*SIG2 on forest_fires saved!\n",
      "Results for SLIM+ABS on forest_fires saved!\n",
      "Results for SLIM*ABS on forest_fires saved!\n",
      "Results for SLIM+SIG1 on forest_fires saved!\n"
     ]
    },
    {
     "name": "stderr",
     "output_type": "stream",
     "text": [
      " 75%|███████▌  | 12/16 [8:58:25<3:06:53, 2803.45s/it]"
     ]
    },
    {
     "name": "stdout",
     "output_type": "stream",
     "text": [
      "Results for SLIM*SIG1 on forest_fires saved!\n",
      "Results for forest_fires saved!\n",
      "---------------------------------------------------\n",
      "Performing random search for parkinson_updrs...\n",
      "Random search for parkinson_updrs completed!\n",
      "Results for SLIM+SIG2 on parkinson_updrs saved!\n",
      "Results for SLIM*SIG2 on parkinson_updrs saved!\n",
      "Results for SLIM+ABS on parkinson_updrs saved!\n",
      "Results for SLIM*ABS on parkinson_updrs saved!\n",
      "Results for SLIM+SIG1 on parkinson_updrs saved!\n"
     ]
    },
    {
     "name": "stderr",
     "output_type": "stream",
     "text": [
      " 81%|████████▏ | 13/16 [15:58:28<7:59:27, 9589.23s/it]"
     ]
    },
    {
     "name": "stdout",
     "output_type": "stream",
     "text": [
      "Results for SLIM*SIG1 on parkinson_updrs saved!\n",
      "Results for parkinson_updrs saved!\n",
      "---------------------------------------------------\n",
      "Performing random search for ld50...\n"
     ]
    },
    {
     "name": "stderr",
     "output_type": "stream",
     "text": [
      " 81%|████████▏ | 13/16 [15:59:09<3:41:20, 4426.86s/it]\n"
     ]
    },
    {
     "ename": "KeyboardInterrupt",
     "evalue": "",
     "output_type": "error",
     "traceback": [
      "\u001b[1;31m---------------------------------------------------------------------------\u001b[0m",
      "\u001b[1;31mKeyboardInterrupt\u001b[0m                         Traceback (most recent call last)",
      "Cell \u001b[1;32mIn[14], line 16\u001b[0m\n\u001b[0;32m     14\u001b[0m \u001b[38;5;28;01mif\u001b[39;00m best_params \u001b[38;5;241m==\u001b[39m {}:\n\u001b[0;32m     15\u001b[0m     \u001b[38;5;28mprint\u001b[39m(\u001b[38;5;124mf\u001b[39m\u001b[38;5;124m\"\u001b[39m\u001b[38;5;124mPerforming random search for \u001b[39m\u001b[38;5;132;01m{\u001b[39;00mdataset_name\u001b[38;5;132;01m}\u001b[39;00m\u001b[38;5;124m...\u001b[39m\u001b[38;5;124m\"\u001b[39m)\n\u001b[1;32m---> 16\u001b[0m     best_params \u001b[38;5;241m=\u001b[39m \u001b[43mrandom_search_slim\u001b[49m\u001b[43m(\u001b[49m\u001b[43mX\u001b[49m\u001b[43m,\u001b[49m\u001b[43m \u001b[49m\u001b[43my\u001b[49m\u001b[43m,\u001b[49m\u001b[43m \u001b[49m\u001b[43mdataset_name\u001b[49m\u001b[43m,\u001b[49m\u001b[43m \u001b[49m\u001b[43mscale\u001b[49m\u001b[38;5;241;43m=\u001b[39;49m\u001b[38;5;28;43;01mTrue\u001b[39;49;00m\u001b[43m,\u001b[49m\u001b[43m \u001b[49m\u001b[43mp_train\u001b[49m\u001b[38;5;241;43m=\u001b[39;49m\u001b[43mp_train\u001b[49m\u001b[43m,\u001b[49m\n\u001b[0;32m     17\u001b[0m \u001b[43m                                        \u001b[49m\u001b[43miterations\u001b[49m\u001b[38;5;241;43m=\u001b[39;49m\u001b[43mn_iter_rs\u001b[49m\u001b[43m,\u001b[49m\u001b[43m \u001b[49m\u001b[43mpop_size\u001b[49m\u001b[38;5;241;43m=\u001b[39;49m\u001b[43mpop_size\u001b[49m\u001b[43m,\u001b[49m\u001b[43m \u001b[49m\u001b[43mn_iter\u001b[49m\u001b[38;5;241;43m=\u001b[39;49m\u001b[43mn_iter\u001b[49m\u001b[43m,\u001b[49m\n\u001b[0;32m     18\u001b[0m \u001b[43m                                        \u001b[49m\u001b[43mstruct_mutation\u001b[49m\u001b[38;5;241;43m=\u001b[39;49m\u001b[38;5;28;43;01mTrue\u001b[39;49;00m\u001b[43m,\u001b[49m\u001b[43m \u001b[49m\u001b[43mshow_progress\u001b[49m\u001b[38;5;241;43m=\u001b[39;49m\u001b[38;5;28;43;01mFalse\u001b[39;49;00m\u001b[43m,\u001b[49m\u001b[43m \u001b[49m\u001b[43mx_o\u001b[49m\u001b[38;5;241;43m=\u001b[39;49m\u001b[38;5;28;43;01mFalse\u001b[39;49;00m\u001b[43m,\u001b[49m\u001b[43m \u001b[49m\u001b[43midentifier\u001b[49m\u001b[38;5;241;43m=\u001b[39;49m\u001b[38;5;124;43m'\u001b[39;49m\u001b[38;5;124;43mjust_strmut\u001b[39;49m\u001b[38;5;124;43m'\u001b[39;49m\u001b[43m)\u001b[49m\n\u001b[0;32m     20\u001b[0m     \u001b[38;5;28mprint\u001b[39m(\u001b[38;5;124mf\u001b[39m\u001b[38;5;124m\"\u001b[39m\u001b[38;5;124mRandom search for \u001b[39m\u001b[38;5;132;01m{\u001b[39;00mdataset_name\u001b[38;5;132;01m}\u001b[39;00m\u001b[38;5;124m completed!\u001b[39m\u001b[38;5;124m\"\u001b[39m)\n\u001b[0;32m     22\u001b[0m \u001b[38;5;66;03m# Initialize dictionaries for scaled and unscaled results\u001b[39;00m\n",
      "File \u001b[1;32mc:\\Users\\Mateus\\Documents\\Tese\\Codigo\\SLIM-Tests\\functions\\random_search.py:110\u001b[0m, in \u001b[0;36mrandom_search_slim\u001b[1;34m(X, y, dataset, scale, p_train, iterations, pop_size, n_iter, struct_mutation, show_progress, x_o, gp_xo, save, identifier)\u001b[0m\n\u001b[0;32m    107\u001b[0m \u001b[38;5;28;01mif\u001b[39;00m init_depth \u001b[38;5;241m+\u001b[39m \u001b[38;5;241m6\u001b[39m \u001b[38;5;241m>\u001b[39m max_depth:\n\u001b[0;32m    108\u001b[0m     max_depth \u001b[38;5;241m=\u001b[39m init_depth \u001b[38;5;241m+\u001b[39m \u001b[38;5;241m6\u001b[39m\n\u001b[1;32m--> 110\u001b[0m slim_ \u001b[38;5;241m=\u001b[39m \u001b[43mslim\u001b[49m\u001b[43m(\u001b[49m\u001b[43mX_train\u001b[49m\u001b[38;5;241;43m=\u001b[39;49m\u001b[43mX_train\u001b[49m\u001b[43m,\u001b[49m\u001b[43m \u001b[49m\u001b[43my_train\u001b[49m\u001b[38;5;241;43m=\u001b[39;49m\u001b[43my_train\u001b[49m\u001b[43m,\u001b[49m\u001b[43m \u001b[49m\u001b[43mdataset_name\u001b[49m\u001b[38;5;241;43m=\u001b[39;49m\u001b[38;5;124;43m'\u001b[39;49m\u001b[38;5;124;43mdataset_1\u001b[39;49m\u001b[38;5;124;43m'\u001b[39;49m\u001b[43m,\u001b[49m\n\u001b[0;32m    111\u001b[0m \u001b[43m                \u001b[49m\u001b[43mX_test\u001b[49m\u001b[38;5;241;43m=\u001b[39;49m\u001b[43mX_test\u001b[49m\u001b[43m,\u001b[49m\u001b[43m \u001b[49m\u001b[43my_test\u001b[49m\u001b[38;5;241;43m=\u001b[39;49m\u001b[43my_test\u001b[49m\u001b[43m,\u001b[49m\u001b[43m \u001b[49m\u001b[43mslim_version\u001b[49m\u001b[38;5;241;43m=\u001b[39;49m\u001b[43malgorithm\u001b[49m\u001b[43m,\u001b[49m\u001b[43m \u001b[49m\u001b[43mpop_size\u001b[49m\u001b[38;5;241;43m=\u001b[39;49m\u001b[43mpop_size\u001b[49m\u001b[43m,\u001b[49m\u001b[43m \u001b[49m\u001b[43mn_iter\u001b[49m\u001b[38;5;241;43m=\u001b[39;49m\u001b[43mn_iter\u001b[49m\u001b[43m,\u001b[49m\n\u001b[0;32m    112\u001b[0m \u001b[43m                \u001b[49m\u001b[43mms_lower\u001b[49m\u001b[38;5;241;43m=\u001b[39;49m\u001b[43mms_lower\u001b[49m\u001b[43m,\u001b[49m\u001b[43m \u001b[49m\u001b[43mms_upper\u001b[49m\u001b[38;5;241;43m=\u001b[39;49m\u001b[43mms_upper\u001b[49m\u001b[43m,\u001b[49m\u001b[43m \u001b[49m\u001b[43mp_inflate\u001b[49m\u001b[38;5;241;43m=\u001b[39;49m\u001b[43mp_inflate\u001b[49m\u001b[43m,\u001b[49m\u001b[43m \u001b[49m\u001b[43mmax_depth\u001b[49m\u001b[38;5;241;43m=\u001b[39;49m\u001b[43mmax_depth\u001b[49m\u001b[43m,\u001b[49m\u001b[43m \u001b[49m\u001b[43minit_depth\u001b[49m\u001b[38;5;241;43m=\u001b[39;49m\u001b[43minit_depth\u001b[49m\u001b[43m,\u001b[49m\u001b[43m \u001b[49m\n\u001b[0;32m    113\u001b[0m \u001b[43m                \u001b[49m\u001b[43mseed\u001b[49m\u001b[38;5;241;43m=\u001b[39;49m\u001b[38;5;241;43m20\u001b[39;49m\u001b[43m,\u001b[49m\u001b[43m \u001b[49m\u001b[43mprob_const\u001b[49m\u001b[38;5;241;43m=\u001b[39;49m\u001b[43mprob_const\u001b[49m\u001b[43m,\u001b[49m\u001b[43m \u001b[49m\u001b[43mn_elites\u001b[49m\u001b[38;5;241;43m=\u001b[39;49m\u001b[38;5;241;43m1\u001b[39;49m\u001b[43m,\u001b[49m\u001b[43m \u001b[49m\u001b[43mlog_level\u001b[49m\u001b[38;5;241;43m=\u001b[39;49m\u001b[38;5;241;43m0\u001b[39;49m\u001b[43m,\u001b[49m\u001b[43m \u001b[49m\u001b[43mverbose\u001b[49m\u001b[38;5;241;43m=\u001b[39;49m\u001b[38;5;241;43m0\u001b[39;49m\u001b[43m,\u001b[49m\n\u001b[0;32m    114\u001b[0m \u001b[43m                \u001b[49m\u001b[43mstruct_mutation\u001b[49m\u001b[38;5;241;43m=\u001b[39;49m\u001b[43mstruct_mutation\u001b[49m\u001b[43m,\u001b[49m\u001b[43m \u001b[49m\u001b[43mprob_replace\u001b[49m\u001b[38;5;241;43m=\u001b[39;49m\u001b[43mprob_replace\u001b[49m\u001b[43m,\u001b[49m\u001b[43m \u001b[49m\u001b[43mp_prune\u001b[49m\u001b[38;5;241;43m=\u001b[39;49m\u001b[43mp_prune\u001b[49m\u001b[43m,\u001b[49m\u001b[43m \u001b[49m\n\u001b[0;32m    115\u001b[0m \u001b[43m                \u001b[49m\u001b[43mp_xo\u001b[49m\u001b[38;5;241;43m=\u001b[39;49m\u001b[43mp_xo\u001b[49m\u001b[43m,\u001b[49m\u001b[43m \u001b[49m\u001b[43mp_struct_xo\u001b[49m\u001b[38;5;241;43m=\u001b[39;49m\u001b[43mp_struct_xo\u001b[49m\u001b[43m,\u001b[49m\u001b[43m \u001b[49m\u001b[43mtournament_size\u001b[49m\u001b[38;5;241;43m=\u001b[39;49m\u001b[43mtournament_size\u001b[49m\u001b[43m,\u001b[49m\u001b[43m \u001b[49m\n\u001b[0;32m    116\u001b[0m \u001b[43m                \u001b[49m\u001b[43m)\u001b[49m\n\u001b[0;32m    118\u001b[0m predictions_slim \u001b[38;5;241m=\u001b[39m slim_\u001b[38;5;241m.\u001b[39mpredict(X_test)\n\u001b[0;32m    119\u001b[0m rmse_score \u001b[38;5;241m=\u001b[39m \u001b[38;5;28mfloat\u001b[39m(rmse(y_true\u001b[38;5;241m=\u001b[39my_test, y_pred\u001b[38;5;241m=\u001b[39mpredictions_slim))\n",
      "File \u001b[1;32mc:\\Users\\Mateus\\Documents\\Tese\\Codigo\\SLIM-Tests\\slim_gsgp_lib\\main_slim.py:323\u001b[0m, in \u001b[0;36mslim\u001b[1;34m(X_train, y_train, X_test, y_test, dataset_name, slim_version, pop_size, n_iter, elitism, n_elites, init_depth, ms_lower, ms_upper, p_inflate, p_xo, p_prune, p_struct_xo, mut_xo_operator, selector, fitness_sharing, log_path, seed, log_level, verbose, reconstruct, fitness_function, initializer, minimization, prob_grow, prob_const, prob_replace, tree_functions, tree_constants, struct_mutation, max_depth, n_jobs, tournament_size, test_elite, callbacks)\u001b[0m\n\u001b[0;32m    314\u001b[0m \u001b[38;5;66;03m# ================================\u001b[39;00m\n\u001b[0;32m    315\u001b[0m \u001b[38;5;66;03m#       Running the Algorithm\u001b[39;00m\n\u001b[0;32m    316\u001b[0m \u001b[38;5;66;03m# ================================\u001b[39;00m\n\u001b[0;32m    318\u001b[0m optimizer \u001b[38;5;241m=\u001b[39m SLIM_GSGP(\n\u001b[0;32m    319\u001b[0m     pi_init\u001b[38;5;241m=\u001b[39mslim_gsgp_pi_init,\n\u001b[0;32m    320\u001b[0m     \u001b[38;5;241m*\u001b[39m\u001b[38;5;241m*\u001b[39mslim_gsgp_parameters\n\u001b[0;32m    321\u001b[0m )\n\u001b[1;32m--> 323\u001b[0m \u001b[43moptimizer\u001b[49m\u001b[38;5;241;43m.\u001b[39;49m\u001b[43msolve\u001b[49m\u001b[43m(\u001b[49m\n\u001b[0;32m    324\u001b[0m \u001b[43m    \u001b[49m\u001b[43mX_train\u001b[49m\u001b[38;5;241;43m=\u001b[39;49m\u001b[43mX_train\u001b[49m\u001b[43m,\u001b[49m\n\u001b[0;32m    325\u001b[0m \u001b[43m    \u001b[49m\u001b[43mX_test\u001b[49m\u001b[38;5;241;43m=\u001b[39;49m\u001b[43mX_test\u001b[49m\u001b[43m,\u001b[49m\n\u001b[0;32m    326\u001b[0m \u001b[43m    \u001b[49m\u001b[43my_train\u001b[49m\u001b[38;5;241;43m=\u001b[39;49m\u001b[43my_train\u001b[49m\u001b[43m,\u001b[49m\n\u001b[0;32m    327\u001b[0m \u001b[43m    \u001b[49m\u001b[43my_test\u001b[49m\u001b[38;5;241;43m=\u001b[39;49m\u001b[43my_test\u001b[49m\u001b[43m,\u001b[49m\n\u001b[0;32m    328\u001b[0m \u001b[43m    \u001b[49m\u001b[43mcurr_dataset\u001b[49m\u001b[38;5;241;43m=\u001b[39;49m\u001b[43mdataset_name\u001b[49m\u001b[43m,\u001b[49m\n\u001b[0;32m    329\u001b[0m \u001b[43m    \u001b[49m\u001b[38;5;241;43m*\u001b[39;49m\u001b[38;5;241;43m*\u001b[39;49m\u001b[43mslim_gsgp_solve_parameters\u001b[49m\n\u001b[0;32m    330\u001b[0m \u001b[43m\u001b[49m\u001b[43m)\u001b[49m\n\u001b[0;32m    332\u001b[0m log_settings(\n\u001b[0;32m    333\u001b[0m     path\u001b[38;5;241m=\u001b[39mos\u001b[38;5;241m.\u001b[39mpath\u001b[38;5;241m.\u001b[39mjoin(os\u001b[38;5;241m.\u001b[39mgetcwd(), \u001b[38;5;124m\"\u001b[39m\u001b[38;5;124mlog\u001b[39m\u001b[38;5;124m\"\u001b[39m, \u001b[38;5;124m\"\u001b[39m\u001b[38;5;124mslim_settings.csv\u001b[39m\u001b[38;5;124m\"\u001b[39m),\n\u001b[0;32m    334\u001b[0m     settings_dict\u001b[38;5;241m=\u001b[39m[slim_gsgp_solve_parameters,\n\u001b[1;32m   (...)\u001b[0m\n\u001b[0;32m    338\u001b[0m     unique_run_id\u001b[38;5;241m=\u001b[39mUNIQUE_RUN_ID\n\u001b[0;32m    339\u001b[0m )\n\u001b[0;32m    341\u001b[0m optimizer\u001b[38;5;241m.\u001b[39melite\u001b[38;5;241m.\u001b[39mversion \u001b[38;5;241m=\u001b[39m slim_version\n",
      "File \u001b[1;32mc:\\Users\\Mateus\\Documents\\Tese\\Codigo\\SLIM-Tests\\slim_gsgp_lib\\algorithms\\SLIM_GSGP\\slim_gsgp.py:321\u001b[0m, in \u001b[0;36mSLIM_GSGP.solve\u001b[1;34m(self, X_train, X_test, y_train, y_test, curr_dataset, run_info, n_iter, elitism, log, verbose, test_elite, log_path, ffunction, max_depth, n_elites, reconstruct, n_jobs)\u001b[0m\n\u001b[0;32m    319\u001b[0m offs_pop \u001b[38;5;241m=\u001b[39m Population(offs_pop)\n\u001b[0;32m    320\u001b[0m offs_pop\u001b[38;5;241m.\u001b[39mcalculate_semantics(X_train)\n\u001b[1;32m--> 321\u001b[0m \u001b[43moffs_pop\u001b[49m\u001b[38;5;241;43m.\u001b[39;49m\u001b[43mevaluate\u001b[49m\u001b[43m(\u001b[49m\u001b[43mffunction\u001b[49m\u001b[43m,\u001b[49m\u001b[43m \u001b[49m\u001b[43my\u001b[49m\u001b[38;5;241;43m=\u001b[39;49m\u001b[43my_train\u001b[49m\u001b[43m,\u001b[49m\u001b[43m \u001b[49m\u001b[43moperator\u001b[49m\u001b[38;5;241;43m=\u001b[39;49m\u001b[38;5;28;43mself\u001b[39;49m\u001b[38;5;241;43m.\u001b[39;49m\u001b[43moperator\u001b[49m\u001b[43m,\u001b[49m\u001b[43m \u001b[49m\u001b[43mn_jobs\u001b[49m\u001b[38;5;241;43m=\u001b[39;49m\u001b[43mn_jobs\u001b[49m\u001b[43m,\u001b[49m\u001b[43m \u001b[49m\u001b[43mfitness_sharing\u001b[49m\u001b[38;5;241;43m=\u001b[39;49m\u001b[38;5;28;43mself\u001b[39;49m\u001b[38;5;241;43m.\u001b[39;49m\u001b[43mfitness_sharing\u001b[49m\u001b[43m)\u001b[49m\n\u001b[0;32m    323\u001b[0m \u001b[38;5;66;03m# replacing the current population with the offspring population P = P'\u001b[39;00m\n\u001b[0;32m    324\u001b[0m population \u001b[38;5;241m=\u001b[39m offs_pop\n",
      "File \u001b[1;32mc:\\Users\\Mateus\\Documents\\Tese\\Codigo\\SLIM-Tests\\slim_gsgp_lib\\algorithms\\SLIM_GSGP\\representations\\population.py:162\u001b[0m, in \u001b[0;36mPopulation.evaluate\u001b[1;34m(self, ffunction, y, operator, n_jobs, fitness_sharing)\u001b[0m\n\u001b[0;32m    143\u001b[0m \u001b[38;5;250m\u001b[39m\u001b[38;5;124;03m\"\"\"\u001b[39;00m\n\u001b[0;32m    144\u001b[0m \u001b[38;5;124;03mEvaluate the population using a fitness function.\u001b[39;00m\n\u001b[0;32m    145\u001b[0m \n\u001b[1;32m   (...)\u001b[0m\n\u001b[0;32m    159\u001b[0m \u001b[38;5;124;03mNone\u001b[39;00m\n\u001b[0;32m    160\u001b[0m \u001b[38;5;124;03m\"\"\"\u001b[39;00m\n\u001b[0;32m    161\u001b[0m \u001b[38;5;66;03m# Evaluates individuals' fitnesses\u001b[39;00m\n\u001b[1;32m--> 162\u001b[0m \u001b[38;5;28mself\u001b[39m\u001b[38;5;241m.\u001b[39mfit \u001b[38;5;241m=\u001b[39m \u001b[43mParallel\u001b[49m\u001b[43m(\u001b[49m\u001b[43mn_jobs\u001b[49m\u001b[38;5;241;43m=\u001b[39;49m\u001b[43mn_jobs\u001b[49m\u001b[43m)\u001b[49m\u001b[43m(\u001b[49m\n\u001b[0;32m    163\u001b[0m \u001b[43m    \u001b[49m\u001b[43mdelayed\u001b[49m\u001b[43m(\u001b[49m\u001b[43m_evaluate_slim_individual\u001b[49m\u001b[43m)\u001b[49m\u001b[43m(\u001b[49m\u001b[43mindividual\u001b[49m\u001b[43m,\u001b[49m\u001b[43m \u001b[49m\u001b[43mffunction\u001b[49m\u001b[38;5;241;43m=\u001b[39;49m\u001b[43mffunction\u001b[49m\u001b[43m,\u001b[49m\u001b[43m \u001b[49m\u001b[43my\u001b[49m\u001b[38;5;241;43m=\u001b[39;49m\u001b[43my\u001b[49m\u001b[43m,\u001b[49m\u001b[43m \u001b[49m\u001b[43moperator\u001b[49m\u001b[38;5;241;43m=\u001b[39;49m\u001b[43moperator\u001b[49m\n\u001b[0;32m    164\u001b[0m \u001b[43m    \u001b[49m\u001b[43m)\u001b[49m\u001b[43m \u001b[49m\u001b[38;5;28;43;01mfor\u001b[39;49;00m\u001b[43m \u001b[49m\u001b[43mindividual\u001b[49m\u001b[43m \u001b[49m\u001b[38;5;129;43;01min\u001b[39;49;00m\u001b[43m \u001b[49m\u001b[38;5;28;43mself\u001b[39;49m\u001b[38;5;241;43m.\u001b[39;49m\u001b[43mpopulation\u001b[49m\u001b[43m)\u001b[49m\n\u001b[0;32m    167\u001b[0m \u001b[38;5;66;03m# ----------------------- CHANGED ---------------------------\u001b[39;00m\n\u001b[0;32m    168\u001b[0m \u001b[38;5;28;01mif\u001b[39;00m fitness_sharing: \n",
      "File \u001b[1;32mc:\\Python311\\Lib\\site-packages\\joblib\\parallel.py:1088\u001b[0m, in \u001b[0;36mParallel.__call__\u001b[1;34m(self, iterable)\u001b[0m\n\u001b[0;32m   1085\u001b[0m \u001b[38;5;28;01mif\u001b[39;00m \u001b[38;5;28mself\u001b[39m\u001b[38;5;241m.\u001b[39mdispatch_one_batch(iterator):\n\u001b[0;32m   1086\u001b[0m     \u001b[38;5;28mself\u001b[39m\u001b[38;5;241m.\u001b[39m_iterating \u001b[38;5;241m=\u001b[39m \u001b[38;5;28mself\u001b[39m\u001b[38;5;241m.\u001b[39m_original_iterator \u001b[38;5;129;01mis\u001b[39;00m \u001b[38;5;129;01mnot\u001b[39;00m \u001b[38;5;28;01mNone\u001b[39;00m\n\u001b[1;32m-> 1088\u001b[0m \u001b[38;5;28;01mwhile\u001b[39;00m \u001b[38;5;28;43mself\u001b[39;49m\u001b[38;5;241;43m.\u001b[39;49m\u001b[43mdispatch_one_batch\u001b[49m\u001b[43m(\u001b[49m\u001b[43miterator\u001b[49m\u001b[43m)\u001b[49m:\n\u001b[0;32m   1089\u001b[0m     \u001b[38;5;28;01mpass\u001b[39;00m\n\u001b[0;32m   1091\u001b[0m \u001b[38;5;28;01mif\u001b[39;00m pre_dispatch \u001b[38;5;241m==\u001b[39m \u001b[38;5;124m\"\u001b[39m\u001b[38;5;124mall\u001b[39m\u001b[38;5;124m\"\u001b[39m \u001b[38;5;129;01mor\u001b[39;00m n_jobs \u001b[38;5;241m==\u001b[39m \u001b[38;5;241m1\u001b[39m:\n\u001b[0;32m   1092\u001b[0m     \u001b[38;5;66;03m# The iterable was consumed all at once by the above for loop.\u001b[39;00m\n\u001b[0;32m   1093\u001b[0m     \u001b[38;5;66;03m# No need to wait for async callbacks to trigger to\u001b[39;00m\n\u001b[0;32m   1094\u001b[0m     \u001b[38;5;66;03m# consumption.\u001b[39;00m\n",
      "File \u001b[1;32mc:\\Python311\\Lib\\site-packages\\joblib\\parallel.py:901\u001b[0m, in \u001b[0;36mParallel.dispatch_one_batch\u001b[1;34m(self, iterator)\u001b[0m\n\u001b[0;32m    899\u001b[0m     \u001b[38;5;28;01mreturn\u001b[39;00m \u001b[38;5;28;01mFalse\u001b[39;00m\n\u001b[0;32m    900\u001b[0m \u001b[38;5;28;01melse\u001b[39;00m:\n\u001b[1;32m--> 901\u001b[0m     \u001b[38;5;28;43mself\u001b[39;49m\u001b[38;5;241;43m.\u001b[39;49m\u001b[43m_dispatch\u001b[49m\u001b[43m(\u001b[49m\u001b[43mtasks\u001b[49m\u001b[43m)\u001b[49m\n\u001b[0;32m    902\u001b[0m     \u001b[38;5;28;01mreturn\u001b[39;00m \u001b[38;5;28;01mTrue\u001b[39;00m\n",
      "File \u001b[1;32mc:\\Python311\\Lib\\site-packages\\joblib\\parallel.py:819\u001b[0m, in \u001b[0;36mParallel._dispatch\u001b[1;34m(self, batch)\u001b[0m\n\u001b[0;32m    817\u001b[0m \u001b[38;5;28;01mwith\u001b[39;00m \u001b[38;5;28mself\u001b[39m\u001b[38;5;241m.\u001b[39m_lock:\n\u001b[0;32m    818\u001b[0m     job_idx \u001b[38;5;241m=\u001b[39m \u001b[38;5;28mlen\u001b[39m(\u001b[38;5;28mself\u001b[39m\u001b[38;5;241m.\u001b[39m_jobs)\n\u001b[1;32m--> 819\u001b[0m     job \u001b[38;5;241m=\u001b[39m \u001b[38;5;28;43mself\u001b[39;49m\u001b[38;5;241;43m.\u001b[39;49m\u001b[43m_backend\u001b[49m\u001b[38;5;241;43m.\u001b[39;49m\u001b[43mapply_async\u001b[49m\u001b[43m(\u001b[49m\u001b[43mbatch\u001b[49m\u001b[43m,\u001b[49m\u001b[43m \u001b[49m\u001b[43mcallback\u001b[49m\u001b[38;5;241;43m=\u001b[39;49m\u001b[43mcb\u001b[49m\u001b[43m)\u001b[49m\n\u001b[0;32m    820\u001b[0m     \u001b[38;5;66;03m# A job can complete so quickly than its callback is\u001b[39;00m\n\u001b[0;32m    821\u001b[0m     \u001b[38;5;66;03m# called before we get here, causing self._jobs to\u001b[39;00m\n\u001b[0;32m    822\u001b[0m     \u001b[38;5;66;03m# grow. To ensure correct results ordering, .insert is\u001b[39;00m\n\u001b[0;32m    823\u001b[0m     \u001b[38;5;66;03m# used (rather than .append) in the following line\u001b[39;00m\n\u001b[0;32m    824\u001b[0m     \u001b[38;5;28mself\u001b[39m\u001b[38;5;241m.\u001b[39m_jobs\u001b[38;5;241m.\u001b[39minsert(job_idx, job)\n",
      "File \u001b[1;32mc:\\Python311\\Lib\\site-packages\\joblib\\_parallel_backends.py:208\u001b[0m, in \u001b[0;36mSequentialBackend.apply_async\u001b[1;34m(self, func, callback)\u001b[0m\n\u001b[0;32m    206\u001b[0m \u001b[38;5;28;01mdef\u001b[39;00m \u001b[38;5;21mapply_async\u001b[39m(\u001b[38;5;28mself\u001b[39m, func, callback\u001b[38;5;241m=\u001b[39m\u001b[38;5;28;01mNone\u001b[39;00m):\n\u001b[0;32m    207\u001b[0m \u001b[38;5;250m    \u001b[39m\u001b[38;5;124;03m\"\"\"Schedule a func to be run\"\"\"\u001b[39;00m\n\u001b[1;32m--> 208\u001b[0m     result \u001b[38;5;241m=\u001b[39m \u001b[43mImmediateResult\u001b[49m\u001b[43m(\u001b[49m\u001b[43mfunc\u001b[49m\u001b[43m)\u001b[49m\n\u001b[0;32m    209\u001b[0m     \u001b[38;5;28;01mif\u001b[39;00m callback:\n\u001b[0;32m    210\u001b[0m         callback(result)\n",
      "File \u001b[1;32mc:\\Python311\\Lib\\site-packages\\joblib\\_parallel_backends.py:597\u001b[0m, in \u001b[0;36mImmediateResult.__init__\u001b[1;34m(self, batch)\u001b[0m\n\u001b[0;32m    594\u001b[0m \u001b[38;5;28;01mdef\u001b[39;00m \u001b[38;5;21m__init__\u001b[39m(\u001b[38;5;28mself\u001b[39m, batch):\n\u001b[0;32m    595\u001b[0m     \u001b[38;5;66;03m# Don't delay the application, to avoid keeping the input\u001b[39;00m\n\u001b[0;32m    596\u001b[0m     \u001b[38;5;66;03m# arguments in memory\u001b[39;00m\n\u001b[1;32m--> 597\u001b[0m     \u001b[38;5;28mself\u001b[39m\u001b[38;5;241m.\u001b[39mresults \u001b[38;5;241m=\u001b[39m \u001b[43mbatch\u001b[49m\u001b[43m(\u001b[49m\u001b[43m)\u001b[49m\n",
      "File \u001b[1;32mc:\\Python311\\Lib\\site-packages\\joblib\\parallel.py:288\u001b[0m, in \u001b[0;36mBatchedCalls.__call__\u001b[1;34m(self)\u001b[0m\n\u001b[0;32m    284\u001b[0m \u001b[38;5;28;01mdef\u001b[39;00m \u001b[38;5;21m__call__\u001b[39m(\u001b[38;5;28mself\u001b[39m):\n\u001b[0;32m    285\u001b[0m     \u001b[38;5;66;03m# Set the default nested backend to self._backend but do not set the\u001b[39;00m\n\u001b[0;32m    286\u001b[0m     \u001b[38;5;66;03m# change the default number of processes to -1\u001b[39;00m\n\u001b[0;32m    287\u001b[0m     \u001b[38;5;28;01mwith\u001b[39;00m parallel_backend(\u001b[38;5;28mself\u001b[39m\u001b[38;5;241m.\u001b[39m_backend, n_jobs\u001b[38;5;241m=\u001b[39m\u001b[38;5;28mself\u001b[39m\u001b[38;5;241m.\u001b[39m_n_jobs):\n\u001b[1;32m--> 288\u001b[0m         \u001b[38;5;28;01mreturn\u001b[39;00m \u001b[43m[\u001b[49m\u001b[43mfunc\u001b[49m\u001b[43m(\u001b[49m\u001b[38;5;241;43m*\u001b[39;49m\u001b[43margs\u001b[49m\u001b[43m,\u001b[49m\u001b[43m \u001b[49m\u001b[38;5;241;43m*\u001b[39;49m\u001b[38;5;241;43m*\u001b[39;49m\u001b[43mkwargs\u001b[49m\u001b[43m)\u001b[49m\n\u001b[0;32m    289\u001b[0m \u001b[43m                \u001b[49m\u001b[38;5;28;43;01mfor\u001b[39;49;00m\u001b[43m \u001b[49m\u001b[43mfunc\u001b[49m\u001b[43m,\u001b[49m\u001b[43m \u001b[49m\u001b[43margs\u001b[49m\u001b[43m,\u001b[49m\u001b[43m \u001b[49m\u001b[43mkwargs\u001b[49m\u001b[43m \u001b[49m\u001b[38;5;129;43;01min\u001b[39;49;00m\u001b[43m \u001b[49m\u001b[38;5;28;43mself\u001b[39;49m\u001b[38;5;241;43m.\u001b[39;49m\u001b[43mitems\u001b[49m\u001b[43m]\u001b[49m\n",
      "File \u001b[1;32mc:\\Python311\\Lib\\site-packages\\joblib\\parallel.py:288\u001b[0m, in \u001b[0;36m<listcomp>\u001b[1;34m(.0)\u001b[0m\n\u001b[0;32m    284\u001b[0m \u001b[38;5;28;01mdef\u001b[39;00m \u001b[38;5;21m__call__\u001b[39m(\u001b[38;5;28mself\u001b[39m):\n\u001b[0;32m    285\u001b[0m     \u001b[38;5;66;03m# Set the default nested backend to self._backend but do not set the\u001b[39;00m\n\u001b[0;32m    286\u001b[0m     \u001b[38;5;66;03m# change the default number of processes to -1\u001b[39;00m\n\u001b[0;32m    287\u001b[0m     \u001b[38;5;28;01mwith\u001b[39;00m parallel_backend(\u001b[38;5;28mself\u001b[39m\u001b[38;5;241m.\u001b[39m_backend, n_jobs\u001b[38;5;241m=\u001b[39m\u001b[38;5;28mself\u001b[39m\u001b[38;5;241m.\u001b[39m_n_jobs):\n\u001b[1;32m--> 288\u001b[0m         \u001b[38;5;28;01mreturn\u001b[39;00m [\u001b[43mfunc\u001b[49m\u001b[43m(\u001b[49m\u001b[38;5;241;43m*\u001b[39;49m\u001b[43margs\u001b[49m\u001b[43m,\u001b[49m\u001b[43m \u001b[49m\u001b[38;5;241;43m*\u001b[39;49m\u001b[38;5;241;43m*\u001b[39;49m\u001b[43mkwargs\u001b[49m\u001b[43m)\u001b[49m\n\u001b[0;32m    289\u001b[0m                 \u001b[38;5;28;01mfor\u001b[39;00m func, args, kwargs \u001b[38;5;129;01min\u001b[39;00m \u001b[38;5;28mself\u001b[39m\u001b[38;5;241m.\u001b[39mitems]\n",
      "File \u001b[1;32mc:\\Users\\Mateus\\Documents\\Tese\\Codigo\\SLIM-Tests\\slim_gsgp_lib\\utils\\utils.py:619\u001b[0m, in \u001b[0;36m_evaluate_slim_individual\u001b[1;34m(individual, ffunction, y, testing, operator)\u001b[0m\n\u001b[0;32m    606\u001b[0m     individual\u001b[38;5;241m.\u001b[39mtest_fitness \u001b[38;5;241m=\u001b[39m ffunction(\n\u001b[0;32m    607\u001b[0m         y,\n\u001b[0;32m    608\u001b[0m         torch\u001b[38;5;241m.\u001b[39mclamp(\n\u001b[1;32m   (...)\u001b[0m\n\u001b[0;32m    612\u001b[0m         ),\n\u001b[0;32m    613\u001b[0m     )\n\u001b[0;32m    615\u001b[0m \u001b[38;5;28;01melse\u001b[39;00m:\n\u001b[0;32m    616\u001b[0m     individual\u001b[38;5;241m.\u001b[39mfitness \u001b[38;5;241m=\u001b[39m ffunction(\n\u001b[0;32m    617\u001b[0m         y,\n\u001b[0;32m    618\u001b[0m         torch\u001b[38;5;241m.\u001b[39mclamp(\n\u001b[1;32m--> 619\u001b[0m             \u001b[43moperator\u001b[49m\u001b[43m(\u001b[49m\u001b[43mindividual\u001b[49m\u001b[38;5;241;43m.\u001b[39;49m\u001b[43mtrain_semantics\u001b[49m\u001b[43m,\u001b[49m\u001b[43m \u001b[49m\u001b[43mdim\u001b[49m\u001b[38;5;241;43m=\u001b[39;49m\u001b[38;5;241;43m0\u001b[39;49m\u001b[43m)\u001b[49m,\n\u001b[0;32m    620\u001b[0m             \u001b[38;5;241m-\u001b[39m\u001b[38;5;241m1000000000000.0\u001b[39m,\n\u001b[0;32m    621\u001b[0m             \u001b[38;5;241m1000000000000.0\u001b[39m,\n\u001b[0;32m    622\u001b[0m         ),\n\u001b[0;32m    623\u001b[0m     )\n\u001b[0;32m    625\u001b[0m     \u001b[38;5;66;03m# if testing is false, return the value so that training parallelization has effect\u001b[39;00m\n\u001b[0;32m    626\u001b[0m     \u001b[38;5;28;01mreturn\u001b[39;00m ffunction(\n\u001b[0;32m    627\u001b[0m             y,\n\u001b[0;32m    628\u001b[0m             torch\u001b[38;5;241m.\u001b[39mclamp(\n\u001b[1;32m   (...)\u001b[0m\n\u001b[0;32m    632\u001b[0m             ),\n\u001b[0;32m    633\u001b[0m         )\n",
      "\u001b[1;31mKeyboardInterrupt\u001b[0m: "
     ]
    }
   ],
   "source": [
    "for dataset_loader in tqdm(datasets):\n",
    "    X, y = dataset_loader()\n",
    "    dataset_name = dataset_loader.__name__.split('load_')[1]\n",
    "\n",
    "    # Test if the best hyperparameters are valid\n",
    "    try: \n",
    "        with open(f\"best_params/best_slim_{dataset_name}_{pop_size}_{n_iter}_True_just_strmut.pkl\", 'rb') as f:\n",
    "            best_params = pickle.load(f)\n",
    "            print(f\"Best hyperparameters for {dataset_name} already exist!\")\n",
    "    except:\n",
    "        best_params = {}\n",
    "            \n",
    "    # Perform random search for both scaled and unscaled versions\n",
    "    if best_params == {}:\n",
    "        print(f\"Performing random search for {dataset_name}...\")\n",
    "        best_params = random_search_slim(X, y, dataset_name, scale=True, p_train=p_train,\n",
    "                                            iterations=n_iter_rs, pop_size=pop_size, n_iter=n_iter,\n",
    "                                            struct_mutation=True, show_progress=False, x_o=False, identifier='just_strmut')\n",
    "        \n",
    "        print(f\"Random search for {dataset_name} completed!\")\n",
    "    \n",
    "    # Initialize dictionaries for scaled and unscaled results\n",
    "    metrics = ['rmse_', 'mape_', 'nrmse_', 'r2_', 'mae_', 'std_rmse_', 'time_stats', 'train_fit', 'test_fit', 'size']\n",
    "    results = {metric: {} for metric in metrics}\n",
    "\n",
    "    for algorithm in best_params:\n",
    "        # Retrieve the best hyperparameters for testing\n",
    "        args = best_params[algorithm]\n",
    "\n",
    "        # Test SLIM \n",
    "        rm, ma, nrmse, r2, mae, std_rmse, time, train, test, size = test_slim(\n",
    "            X=X, y=y, args_dict=args, dataset_name=dataset_loader.__name__,\n",
    "            ms_lower=0, ms_upper=1, n_elites=1,\n",
    "            iterations=n_iter_test, scale=True, algorithm=algorithm,\n",
    "            verbose=0, p_train=p_train, show_progress=False,\n",
    "        )\n",
    "        \n",
    "        # Initialize storage for each algorithm if not already present\n",
    "        for metric in metrics:\n",
    "            if algorithm not in results[metric]:\n",
    "                results[metric][algorithm] = []\n",
    "\n",
    "        # Store results\n",
    "        results['rmse_'][algorithm].append(rm)\n",
    "        results['mape_'][algorithm].append(ma)\n",
    "        results['nrmse_'][algorithm].append(nrmse)\n",
    "        results['r2_'][algorithm].append(r2)\n",
    "        results['mae_'][algorithm].append(mae)\n",
    "        results['std_rmse_'][algorithm].append(std_rmse)\n",
    "        results['time_stats'][algorithm].append(time)\n",
    "        results['train_fit'][algorithm].append(train)\n",
    "        results['test_fit'][algorithm].append(test)\n",
    "        results['size'][algorithm].append(size)        \n",
    "\n",
    "        print(f\"Results for {algorithm} on {dataset_name} saved!\")\n",
    "\n",
    "    # Save the results to disk\n",
    "    with open(f\"results/SLIM/{dataset_name}_just_strmut.pkl\", 'wb') as f:\n",
    "        pickle.dump(results, f)\n",
    "\n",
    "    print(f\"Results for {dataset_name} saved!\")\n",
    "    print(\"---------------------------------------------------\")"
   ]
  }
 ],
 "metadata": {
  "kernelspec": {
   "display_name": "Python 3",
   "language": "python",
   "name": "python3"
  },
  "language_info": {
   "codemirror_mode": {
    "name": "ipython",
    "version": 3
   },
   "file_extension": ".py",
   "mimetype": "text/x-python",
   "name": "python",
   "nbconvert_exporter": "python",
   "pygments_lexer": "ipython3",
   "version": "3.11.3"
  }
 },
 "nbformat": 4,
 "nbformat_minor": 2
}
