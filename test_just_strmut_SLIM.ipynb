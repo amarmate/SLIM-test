{
 "cells": [
  {
   "cell_type": "code",
   "execution_count": 3,
   "metadata": {},
   "outputs": [],
   "source": [
    "from functions.test_algorithms import *\n",
    "from functions.random_search import * \n",
    "from slim_gsgp_lib.datasets.data_loader import *\n",
    "import pickle\n",
    "\n",
    "datasets = [globals()[i] for i in globals() if 'load' in i][2:]"
   ]
  },
  {
   "cell_type": "markdown",
   "metadata": {},
   "source": [
    "#### Settings"
   ]
  },
  {
   "cell_type": "code",
   "execution_count": 13,
   "metadata": {},
   "outputs": [],
   "source": [
    "pop_size = 100 \n",
    "n_iter = 100\n",
    "n_iter_rs = 50\n",
    "n_iter_test = 30\n",
    "p_train = 0.7"
   ]
  },
  {
   "cell_type": "markdown",
   "metadata": {},
   "source": [
    "#### SLIM "
   ]
  },
  {
   "cell_type": "code",
   "execution_count": null,
   "metadata": {},
   "outputs": [
    {
     "name": "stderr",
     "output_type": "stream",
     "text": [
      "  0%|          | 0/16 [00:00<?, ?it/s]"
     ]
    },
    {
     "name": "stdout",
     "output_type": "stream",
     "text": [
      "Best hyperparameters for resid_build_sale_price already exist!\n",
      "Results for SLIM+SIG2 on resid_build_sale_price saved!\n",
      "Results for SLIM*SIG2 on resid_build_sale_price saved!\n",
      "Results for SLIM+ABS on resid_build_sale_price saved!\n",
      "Results for SLIM*ABS on resid_build_sale_price saved!\n",
      "Results for SLIM+SIG1 on resid_build_sale_price saved!\n"
     ]
    },
    {
     "name": "stderr",
     "output_type": "stream",
     "text": [
      "  6%|▋         | 1/16 [20:35<5:08:53, 1235.58s/it]"
     ]
    },
    {
     "name": "stdout",
     "output_type": "stream",
     "text": [
      "Results for SLIM*SIG1 on resid_build_sale_price saved!\n",
      "Results for resid_build_sale_price saved!\n",
      "---------------------------------------------------\n",
      "Performing random search for istanbul...\n",
      "Random search for istanbul completed!\n",
      "Results for SLIM+SIG2 on istanbul saved!\n",
      "Results for SLIM*SIG2 on istanbul saved!\n",
      "Results for SLIM+ABS on istanbul saved!\n",
      "Results for SLIM*ABS on istanbul saved!\n",
      "Results for SLIM+SIG1 on istanbul saved!\n"
     ]
    },
    {
     "name": "stderr",
     "output_type": "stream",
     "text": [
      " 12%|█▎        | 2/16 [1:07:57<8:28:45, 2180.36s/it]"
     ]
    },
    {
     "name": "stdout",
     "output_type": "stream",
     "text": [
      "Results for SLIM*SIG1 on istanbul saved!\n",
      "Results for istanbul saved!\n",
      "---------------------------------------------------\n",
      "Performing random search for airfoil...\n",
      "Random search for airfoil completed!\n",
      "Results for SLIM+SIG2 on airfoil saved!\n",
      "Results for SLIM*SIG2 on airfoil saved!\n",
      "Results for SLIM+ABS on airfoil saved!\n",
      "Results for SLIM*ABS on airfoil saved!\n",
      "Results for SLIM+SIG1 on airfoil saved!\n"
     ]
    },
    {
     "name": "stderr",
     "output_type": "stream",
     "text": [
      " 19%|█▉        | 3/16 [2:04:07<9:50:07, 2723.65s/it]"
     ]
    },
    {
     "name": "stdout",
     "output_type": "stream",
     "text": [
      "Results for SLIM*SIG1 on airfoil saved!\n",
      "Results for airfoil saved!\n",
      "---------------------------------------------------\n",
      "Performing random search for bike_sharing...\n",
      "Random search for bike_sharing completed!\n",
      "Results for SLIM+SIG2 on bike_sharing saved!\n",
      "Results for SLIM*SIG2 on bike_sharing saved!\n",
      "Results for SLIM+ABS on bike_sharing saved!\n",
      "Results for SLIM*ABS on bike_sharing saved!\n",
      "Results for SLIM+SIG1 on bike_sharing saved!\n"
     ]
    },
    {
     "name": "stderr",
     "output_type": "stream",
     "text": [
      " 25%|██▌       | 4/16 [2:51:03<9:12:03, 2760.32s/it]"
     ]
    },
    {
     "name": "stdout",
     "output_type": "stream",
     "text": [
      "Results for SLIM*SIG1 on bike_sharing saved!\n",
      "Results for bike_sharing saved!\n",
      "---------------------------------------------------\n",
      "Performing random search for boston...\n",
      "Random search for boston completed!\n",
      "Results for SLIM+SIG2 on boston saved!\n",
      "Results for SLIM*SIG2 on boston saved!\n",
      "Results for SLIM+ABS on boston saved!\n",
      "Results for SLIM*ABS on boston saved!\n",
      "Results for SLIM+SIG1 on boston saved!\n"
     ]
    },
    {
     "name": "stderr",
     "output_type": "stream",
     "text": [
      " 31%|███▏      | 5/16 [3:35:51<8:21:12, 2733.91s/it]"
     ]
    },
    {
     "name": "stdout",
     "output_type": "stream",
     "text": [
      "Results for SLIM*SIG1 on boston saved!\n",
      "Results for boston saved!\n",
      "---------------------------------------------------\n",
      "Performing random search for breast_cancer...\n",
      "Random search for breast_cancer completed!\n",
      "Results for SLIM+SIG2 on breast_cancer saved!\n",
      "Results for SLIM*SIG2 on breast_cancer saved!\n",
      "Results for SLIM+ABS on breast_cancer saved!\n",
      "Results for SLIM*ABS on breast_cancer saved!\n",
      "Results for SLIM+SIG1 on breast_cancer saved!\n"
     ]
    },
    {
     "name": "stderr",
     "output_type": "stream",
     "text": [
      " 38%|███▊      | 6/16 [4:21:19<7:35:20, 2732.06s/it]"
     ]
    },
    {
     "name": "stdout",
     "output_type": "stream",
     "text": [
      "Results for SLIM*SIG1 on breast_cancer saved!\n",
      "Results for breast_cancer saved!\n",
      "---------------------------------------------------\n",
      "Performing random search for concrete_slump...\n",
      "Random search for concrete_slump completed!\n",
      "Results for SLIM+SIG2 on concrete_slump saved!\n",
      "Results for SLIM*SIG2 on concrete_slump saved!\n",
      "Results for SLIM+ABS on concrete_slump saved!\n",
      "Results for SLIM*ABS on concrete_slump saved!\n",
      "Results for SLIM+SIG1 on concrete_slump saved!\n"
     ]
    },
    {
     "name": "stderr",
     "output_type": "stream",
     "text": [
      " 44%|████▍     | 7/16 [5:07:09<6:50:41, 2737.99s/it]"
     ]
    },
    {
     "name": "stdout",
     "output_type": "stream",
     "text": [
      "Results for SLIM*SIG1 on concrete_slump saved!\n",
      "Results for concrete_slump saved!\n",
      "---------------------------------------------------\n",
      "Performing random search for concrete_strength...\n",
      "Random search for concrete_strength completed!\n",
      "Results for SLIM+SIG2 on concrete_strength saved!\n",
      "Results for SLIM*SIG2 on concrete_strength saved!\n",
      "Results for SLIM+ABS on concrete_strength saved!\n",
      "Results for SLIM*ABS on concrete_strength saved!\n",
      "Results for SLIM+SIG1 on concrete_strength saved!\n"
     ]
    },
    {
     "name": "stderr",
     "output_type": "stream",
     "text": [
      " 50%|█████     | 8/16 [5:51:35<6:02:00, 2715.03s/it]"
     ]
    },
    {
     "name": "stdout",
     "output_type": "stream",
     "text": [
      "Results for SLIM*SIG1 on concrete_strength saved!\n",
      "Results for concrete_strength saved!\n",
      "---------------------------------------------------\n",
      "Performing random search for diabetes...\n",
      "Random search for diabetes completed!\n",
      "Results for SLIM+SIG2 on diabetes saved!\n",
      "Results for SLIM*SIG2 on diabetes saved!\n",
      "Results for SLIM+ABS on diabetes saved!\n",
      "Results for SLIM*ABS on diabetes saved!\n",
      "Results for SLIM+SIG1 on diabetes saved!\n"
     ]
    },
    {
     "name": "stderr",
     "output_type": "stream",
     "text": [
      " 56%|█████▋    | 9/16 [6:35:40<5:14:12, 2693.16s/it]"
     ]
    },
    {
     "name": "stdout",
     "output_type": "stream",
     "text": [
      "Results for SLIM*SIG1 on diabetes saved!\n",
      "Results for diabetes saved!\n",
      "---------------------------------------------------\n",
      "Performing random search for efficiency_heating...\n",
      "Random search for efficiency_heating completed!\n",
      "Results for SLIM+SIG2 on efficiency_heating saved!\n",
      "Results for SLIM*SIG2 on efficiency_heating saved!\n",
      "Results for SLIM+ABS on efficiency_heating saved!\n",
      "Results for SLIM*ABS on efficiency_heating saved!\n",
      "Results for SLIM+SIG1 on efficiency_heating saved!\n"
     ]
    },
    {
     "name": "stderr",
     "output_type": "stream",
     "text": [
      " 62%|██████▎   | 10/16 [7:22:01<4:32:01, 2720.30s/it]"
     ]
    },
    {
     "name": "stdout",
     "output_type": "stream",
     "text": [
      "Results for SLIM*SIG1 on efficiency_heating saved!\n",
      "Results for efficiency_heating saved!\n",
      "---------------------------------------------------\n",
      "Performing random search for efficiency_cooling...\n",
      "Random search for efficiency_cooling completed!\n",
      "Results for SLIM+SIG2 on efficiency_cooling saved!\n",
      "Results for SLIM*SIG2 on efficiency_cooling saved!\n",
      "Results for SLIM+ABS on efficiency_cooling saved!\n",
      "Results for SLIM*ABS on efficiency_cooling saved!\n",
      "Results for SLIM+SIG1 on efficiency_cooling saved!\n"
     ]
    },
    {
     "name": "stderr",
     "output_type": "stream",
     "text": [
      " 69%|██████▉   | 11/16 [8:11:13<3:52:35, 2791.04s/it]"
     ]
    },
    {
     "name": "stdout",
     "output_type": "stream",
     "text": [
      "Results for SLIM*SIG1 on efficiency_cooling saved!\n",
      "Results for efficiency_cooling saved!\n",
      "---------------------------------------------------\n",
      "Performing random search for forest_fires...\n",
      "Random search for forest_fires completed!\n",
      "Results for SLIM+SIG2 on forest_fires saved!\n",
      "Results for SLIM*SIG2 on forest_fires saved!\n",
      "Results for SLIM+ABS on forest_fires saved!\n",
      "Results for SLIM*ABS on forest_fires saved!\n",
      "Results for SLIM+SIG1 on forest_fires saved!\n"
     ]
    },
    {
     "name": "stderr",
     "output_type": "stream",
     "text": [
      " 75%|███████▌  | 12/16 [8:58:25<3:06:53, 2803.45s/it]"
     ]
    },
    {
     "name": "stdout",
     "output_type": "stream",
     "text": [
      "Results for SLIM*SIG1 on forest_fires saved!\n",
      "Results for forest_fires saved!\n",
      "---------------------------------------------------\n",
      "Performing random search for parkinson_updrs...\n"
     ]
    }
   ],
   "source": [
    "for dataset_loader in tqdm(datasets):\n",
    "    X, y = dataset_loader()\n",
    "    dataset_name = dataset_loader.__name__.split('load_')[1]\n",
    "\n",
    "    # Test if the best hyperparameters are valid\n",
    "    try: \n",
    "        with open(f\"best_params/best_slim_{dataset_name}_{pop_size}_{n_iter}_True_just_strmut.pkl\", 'rb') as f:\n",
    "            best_params = pickle.load(f)\n",
    "            print(f\"Best hyperparameters for {dataset_name} already exist!\")\n",
    "    except:\n",
    "        best_params = {}\n",
    "            \n",
    "    # Perform random search for both scaled and unscaled versions\n",
    "    if best_params == {}:\n",
    "        print(f\"Performing random search for {dataset_name}...\")\n",
    "        best_params = random_search_slim(X, y, dataset_name, scale=True, p_train=p_train,\n",
    "                                            iterations=n_iter_rs, pop_size=pop_size, n_iter=n_iter,\n",
    "                                            struct_mutation=True, show_progress=False, x_o=False, identifier='just_strmut')\n",
    "        \n",
    "        print(f\"Random search for {dataset_name} completed!\")\n",
    "    \n",
    "    # Initialize dictionaries for scaled and unscaled results\n",
    "    metrics = ['rmse_', 'mape_', 'nrmse_', 'r2_', 'mae_', 'std_rmse_', 'time_stats', 'train_fit', 'test_fit', 'size']\n",
    "    results = {metric: {} for metric in metrics}\n",
    "\n",
    "    for algorithm in best_params:\n",
    "        # Retrieve the best hyperparameters for testing\n",
    "        args = best_params[algorithm]\n",
    "\n",
    "        # Test SLIM \n",
    "        rm, ma, nrmse, r2, mae, std_rmse, time, train, test, size = test_slim(\n",
    "            X=X, y=y, args_dict=args, dataset_name=dataset_loader.__name__,\n",
    "            ms_lower=0, ms_upper=1, n_elites=1,\n",
    "            iterations=n_iter_test, scale=True, algorithm=algorithm,\n",
    "            verbose=0, p_train=p_train, show_progress=False,\n",
    "        )\n",
    "        \n",
    "        # Initialize storage for each algorithm if not already present\n",
    "        for metric in metrics:\n",
    "            if algorithm not in results[metric]:\n",
    "                results[metric][algorithm] = []\n",
    "\n",
    "        # Store results\n",
    "        results['rmse_'][algorithm].append(rm)\n",
    "        results['mape_'][algorithm].append(ma)\n",
    "        results['nrmse_'][algorithm].append(nrmse)\n",
    "        results['r2_'][algorithm].append(r2)\n",
    "        results['mae_'][algorithm].append(mae)\n",
    "        results['std_rmse_'][algorithm].append(std_rmse)\n",
    "        results['time_stats'][algorithm].append(time)\n",
    "        results['train_fit'][algorithm].append(train)\n",
    "        results['test_fit'][algorithm].append(test)\n",
    "        results['size'][algorithm].append(size)        \n",
    "\n",
    "        print(f\"Results for {algorithm} on {dataset_name} saved!\")\n",
    "\n",
    "    # Save the results to disk\n",
    "    with open(f\"results/SLIM/{dataset_name}_just_strmut.pkl\", 'wb') as f:\n",
    "        pickle.dump(results, f)\n",
    "\n",
    "    print(f\"Results for {dataset_name} saved!\")\n",
    "    print(\"---------------------------------------------------\")"
   ]
  }
 ],
 "metadata": {
  "kernelspec": {
   "display_name": "Python 3",
   "language": "python",
   "name": "python3"
  },
  "language_info": {
   "codemirror_mode": {
    "name": "ipython",
    "version": 3
   },
   "file_extension": ".py",
   "mimetype": "text/x-python",
   "name": "python",
   "nbconvert_exporter": "python",
   "pygments_lexer": "ipython3",
   "version": "3.11.3"
  }
 },
 "nbformat": 4,
 "nbformat_minor": 2
}
