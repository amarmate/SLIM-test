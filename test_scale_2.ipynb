{
 "cells": [
  {
   "cell_type": "code",
   "execution_count": 1,
   "metadata": {},
   "outputs": [],
   "source": [
    "from functions.test_algorithms import *\n",
    "from functions.random_search import * \n",
    "from slim_gsgp_lib.datasets.data_loader import *\n",
    "import pickle\n",
    "\n",
    "datasets = [globals()[i] for i in globals() if 'load' in i][2:]\n",
    "\n",
    "pop_size = 100 \n",
    "n_iter = 100\n",
    "n_iter_rs = 50\n",
    "n_iter_test = 30\n",
    "p_train = 0.7"
   ]
  },
  {
   "cell_type": "code",
   "execution_count": null,
   "metadata": {},
   "outputs": [
    {
     "name": "stderr",
     "output_type": "stream",
     "text": [
      "  0%|          | 0/16 [00:00<?, ?it/s]"
     ]
    },
    {
     "name": "stdout",
     "output_type": "stream",
     "text": [
      "Individual normal size\n"
     ]
    },
    {
     "name": "stderr",
     "output_type": "stream",
     "text": []
    },
    {
     "name": "stdout",
     "output_type": "stream",
     "text": [
      "Individual normal size\n"
     ]
    },
    {
     "name": "stderr",
     "output_type": "stream",
     "text": []
    },
    {
     "name": "stdout",
     "output_type": "stream",
     "text": [
      "Individual normal size\n"
     ]
    },
    {
     "name": "stderr",
     "output_type": "stream",
     "text": []
    },
    {
     "name": "stdout",
     "output_type": "stream",
     "text": [
      "Individual normal size\n"
     ]
    },
    {
     "name": "stderr",
     "output_type": "stream",
     "text": []
    },
    {
     "name": "stdout",
     "output_type": "stream",
     "text": [
      "Individual normal size\n"
     ]
    },
    {
     "name": "stderr",
     "output_type": "stream",
     "text": []
    },
    {
     "name": "stdout",
     "output_type": "stream",
     "text": [
      "Individual normal size\n"
     ]
    },
    {
     "name": "stderr",
     "output_type": "stream",
     "text": []
    },
    {
     "name": "stdout",
     "output_type": "stream",
     "text": [
      "Individual normal size\n"
     ]
    }
   ],
   "source": [
    "for dataset_loader in tqdm(datasets):\n",
    "    X, y = dataset_loader()\n",
    "    dataset_name = dataset_loader.__name__.split('load_')[1]\n",
    "    \n",
    "    # Perform random search for both scaled and unscaled versions\n",
    "    best_params_unscaled = random_search_gsgp(X, y, dataset_name, scale=False, p_train=p_train,\n",
    "                                            iterations=n_iter_rs, pop_size=pop_size, n_iter=n_iter)\n",
    "    \n",
    "    best_params_scaled = random_search_gsgp(X, y, dataset_name, scale=True, p_train=p_train,\n",
    "                                        iterations=n_iter_rs, pop_size=pop_size, n_iter=n_iter)\n",
    "    \n",
    "    \n",
    "    # Initialize dictionaries for scaled and unscaled results\n",
    "    metrics = ['rm', 'ma', 'nrmse', 'r2', 'mae', 'std_rmse', 'time', 'train', 'test', 'size']\n",
    "    results_scaled_dict = {metric: [] for metric in metrics}\n",
    "    results_unscaled_dict = {metric: [] for metric in metrics}\n",
    "\n",
    "    # Test the scaled and unscaled versions in GSGP \n",
    "    rm_sc, ma_sc, nrmse_sc, r2_sc, mae_sc, std_rmse_sc, time_sc, train_sc, test_sc, size_sc = test_gsgp(\n",
    "        X=X, y=y, args_dict=best_params_scaled, dataset_name=dataset_name,\n",
    "        scale=True, verbose=0, p_train=p_train,\n",
    "    )\n",
    "\n",
    "    rm_un, ma_un, nrmse_un, r2_un, mae_un, std_rmse_un, time_un, train_un, test_un, size_un = test_gsgp(\n",
    "        X=X, y=y, args_dict=best_params_unscaled, dataset_name=dataset_name,\n",
    "        scale=False, verbose=0, p_train=p_train,\n",
    "    )\n",
    "\n",
    "    # Initialize storage for each algorithm if not already present\n",
    "    for metric in metrics:\n",
    "        results_scaled_dict[metric].extend(eval(metric + '_sc'))\n",
    "        results_unscaled_dict[metric].extend(eval(metric + '_un'))\n",
    "\n",
    "    # Save the results to disk\n",
    "    with open(f\"results/{dataset_name}_gsgp_scaled.pkl\", 'wb') as f:\n",
    "        pickle.dump(results_scaled_dict, f)\n",
    "\n",
    "    with open(f\"results/{dataset_name}_gsgp_unscaled.pkl\", 'wb') as f:\n",
    "        pickle.dump(results_unscaled_dict, f)\n",
    "        \n",
    "    print(f\"Results for {dataset_name} saved!\")\n",
    "    print(\"---------------------------------------------------\")    "
   ]
  }
 ],
 "metadata": {
  "kernelspec": {
   "display_name": "Python 3",
   "language": "python",
   "name": "python3"
  },
  "language_info": {
   "codemirror_mode": {
    "name": "ipython",
    "version": 3
   },
   "file_extension": ".py",
   "mimetype": "text/x-python",
   "name": "python",
   "nbconvert_exporter": "python",
   "pygments_lexer": "ipython3",
   "version": "3.11.9"
  }
 },
 "nbformat": 4,
 "nbformat_minor": 2
}
