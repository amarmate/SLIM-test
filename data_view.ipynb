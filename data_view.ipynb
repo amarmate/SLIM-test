{
 "cells": [
  {
   "cell_type": "code",
   "execution_count": 12,
   "metadata": {},
   "outputs": [],
   "source": [
    "import pickle\n",
    "import numpy as np"
   ]
  },
  {
   "cell_type": "code",
   "execution_count": 5,
   "metadata": {},
   "outputs": [],
   "source": [
    "with open('results\\\\resid_build_sale_price_scaled.pkl', 'rb') as f:\n",
    "    resid_build_sale_price_scaled = pickle.load(f)\n",
    "    \n",
    "with open('results\\\\resid_build_sale_price_unscaled.pkl', 'rb') as f:\n",
    "    resid_build_sale_price_unscaled = pickle.load(f)\n"
   ]
  },
  {
   "cell_type": "code",
   "execution_count": 15,
   "metadata": {},
   "outputs": [
    {
     "name": "stdout",
     "output_type": "stream",
     "text": [
      "SLIM+SIG2 0.10887855937083563 0.025679670296976362\n",
      "SLIM*SIG2 0.09609260881940523 0.043292236749372326\n",
      "SLIM+ABS 0.1251263382534186 0.029406425099751717\n",
      "SLIM*ABS 0.08772312477231026 0.035586460091969516\n",
      "SLIM+SIG1 0.09358950480818748 0.02757462555056221\n",
      "SLIM*SIG1 0.0913713339716196 0.026788401860152335\n"
     ]
    }
   ],
   "source": [
    "for key, value in resid_build_sale_price_scaled['nrmse_'].items():\n",
    "    print(key, np.array(value).mean(), np.array(value).std())"
   ]
  },
  {
   "cell_type": "code",
   "execution_count": 16,
   "metadata": {},
   "outputs": [
    {
     "name": "stdout",
     "output_type": "stream",
     "text": [
      "SLIM+SIG2 0.14688838099439938 0.050725108447878475\n",
      "SLIM*SIG2 0.1191505953669548 0.02724966392530237\n",
      "SLIM+ABS 0.18682306843499344 0.05242998993396018\n",
      "SLIM*ABS 0.10106615113715331 0.025763717653572778\n",
      "SLIM+SIG1 0.1480842595299085 0.05126298028868541\n",
      "SLIM*SIG1 0.10531025690337022 0.026037742241489026\n"
     ]
    }
   ],
   "source": [
    "for key, value in resid_build_sale_price_unscaled['nrmse_'].items():\n",
    "    print(key, np.array(value).mean(), np.array(value).std())"
   ]
  }
 ],
 "metadata": {
  "kernelspec": {
   "display_name": "Python 3",
   "language": "python",
   "name": "python3"
  },
  "language_info": {
   "codemirror_mode": {
    "name": "ipython",
    "version": 3
   },
   "file_extension": ".py",
   "mimetype": "text/x-python",
   "name": "python",
   "nbconvert_exporter": "python",
   "pygments_lexer": "ipython3",
   "version": "3.11.9"
  }
 },
 "nbformat": 4,
 "nbformat_minor": 2
}
