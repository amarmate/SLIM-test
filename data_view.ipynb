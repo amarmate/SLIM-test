{
 "cells": [
  {
   "cell_type": "code",
   "execution_count": 1,
   "metadata": {},
   "outputs": [],
   "source": [
    "import pickle\n",
    "import numpy as np"
   ]
  },
  {
   "cell_type": "code",
   "execution_count": 17,
   "metadata": {},
   "outputs": [],
   "source": [
    "import os \n",
    "path = \"C:\\\\Users\\\\Mateus\\\\Documents\\\\Tese\\\\Codigo\\\\SLIM-Tests\\\\results\\\\GSGP\\\\resid_build_sale_price_gsgp\"\n",
    "\n",
    "with open(path+'_unscaled.pkl', 'rb') as f:\n",
    "    resid_build_sale_price_gsgp_unscaled = pickle.load(f)\n",
    "\n",
    "with open(path+'_scaled.pkl', 'rb') as f:\n",
    "    resid_build_sale_price_gsgp_scaled = pickle.load(f)"
   ]
  },
  {
   "cell_type": "code",
   "execution_count": 33,
   "metadata": {},
   "outputs": [
    {
     "name": "stdout",
     "output_type": "stream",
     "text": [
      "Mean for scaled:  0.088 Std for scaled:  0.023\n",
      "Mean for unscaled:  0.139 Std for unscaled:  0.041\n"
     ]
    }
   ],
   "source": [
    "print('Mean for scaled: ', round(np.mean(resid_build_sale_price_gsgp_scaled['nrmse']),3), 'Std for scaled: ', round(np.std(resid_build_sale_price_gsgp_scaled['nrmse']),3))\n",
    "print('Mean for unscaled: ', round(np.mean(resid_build_sale_price_gsgp_unscaled['nrmse']),3), 'Std for unscaled: ', round(np.std(resid_build_sale_price_gsgp_unscaled['nrmse']),3))"
   ]
  }
 ],
 "metadata": {
  "kernelspec": {
   "display_name": "Python 3",
   "language": "python",
   "name": "python3"
  },
  "language_info": {
   "codemirror_mode": {
    "name": "ipython",
    "version": 3
   },
   "file_extension": ".py",
   "mimetype": "text/x-python",
   "name": "python",
   "nbconvert_exporter": "python",
   "pygments_lexer": "ipython3",
   "version": "3.11.3"
  }
 },
 "nbformat": 4,
 "nbformat_minor": 2
}
