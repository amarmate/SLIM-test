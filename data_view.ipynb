{
 "cells": [
  {
   "cell_type": "code",
   "execution_count": 151,
   "metadata": {},
   "outputs": [],
   "source": [
    "import pickle\n",
    "import numpy as np\n",
    "import os \n",
    "import pandas as pd\n",
    "\n",
    "\n",
    "from functions.test_algorithms import *\n",
    "from functions.random_search import * \n",
    "from slim_gsgp_lib.datasets.data_loader import *\n",
    "import pickle\n",
    "datasets = [globals()[i] for i in globals() if 'load' in i][2:]"
   ]
  },
  {
   "cell_type": "code",
   "execution_count": 103,
   "metadata": {},
   "outputs": [],
   "source": [
    "datasets = []\n",
    "for filename in os.listdir('results/SLIM'):\n",
    "    if 'struct' in filename:\n",
    "        datasets.append(filename.split('_struct')[0])"
   ]
  },
  {
   "cell_type": "code",
   "execution_count": 147,
   "metadata": {},
   "outputs": [
    {
     "data": {
      "text/plain": [
       "['best_gp_istanbul_100_100_False.pkl',\n",
       " 'best_gp_istanbul_100_100_True.pkl',\n",
       " 'best_gp_resid_build_sale_price_100_100_False.pkl',\n",
       " 'best_gp_resid_build_sale_price_100_100_True.pkl',\n",
       " 'best_gsgp_airfoil_100_100_False.pkl',\n",
       " 'best_gsgp_airfoil_100_100_True.pkl',\n",
       " 'best_gsgp_bike_sharing_100_100_False.pkl',\n",
       " 'best_gsgp_bike_sharing_100_100_True.pkl',\n",
       " 'best_gsgp_bioav_100_100_False.pkl',\n",
       " 'best_gsgp_bioav_100_100_True.pkl',\n",
       " 'best_gsgp_boston_100_100_False.pkl',\n",
       " 'best_gsgp_boston_100_100_True.pkl',\n",
       " 'best_gsgp_breast_cancer_100_100_False.pkl',\n",
       " 'best_gsgp_breast_cancer_100_100_True.pkl',\n",
       " 'best_gsgp_concrete_slump_100_100_False.pkl',\n",
       " 'best_gsgp_concrete_slump_100_100_True.pkl',\n",
       " 'best_gsgp_concrete_strength_100_100_False.pkl',\n",
       " 'best_gsgp_concrete_strength_100_100_True.pkl',\n",
       " 'best_gsgp_diabetes_100_100_False.pkl',\n",
       " 'best_gsgp_diabetes_100_100_True.pkl',\n",
       " 'best_gsgp_efficiency_cooling_100_100_False.pkl',\n",
       " 'best_gsgp_efficiency_cooling_100_100_True.pkl',\n",
       " 'best_gsgp_efficiency_heating_100_100_False.pkl',\n",
       " 'best_gsgp_efficiency_heating_100_100_True.pkl',\n",
       " 'best_gsgp_forest_fires_100_100_False.pkl',\n",
       " 'best_gsgp_forest_fires_100_100_True.pkl',\n",
       " 'best_gsgp_istanbul_100_100_False.pkl',\n",
       " 'best_gsgp_istanbul_100_100_True.pkl',\n",
       " 'best_gsgp_ld50_100_100_False.pkl',\n",
       " 'best_gsgp_ld50_100_100_True.pkl',\n",
       " 'best_gsgp_parkinson_updrs_100_100_False.pkl',\n",
       " 'best_gsgp_parkinson_updrs_100_100_True.pkl',\n",
       " 'best_gsgp_ppb_100_100_False.pkl',\n",
       " 'best_gsgp_ppb_100_100_True.pkl',\n",
       " 'best_gsgp_resid_build_sale_price_100_100_False.pkl',\n",
       " 'best_gsgp_resid_build_sale_price_100_100_True.pkl',\n",
       " 'best_slim_airfoil_100_100_False.pkl',\n",
       " 'best_slim_airfoil_100_100_True.pkl',\n",
       " 'best_slim_airfoil_100_100_True_just_strmut.pkl',\n",
       " 'best_slim_airfoil_100_100_True_struct.pkl',\n",
       " 'best_slim_bike_sharing_100_100_False.pkl',\n",
       " 'best_slim_bike_sharing_100_100_True.pkl',\n",
       " 'best_slim_bike_sharing_100_100_True_just_strmut.pkl',\n",
       " 'best_slim_bike_sharing_100_100_True_struct.pkl',\n",
       " 'best_slim_bioav_100_100_False.pkl',\n",
       " 'best_slim_bioav_100_100_True.pkl',\n",
       " 'best_slim_bioav_100_100_True_struct.pkl',\n",
       " 'best_slim_boston_100_100_False.pkl',\n",
       " 'best_slim_boston_100_100_True.pkl',\n",
       " 'best_slim_boston_100_100_True_just_strmut.pkl',\n",
       " 'best_slim_boston_100_100_True_struct.pkl',\n",
       " 'best_slim_breast_cancer_100_100_False.pkl',\n",
       " 'best_slim_breast_cancer_100_100_True.pkl',\n",
       " 'best_slim_breast_cancer_100_100_True_just_strmut.pkl',\n",
       " 'best_slim_breast_cancer_100_100_True_struct.pkl',\n",
       " 'best_slim_concrete_slump_100_100_False.pkl',\n",
       " 'best_slim_concrete_slump_100_100_True.pkl',\n",
       " 'best_slim_concrete_slump_100_100_True_just_strmut.pkl',\n",
       " 'best_slim_concrete_slump_100_100_True_struct.pkl',\n",
       " 'best_slim_concrete_strength_100_100_False.pkl',\n",
       " 'best_slim_concrete_strength_100_100_True.pkl',\n",
       " 'best_slim_concrete_strength_100_100_True_just_strmut.pkl',\n",
       " 'best_slim_concrete_strength_100_100_True_struct.pkl',\n",
       " 'best_slim_diabetes_100_100_False.pkl',\n",
       " 'best_slim_diabetes_100_100_True.pkl',\n",
       " 'best_slim_diabetes_100_100_True_just_strmut.pkl',\n",
       " 'best_slim_diabetes_100_100_True_struct.pkl',\n",
       " 'best_slim_efficiency_cooling_100_100_False.pkl',\n",
       " 'best_slim_efficiency_cooling_100_100_True.pkl',\n",
       " 'best_slim_efficiency_cooling_100_100_True_just_strmut.pkl',\n",
       " 'best_slim_efficiency_cooling_100_100_True_struct.pkl',\n",
       " 'best_slim_efficiency_heating_100_100_False.pkl',\n",
       " 'best_slim_efficiency_heating_100_100_True.pkl',\n",
       " 'best_slim_efficiency_heating_100_100_True_just_strmut.pkl',\n",
       " 'best_slim_efficiency_heating_100_100_True_struct.pkl',\n",
       " 'best_slim_forest_fires_100_100_False.pkl',\n",
       " 'best_slim_forest_fires_100_100_True.pkl',\n",
       " 'best_slim_forest_fires_100_100_True_just_strmut.pkl',\n",
       " 'best_slim_forest_fires_100_100_True_struct.pkl',\n",
       " 'best_slim_istanbul_100_100_False.pkl',\n",
       " 'best_slim_istanbul_100_100_True.pkl',\n",
       " 'best_slim_istanbul_100_100_True_just_strmut.pkl',\n",
       " 'best_slim_istanbul_100_100_True_struct.pkl',\n",
       " 'best_slim_ld50_100_100_False.pkl',\n",
       " 'best_slim_ld50_100_100_True.pkl',\n",
       " 'best_slim_ld50_100_100_True_struct.pkl',\n",
       " 'best_slim_parkinson_updrs_100_100_False.pkl',\n",
       " 'best_slim_parkinson_updrs_100_100_True.pkl',\n",
       " 'best_slim_parkinson_updrs_100_100_True_just_strmut.pkl',\n",
       " 'best_slim_parkinson_updrs_100_100_True_struct.pkl',\n",
       " 'best_slim_ppb_100_100_False.pkl',\n",
       " 'best_slim_ppb_100_100_True.pkl',\n",
       " 'best_slim_ppb_100_100_True_struct.pkl',\n",
       " 'best_slim_resid_build_sale_price_100_100_False.pkl',\n",
       " 'best_slim_resid_build_sale_price_100_100_True.pkl',\n",
       " 'best_slim_resid_build_sale_price_100_100_True_just_strmut.pkl',\n",
       " 'best_slim_resid_build_sale_price_100_100_True_just_strxo.pkl',\n",
       " 'best_slim_resid_build_sale_price_100_100_True_struct.pkl']"
      ]
     },
     "execution_count": 147,
     "metadata": {},
     "output_type": "execute_result"
    }
   ],
   "source": [
    "os.listdir('best_params')"
   ]
  },
  {
   "cell_type": "code",
   "execution_count": 148,
   "metadata": {},
   "outputs": [
    {
     "data": {
      "text/plain": [
       "{'SLIM+SIG2': {'p_inflate': 0.6,\n",
       "  'max_depth': 18,\n",
       "  'init_depth': 9,\n",
       "  'prob_const': 0.2,\n",
       "  'prob_replace': 0,\n",
       "  'p_prune': 0,\n",
       "  'p_xo': 0,\n",
       "  'p_struct_xo': 0},\n",
       " 'SLIM*SIG2': {'p_inflate': 0.6,\n",
       "  'max_depth': 24,\n",
       "  'init_depth': 5,\n",
       "  'prob_const': 0.1,\n",
       "  'prob_replace': 0,\n",
       "  'p_prune': 0,\n",
       "  'p_xo': 0,\n",
       "  'p_struct_xo': 0},\n",
       " 'SLIM+ABS': {'p_inflate': 0.4,\n",
       "  'max_depth': 23,\n",
       "  'init_depth': 6,\n",
       "  'prob_const': 0.15,\n",
       "  'prob_replace': 0,\n",
       "  'p_prune': 0,\n",
       "  'p_xo': 0,\n",
       "  'p_struct_xo': 0},\n",
       " 'SLIM*ABS': {'p_inflate': 0.9,\n",
       "  'max_depth': 18,\n",
       "  'init_depth': 5,\n",
       "  'prob_const': 0.05,\n",
       "  'prob_replace': 0,\n",
       "  'p_prune': 0,\n",
       "  'p_xo': 0,\n",
       "  'p_struct_xo': 0},\n",
       " 'SLIM+SIG1': {'p_inflate': 0.5,\n",
       "  'max_depth': 18,\n",
       "  'init_depth': 10,\n",
       "  'prob_const': 0.15,\n",
       "  'prob_replace': 0,\n",
       "  'p_prune': 0,\n",
       "  'p_xo': 0,\n",
       "  'p_struct_xo': 0},\n",
       " 'SLIM*SIG1': {'p_inflate': 0.9,\n",
       "  'max_depth': 23,\n",
       "  'init_depth': 6,\n",
       "  'prob_const': 0.2,\n",
       "  'prob_replace': 0,\n",
       "  'p_prune': 0,\n",
       "  'p_xo': 0,\n",
       "  'p_struct_xo': 0}}"
      ]
     },
     "execution_count": 148,
     "metadata": {},
     "output_type": "execute_result"
    }
   ],
   "source": [
    "with open('best_params/best_slim_airfoil_100_100_True.pkl', 'rb') as f:\n",
    "    best_params = pickle.load(f)\n",
    "\n",
    "best_params"
   ]
  },
  {
   "cell_type": "code",
   "execution_count": 150,
   "metadata": {},
   "outputs": [
    {
     "data": {
      "text/plain": [
       "{'SLIM+SIG2': {'p_inflate': 0.6,\n",
       "  'max_depth': 15,\n",
       "  'init_depth': 5,\n",
       "  'prob_const': 0.2,\n",
       "  'prob_replace': 0.01,\n",
       "  'p_prune': 0.7,\n",
       "  'p_xo': 0.8,\n",
       "  'p_struct_xo': 0.7},\n",
       " 'SLIM*SIG2': {'p_inflate': 0.6,\n",
       "  'max_depth': 22,\n",
       "  'init_depth': 5,\n",
       "  'prob_const': 0.15,\n",
       "  'prob_replace': 0.01,\n",
       "  'p_prune': 0.5,\n",
       "  'p_xo': 0.7,\n",
       "  'p_struct_xo': 0.7},\n",
       " 'SLIM+ABS': {'p_inflate': 0.1,\n",
       "  'max_depth': 19,\n",
       "  'init_depth': 5,\n",
       "  'prob_const': 0.1,\n",
       "  'prob_replace': 0.025,\n",
       "  'p_prune': 0.2,\n",
       "  'p_xo': 0.5,\n",
       "  'p_struct_xo': 0.4},\n",
       " 'SLIM*ABS': {'p_inflate': 0.9,\n",
       "  'max_depth': 13,\n",
       "  'init_depth': 5,\n",
       "  'prob_const': 0.15,\n",
       "  'prob_replace': 0.02,\n",
       "  'p_prune': 0.4,\n",
       "  'p_xo': 0.6,\n",
       "  'p_struct_xo': 0.3},\n",
       " 'SLIM+SIG1': {'p_inflate': 0.5,\n",
       "  'max_depth': 15,\n",
       "  'init_depth': 7,\n",
       "  'prob_const': 0.2,\n",
       "  'prob_replace': 0.025,\n",
       "  'p_prune': 0.7,\n",
       "  'p_xo': 0.3,\n",
       "  'p_struct_xo': 0.4},\n",
       " 'SLIM*SIG1': {'p_inflate': 0.3,\n",
       "  'max_depth': 21,\n",
       "  'init_depth': 10,\n",
       "  'prob_const': 0.1,\n",
       "  'prob_replace': 0.01,\n",
       "  'p_prune': 0.6,\n",
       "  'p_xo': 0.2,\n",
       "  'p_struct_xo': 0.7}}"
      ]
     },
     "execution_count": 150,
     "metadata": {},
     "output_type": "execute_result"
    }
   ],
   "source": [
    "with open('best_params/best_slim_bike_sharing_100_100_True_struct.pkl', 'rb') as f:\n",
    "    best_params = pickle.load(f)\n",
    "\n",
    "best_params"
   ]
  },
  {
   "cell_type": "code",
   "execution_count": 175,
   "metadata": {},
   "outputs": [
    {
     "name": "stdout",
     "output_type": "stream",
     "text": [
      "13.79 14.83 12.08 0.93\n",
      "6.37 3.67 0.42 1.74\n",
      "30.45 30.84 26.66 0.99\n",
      "12.91 11.72 8.52 1.10\n",
      "27.64 27.58 15.46 1.00\n",
      "27.72 28.31 22.98 0.98\n",
      "12.65 12.85 10.45 0.98\n",
      "18.01 17.82 16.71 1.01\n",
      "9.92 9.21 8.94 1.08\n",
      "9.25 8.79 8.46 1.05\n",
      "20.73 20.81 18.47 1.00\n",
      "8.67 8.51 7.18 1.02\n",
      "25.22 24.79 20.86 1.02\n",
      "20.82 20.84 20.62 1.00\n",
      "30.47 30.58 25.92 1.00\n",
      "7.04 5.40 3.08 1.30\n"
     ]
    }
   ],
   "source": [
    "df_stats = pd.DataFrame(columns=[\"SLIM+SIG2\", \"SLIM*SIG2\", \"SLIM+ABS\", \"SLIM*ABS\", \"SLIM+SIG1\", \"SLIM*SIG1\"], index=datasets)\n",
    "for filename in os.listdir('results/SLIM'):\n",
    "    # For each dataset\n",
    "    if 'struct' in filename:\n",
    "        name = filename.split('_struct')[0]\n",
    "    \n",
    "    else: \n",
    "        continue\n",
    "\n",
    "    with open('results/SLIM/' + name+'_scaled.pkl', 'rb') as f:\n",
    "        results = pickle.load(f)\n",
    "        mean_rmse = np.array([np.mean(values) for keys, values in results['rmse_'].items()])\n",
    "        std_rmse = np.array([np.std(values) for keys, values in results['rmse_'].items()])\n",
    "        mean_size = np.array([np.mean(values) for keys, values in results['size'].items()])\n",
    "        std_size = np.array([np.std(values) for keys, values in results['size'].items()])\n",
    "\n",
    "    with open('results/SLIM/' + name+'_struct.pkl', 'rb') as f:\n",
    "        results = pickle.load(f)\n",
    "        mean_rmse_struct = np.array([np.mean(values) for keys, values in results['rmse_'].items()])\n",
    "        std_rmse_struct = np.array([np.std(values) for keys, values in results['rmse_'].items()])\n",
    "        mean_size_struct = np.array([np.mean(values) for keys, values in results['size'].items()])\n",
    "        std_size_struct = np.array([np.std(values) for keys, values in results['size'].items()])\n",
    "\n",
    "    print(\"{:.2f}\".format(100*mean_rmse.min()), \"{:.2f}\".format(100*mean_rmse_struct.min()), \"{:.2f}\".format(results_corr[name]), \"{:.2f}\".format(mean_rmse.min()/mean_rmse_struct.min()))\n",
    "    # print(mean_size.min(), mean_size_struct.min())"
   ]
  },
  {
   "cell_type": "code",
   "execution_count": 165,
   "metadata": {},
   "outputs": [
    {
     "name": "stderr",
     "output_type": "stream",
     "text": [
      "  0%|          | 0/15 [00:00<?, ?it/s]"
     ]
    },
    {
     "name": "stderr",
     "output_type": "stream",
     "text": [
      "100%|██████████| 15/15 [01:26<00:00,  5.76s/it]\n"
     ]
    },
    {
     "name": "stdout",
     "output_type": "stream",
     "text": [
      "load_resid_build_sale_price 3.077119402587414\n"
     ]
    },
    {
     "name": "stderr",
     "output_type": "stream",
     "text": [
      "100%|██████████| 15/15 [01:39<00:00,  6.61s/it]\n"
     ]
    },
    {
     "name": "stdout",
     "output_type": "stream",
     "text": [
      "load_istanbul 7.180445641279221\n"
     ]
    },
    {
     "name": "stderr",
     "output_type": "stream",
     "text": [
      "100%|██████████| 15/15 [01:43<00:00,  6.92s/it]\n"
     ]
    },
    {
     "name": "stdout",
     "output_type": "stream",
     "text": [
      "load_airfoil 12.081281840801239\n"
     ]
    },
    {
     "name": "stderr",
     "output_type": "stream",
     "text": [
      "100%|██████████| 15/15 [01:41<00:00,  6.77s/it]\n"
     ]
    },
    {
     "name": "stdout",
     "output_type": "stream",
     "text": [
      "load_bike_sharing 0.4183435346931219\n"
     ]
    },
    {
     "name": "stderr",
     "output_type": "stream",
     "text": [
      "100%|██████████| 15/15 [01:22<00:00,  5.52s/it]\n"
     ]
    },
    {
     "name": "stdout",
     "output_type": "stream",
     "text": [
      "load_boston 8.515595644712448\n"
     ]
    },
    {
     "name": "stderr",
     "output_type": "stream",
     "text": [
      "100%|██████████| 15/15 [01:31<00:00,  6.09s/it]\n"
     ]
    },
    {
     "name": "stdout",
     "output_type": "stream",
     "text": [
      "load_breast_cancer 15.458212792873383\n"
     ]
    },
    {
     "name": "stderr",
     "output_type": "stream",
     "text": [
      "100%|██████████| 15/15 [01:32<00:00,  6.19s/it]\n"
     ]
    },
    {
     "name": "stdout",
     "output_type": "stream",
     "text": [
      "load_concrete_slump 22.982238233089447\n"
     ]
    },
    {
     "name": "stderr",
     "output_type": "stream",
     "text": [
      "100%|██████████| 15/15 [01:29<00:00,  5.96s/it]\n"
     ]
    },
    {
     "name": "stdout",
     "output_type": "stream",
     "text": [
      "load_concrete_strength 10.452596098184586\n"
     ]
    },
    {
     "name": "stderr",
     "output_type": "stream",
     "text": [
      "100%|██████████| 15/15 [01:26<00:00,  5.76s/it]\n"
     ]
    },
    {
     "name": "stdout",
     "output_type": "stream",
     "text": [
      "load_diabetes 16.705723106861115\n"
     ]
    },
    {
     "name": "stderr",
     "output_type": "stream",
     "text": [
      "100%|██████████| 15/15 [01:25<00:00,  5.67s/it]\n"
     ]
    },
    {
     "name": "stdout",
     "output_type": "stream",
     "text": [
      "load_efficiency_heating 8.461150527000427\n"
     ]
    },
    {
     "name": "stderr",
     "output_type": "stream",
     "text": [
      "100%|██████████| 15/15 [01:20<00:00,  5.36s/it]\n"
     ]
    },
    {
     "name": "stdout",
     "output_type": "stream",
     "text": [
      "load_efficiency_cooling 8.938560634851456\n"
     ]
    },
    {
     "name": "stderr",
     "output_type": "stream",
     "text": [
      "100%|██████████| 15/15 [01:29<00:00,  5.99s/it]\n"
     ]
    },
    {
     "name": "stdout",
     "output_type": "stream",
     "text": [
      "load_forest_fires 18.470481038093567\n"
     ]
    },
    {
     "name": "stderr",
     "output_type": "stream",
     "text": [
      "100%|██████████| 15/15 [01:45<00:00,  7.03s/it]\n"
     ]
    },
    {
     "name": "stdout",
     "output_type": "stream",
     "text": [
      "load_parkinson_updrs 20.621614158153534\n"
     ]
    },
    {
     "name": "stderr",
     "output_type": "stream",
     "text": [
      "100%|██████████| 15/15 [01:37<00:00,  6.47s/it]\n"
     ]
    },
    {
     "name": "stdout",
     "output_type": "stream",
     "text": [
      "load_ld50 20.862020552158356\n"
     ]
    },
    {
     "name": "stderr",
     "output_type": "stream",
     "text": [
      "100%|██████████| 15/15 [01:37<00:00,  6.48s/it]\n"
     ]
    },
    {
     "name": "stdout",
     "output_type": "stream",
     "text": [
      "load_ppb 25.922706723213196\n"
     ]
    },
    {
     "name": "stderr",
     "output_type": "stream",
     "text": [
      "100%|██████████| 15/15 [01:28<00:00,  5.92s/it]"
     ]
    },
    {
     "name": "stdout",
     "output_type": "stream",
     "text": [
      "load_bioav 26.655355095863342\n"
     ]
    },
    {
     "name": "stderr",
     "output_type": "stream",
     "text": [
      "\n"
     ]
    }
   ],
   "source": [
    "args = {'p_inflate': 0.3,\n",
    "  'max_depth': 21,\n",
    "  'init_depth': 10,\n",
    "  'prob_const': 0.1,\n",
    "  'prob_replace': 0.01,\n",
    "  'p_prune': 0.6,\n",
    "  'p_xo': 0.2,\n",
    "  'p_struct_xo': 0.7}\n",
    "\n",
    "results = {}\n",
    "for dataset in [globals()[i] for i in globals() if 'load' in i][2:]:\n",
    "  X, y = dataset()\n",
    "  rm, ma, nrmse, r2, mae, std_rmse, time, train, test, size = test_slim(\n",
    "              X=X, y=y, args_dict=args, dataset_name='test',\n",
    "              ms_lower=0, ms_upper=1, n_elites=1,\n",
    "              iterations=15, scale=True, algorithm='SLIM*SIG1',\n",
    "              verbose=0, p_train=0.7, show_progress=True,\n",
    "          )\n",
    "  rm = np.array(rm)\n",
    "  rm_min = 100*rm.min()\n",
    "  results[dataset.__name__] = rm_min\n",
    "  print(dataset.__name__, rm_min)"
   ]
  },
  {
   "cell_type": "markdown",
   "metadata": {},
   "source": [
    "raw.githubusercontent.com/amarmate/SLIM-test/blob/main/testers/test_speed.py"
   ]
  },
  {
   "cell_type": "code",
   "execution_count": 146,
   "metadata": {},
   "outputs": [
    {
     "name": "stdout",
     "output_type": "stream",
     "text": [
      "------------------- airfoil -------------------\n",
      "[0.13792237 0.15762735 0.1722157  0.17693558 0.15780798 0.18667119]\n",
      "[0.14832592 0.16048525 0.15802479 0.16546231 0.15924304 0.19580386]\n",
      "------------------- bike_sharing -------------------\n",
      "[0.06761615 0.06552969 0.09000596 0.07510583 0.06371854 0.06733989]\n",
      "[0.04622429 0.03694668 0.05149901 0.05052477 0.04751019 0.0367056 ]\n",
      "------------------- bioav -------------------\n",
      "[0.30995024 0.30741564 0.30952701 0.30450562 0.31006524 0.31943202]\n",
      "[0.31002265 0.32277876 0.30894084 0.30837021 0.31092197 0.32239372]\n",
      "------------------- boston -------------------\n",
      "[0.13493074 0.15354635 0.14400342 0.12906207 0.13281019 0.14386057]\n",
      "[0.11720274 0.11842243 0.12011071 0.12288083 0.12176637 0.11751374]\n",
      "------------------- breast_cancer -------------------\n",
      "[0.27636146 0.32066432 0.31444111 0.3796575  0.30796053 0.37382745]\n",
      "[0.3083076  0.31549337 0.29649097 0.27580727 0.29800231 0.31951562]\n",
      "------------------- concrete_slump -------------------\n",
      "[0.29715798 0.29924023 0.2771577  0.27988192 0.2948374  0.30982618]\n",
      "[0.28898005 0.28639616 0.28393293 0.2830657  0.28380444 0.2842143 ]\n",
      "------------------- concrete_strength -------------------\n",
      "[0.12645973 0.15904398 0.14330675 0.13202253 0.1284304  0.14854854]\n",
      "[0.12851402 0.13449259 0.17878573 0.14101834 0.12896944 0.14476856]\n",
      "------------------- diabetes -------------------\n",
      "[0.18014212 0.18272466 0.18504807 0.18774622 0.19054437 0.19334856]\n",
      "[0.17817805 0.17926408 0.19188567 0.18587686 0.17897788 0.18904257]\n",
      "------------------- efficiency_cooling -------------------\n",
      "[0.10321882 0.12380993 0.10115904 0.12008947 0.09919202 0.12245916]\n",
      "[0.09623188 0.11292637 0.09829603 0.11597892 0.0921021  0.11005327]\n",
      "------------------- efficiency_heating -------------------\n",
      "[0.09253199 0.11153784 0.10799107 0.10862419 0.09596773 0.13860568]\n",
      "[0.08789998 0.13643668 0.0897797  0.11904206 0.10722371 0.11567386]\n",
      "------------------- forest_fires -------------------\n",
      "[0.20727408 0.2276477  0.21208971 0.21560029 0.20870365 0.2370971 ]\n",
      "[0.20808784 0.21486501 0.21534618 0.21169116 0.2124735  0.21801171]\n",
      "------------------- istanbul -------------------\n",
      "[0.09150366 0.08703509 0.09024427 0.08670556 0.08699034 0.10778556]\n",
      "[0.08668344 0.08540389 0.10883281 0.08505278 0.08814276 0.08767225]\n",
      "------------------- ld50 -------------------\n",
      "[0.25378889 0.26135512 0.2718632  0.25419862 0.29304494 0.25220828]\n",
      "[0.24790427 0.25846663 0.45932244 0.25195015 1.42337908 0.25792251]\n",
      "------------------- parkinson_updrs -------------------\n",
      "[0.20824777 0.2142485  0.21216364 0.21442874 0.21099009 0.21684208]\n",
      "[0.20841513 0.20914182 0.21390184 0.21191692 0.20976018 0.21193203]\n",
      "------------------- ppb -------------------\n",
      "[0.30640143 0.35826894 0.30465811 0.30642561 0.30505618 0.31172715]\n",
      "[0.30579501 0.37315565 0.31479801 0.33806377 0.47329936 0.32468701]\n",
      "------------------- resid_build_sale_price -------------------\n",
      "[0.08212138 0.08147723 0.10001039 0.08109598 0.0880231  0.07041202]\n",
      "[0.0608575  0.06420423 0.2036618  0.05996468 0.06271145 0.05399319]\n"
     ]
    }
   ],
   "source": [
    "df_stats = pd.DataFrame(columns=[\"SLIM+SIG2\", \"SLIM*SIG2\", \"SLIM+ABS\", \"SLIM*ABS\", \"SLIM+SIG1\", \"SLIM*SIG1\"], index=datasets)\n",
    "for filename in os.listdir('results/SLIM'):\n",
    "    # For each dataset\n",
    "    if 'struct' in filename:\n",
    "        name = filename.split('_struct')[0]\n",
    "    \n",
    "    else: \n",
    "        continue\n",
    "\n",
    "    with open('results/SLIM/' + name+'_scaled.pkl', 'rb') as f:\n",
    "        results_scaled = pickle.load(f)\n",
    "        test = np.array([np.mean(values) for keys, values in results_scaled['test_fit'].items()])\n",
    "        train = np.array([np.std(values) for keys, values in results_scaled['train_fit'].items()])\n",
    "        mean_size = np.array([np.mean(values) for keys, values in results_scaled['size'].items()])\n",
    "        std_size = np.array([np.std(values) for keys, values in results_scaled['size'].items()])\n",
    "\n",
    "    with open('results/SLIM/' + name+'_struct.pkl', 'rb') as f:\n",
    "        results_struct = pickle.load(f)\n",
    "        test_struct = np.array([np.mean(values) for keys, values in results_struct['test_fit'].items()])\n",
    "        train_struct = np.array([np.std(values) for keys, values in results_struct['train_fit'].items()])\n",
    "        mean_size_struct = np.array([np.mean(values) for keys, values in results_struct['size'].items()])\n",
    "        std_size_struct = np.array([np.std(values) for keys, values in results_struct['size'].items()])\n",
    "\n",
    "    print('-------------------', name, '-------------------')\n",
    "    print(test)\n",
    "    print(test_struct)"
   ]
  },
  {
   "cell_type": "markdown",
   "metadata": {},
   "source": [
    "### Scaled"
   ]
  },
  {
   "cell_type": "code",
   "execution_count": null,
   "metadata": {},
   "outputs": [
    {
     "name": "stdout",
     "output_type": "stream",
     "text": [
      "[5.774736  3.339687  6.416489  3.4611561 6.7725782 3.6953611]\n",
      "[ 0.19473436 -0.135112    0.00161502 -0.15538374  0.21042344 -0.17053461]\n",
      "[0.5786725  0.3300202  0.58180726 1.1073037  0.5742482  0.13710916]\n",
      "[ 0.28297538 -0.11620569  0.23852581 -0.0408622   0.3007776  -0.10044187]\n",
      "[-0.02940136 -0.00075221  0.02381086 -0.10231876 -0.03847641 -0.11358792]\n",
      "[0.1317721  0.0736379  0.17520446 0.03853512 0.12223953 0.1004498 ]\n",
      "[0.7285337  0.09196973 0.6079456  0.33276266 0.5302175  0.2063902 ]\n",
      "[1.2561388  0.27933943 1.204401   0.80767006 1.2289534  0.08553594]\n",
      "[ 0.37881857 -0.0274969   0.34271827 -0.07985708  0.3543714  -0.09261289]\n",
      "[ 0.2949314  -0.04556927  0.22712174 -0.06440011  0.23955414 -0.11316216]\n",
      "[ 0.98276925 -0.09167612  1.1261617  -0.04175651 -0.00819385 -0.14708078]\n",
      "[-0.0787068   0.00189382 -0.01919091 -0.0042882   0.08407182 -0.188483  ]\n",
      "[ 0.05149114 -0.05724537 -0.01549685  0.03524458 -0.06683481 -0.00045562]\n",
      "[0.21347213 0.06166118 0.13586253 0.00580317 0.19740999 0.01181853]\n",
      "[ 0.29218483 -0.14981937  0.23427099 -0.00636649  0.19262129 -0.01821166]\n",
      "[0.29223666 0.03882807 0.11958438 0.07403979 0.19672793 0.05807382]\n"
     ]
    }
   ],
   "source": [
    "mean_rmsescaled_all = []\n",
    "\n",
    "for filename in os.listdir('results/SLIM'):\n",
    "    # For each dataset\n",
    "    if 'struct' in filename:\n",
    "        name = filename.split('_struct')[0]\n",
    "    \n",
    "    else: \n",
    "        continue\n",
    "\n",
    "    with open('results/SLIM/' + name+'_scaled.pkl', 'rb') as f:\n",
    "        results = pickle.load(f)\n",
    "        mean_rmse_scaled = np.array([np.mean(values) for keys, values in results['rmse_'].items()])\n",
    "        std_rmse_scaled = np.array([np.std(values) for keys, values in results['rmse_'].items()])\n",
    "        mean_size_scaled = np.array([np.mean(values) for keys, values in results['size'].items()])\n",
    "        std_size_scaled = np.array([np.std(values) for keys, values in results['size'].items()])\n",
    "\n",
    "    with open('results/SLIM/' + name+'_unscaled.pkl', 'rb') as f:\n",
    "        results = pickle.load(f)\n",
    "        mean_rmse_unscaled = np.array([np.mean(values) for keys, values in results['rmse_'].items()])\n",
    "        std_rmse_unscaled = np.array([np.std(values) for keys, values in results['rmse_'].items()])\n",
    "        mean_size_unscaled = np.array([np.mean(values) for keys, values in results['size'].items()])\n",
    "        std_size_unscaled = np.array([np.std(values) for keys, values in results['size'].items()])\n",
    "\n",
    "    print(mean_rmse_unscaled - mean_rmse_scaled)"
   ]
  },
  {
   "cell_type": "code",
   "execution_count": 51,
   "metadata": {},
   "outputs": [],
   "source": [
    "with open('results/SLIM/airfoil_scaled.pkl', 'rb') as f:\n",
    "    results = pickle.load(f)\n",
    "    mean_nrmse_ = [np.mean(values) for keys, values in results['nrmse_'].items()]\n",
    "    std_nrmse_ = [np.std(values) for keys, values in results['nrmse_'].items()]\n",
    "    mean_size = [np.mean(values) for keys, values in results['size'].items()]\n",
    "    std_size = [np.std(values) for keys, values in results['size'].items()]"
   ]
  }
 ],
 "metadata": {
  "kernelspec": {
   "display_name": "Python 3",
   "language": "python",
   "name": "python3"
  },
  "language_info": {
   "codemirror_mode": {
    "name": "ipython",
    "version": 3
   },
   "file_extension": ".py",
   "mimetype": "text/x-python",
   "name": "python",
   "nbconvert_exporter": "python",
   "pygments_lexer": "ipython3",
   "version": "3.11.3"
  }
 },
 "nbformat": 4,
 "nbformat_minor": 2
}
