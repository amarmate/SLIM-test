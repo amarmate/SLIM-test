{
 "cells": [
  {
   "cell_type": "code",
   "execution_count": 3,
   "metadata": {},
   "outputs": [],
   "source": [
    "from functions.test_algorithms import *\n",
    "from functions.random_search import * \n",
    "from slim_gsgp_lib.datasets.data_loader import *\n",
    "import pickle\n",
    "\n",
    "datasets = [globals()[i] for i in globals() if 'load' in i][2:]"
   ]
  },
  {
   "cell_type": "markdown",
   "metadata": {},
   "source": [
    "#### Settings"
   ]
  },
  {
   "cell_type": "code",
   "execution_count": 2,
   "metadata": {},
   "outputs": [],
   "source": [
    "pop_size = 100 \n",
    "n_iter = 100\n",
    "n_iter_rs = 50\n",
    "n_iter_test = 30\n",
    "p_train = 0.7"
   ]
  },
  {
   "cell_type": "markdown",
   "metadata": {},
   "source": [
    "#### SLIM "
   ]
  },
  {
   "cell_type": "code",
   "execution_count": null,
   "metadata": {},
   "outputs": [],
   "source": [
    "for dataset_loader in tqdm(datasets):\n",
    "    X, y = dataset_loader()\n",
    "    dataset_name = dataset_loader.__name__.split('load_')[1]\n",
    "    \n",
    "    # Perform random search for both scaled and unscaled versions\n",
    "    print(f\"Performing random search for {dataset_name}...\")\n",
    "    best_params = random_search_slim(X, y, dataset_name, scale=True, p_train=p_train,\n",
    "                                        iterations=n_iter_rs, pop_size=pop_size, n_iter=n_iter,\n",
    "                                        struct_mutation=True, show_progress=False)\n",
    "    \n",
    "    print(f\"Random search for {dataset_name} completed!\")\n",
    "    \n",
    "    # Initialize dictionaries for scaled and unscaled results\n",
    "    metrics = ['rmse_', 'mape_', 'nrmse_', 'r2_', 'mae_', 'std_rmse_', 'time_stats', 'train_fit', 'test_fit', 'size']\n",
    "    results = {metric: {} for metric in metrics}\n",
    "\n",
    "    for algorithm in best_params:\n",
    "        # Retrieve the best hyperparameters for testing\n",
    "        args = best_params[algorithm]\n",
    "\n",
    "        # Test SLIM \n",
    "        rm, ma, nrmse, r2, mae, std_rmse, time, train, test, size = test_slim(\n",
    "            X=X, y=y, args_dict=args, dataset_name=dataset_loader.__name__,\n",
    "            ms_lower=0, ms_upper=1, n_elites=1,\n",
    "            iterations=n_iter_test, struct_mutation=True, scale=True, algorithm=algorithm,\n",
    "            verbose=0, p_train=p_train, show_progress=False,\n",
    "        )\n",
    "        \n",
    "        # Initialize storage for each algorithm if not already present\n",
    "        for metric in metrics:\n",
    "            if algorithm not in results[metric]:\n",
    "                results[metric][algorithm] = []\n",
    "\n",
    "        # Store results\n",
    "        results['rmse_'][algorithm].append(rm)\n",
    "        results['mape_'][algorithm].append(ma)\n",
    "        results['nrmse_'][algorithm].append(nrmse)\n",
    "        results['r2_'][algorithm].append(r2)\n",
    "        results['mae_'][algorithm].append(mae)\n",
    "        results['std_rmse_'][algorithm].append(std_rmse)\n",
    "        results['time_stats'][algorithm].append(time)\n",
    "        results['train_fit'][algorithm].append(train)\n",
    "        results['test_fit'][algorithm].append(test)\n",
    "        results['size'][algorithm].append(size)        \n",
    "\n",
    "        print(f\"Results for {algorithm} on {dataset_name} saved!\")\n",
    "\n",
    "    # Save the results to disk\n",
    "    with open(f\"results/SLIM/{dataset_name}_struct.pkl\", 'wb') as f:\n",
    "        pickle.dump(results, f)\n",
    "\n",
    "    print(f\"Results for {dataset_name} saved!\")\n",
    "    print(\"---------------------------------------------------\")"
   ]
  }
 ],
 "metadata": {
  "kernelspec": {
   "display_name": "Python 3",
   "language": "python",
   "name": "python3"
  },
  "language_info": {
   "codemirror_mode": {
    "name": "ipython",
    "version": 3
   },
   "file_extension": ".py",
   "mimetype": "text/x-python",
   "name": "python",
   "nbconvert_exporter": "python",
   "pygments_lexer": "ipython3",
   "version": "3.11.3"
  }
 },
 "nbformat": 4,
 "nbformat_minor": 2
}
