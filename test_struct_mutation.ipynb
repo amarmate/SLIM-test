{
 "cells": [
  {
   "cell_type": "code",
   "execution_count": 3,
   "metadata": {},
   "outputs": [],
   "source": [
    "from functions.test_algorithms import *\n",
    "from functions.random_search import * \n",
    "from slim_gsgp_lib.datasets.data_loader import *\n",
    "import pickle\n",
    "\n",
    "datasets = [globals()[i] for i in globals() if 'load' in i][2:]"
   ]
  },
  {
   "cell_type": "markdown",
   "metadata": {},
   "source": [
    "#### Settings"
   ]
  },
  {
   "cell_type": "code",
   "execution_count": 5,
   "metadata": {},
   "outputs": [],
   "source": [
    "pop_size = 100\n",
    "n_iter = 100\n",
    "n_iter_rs = 60\n",
    "n_iter_test = 30\n",
    "p_train = 0.7"
   ]
  },
  {
   "cell_type": "markdown",
   "metadata": {},
   "source": [
    "#### SLIM "
   ]
  },
  {
   "cell_type": "code",
   "execution_count": 6,
   "metadata": {},
   "outputs": [
    {
     "name": "stderr",
     "output_type": "stream",
     "text": [
      "  0%|          | 0/16 [00:00<?, ?it/s]"
     ]
    },
    {
     "name": "stdout",
     "output_type": "stream",
     "text": [
      "Performing random search for resid_build_sale_price...\n",
      "Random search for resid_build_sale_price completed!\n",
      "Results for SLIM+SIG2 on resid_build_sale_price calculated!\n",
      "Results for SLIM*SIG2 on resid_build_sale_price calculated!\n",
      "Results for SLIM+ABS on resid_build_sale_price calculated!\n",
      "Results for SLIM*ABS on resid_build_sale_price calculated!\n",
      "Results for SLIM+SIG1 on resid_build_sale_price calculated!\n"
     ]
    },
    {
     "name": "stderr",
     "output_type": "stream",
     "text": [
      "  6%|▋         | 1/16 [41:23<10:20:57, 2483.83s/it]"
     ]
    },
    {
     "name": "stdout",
     "output_type": "stream",
     "text": [
      "Results for SLIM*SIG1 on resid_build_sale_price calculated!\n",
      "Results for resid_build_sale_price saved!\n",
      "---------------------------------------------------\n",
      "Performing random search for istanbul...\n",
      "Random search for istanbul completed!\n",
      "Results for SLIM+SIG2 on istanbul calculated!\n",
      "Results for SLIM*SIG2 on istanbul calculated!\n",
      "Results for SLIM+ABS on istanbul calculated!\n",
      "Results for SLIM*ABS on istanbul calculated!\n",
      "Results for SLIM+SIG1 on istanbul calculated!\n"
     ]
    },
    {
     "name": "stderr",
     "output_type": "stream",
     "text": [
      " 12%|█▎        | 2/16 [1:31:52<10:54:19, 2804.25s/it]"
     ]
    },
    {
     "name": "stdout",
     "output_type": "stream",
     "text": [
      "Results for SLIM*SIG1 on istanbul calculated!\n",
      "Results for istanbul saved!\n",
      "---------------------------------------------------\n",
      "Performing random search for airfoil...\n",
      "Random search for airfoil completed!\n",
      "Results for SLIM+SIG2 on airfoil calculated!\n",
      "Results for SLIM*SIG2 on airfoil calculated!\n",
      "Results for SLIM+ABS on airfoil calculated!\n",
      "Results for SLIM*ABS on airfoil calculated!\n",
      "Results for SLIM+SIG1 on airfoil calculated!\n"
     ]
    },
    {
     "name": "stderr",
     "output_type": "stream",
     "text": [
      " 19%|█▉        | 3/16 [2:27:26<10:59:58, 3046.04s/it]"
     ]
    },
    {
     "name": "stdout",
     "output_type": "stream",
     "text": [
      "Results for SLIM*SIG1 on airfoil calculated!\n",
      "Results for airfoil saved!\n",
      "---------------------------------------------------\n",
      "Performing random search for bike_sharing...\n",
      "Random search for bike_sharing completed!\n",
      "Results for SLIM+SIG2 on bike_sharing calculated!\n",
      "Results for SLIM*SIG2 on bike_sharing calculated!\n",
      "Results for SLIM+ABS on bike_sharing calculated!\n",
      "Results for SLIM*ABS on bike_sharing calculated!\n",
      "Results for SLIM+SIG1 on bike_sharing calculated!\n"
     ]
    },
    {
     "name": "stderr",
     "output_type": "stream",
     "text": [
      " 25%|██▌       | 4/16 [3:16:10<9:59:35, 2997.94s/it] "
     ]
    },
    {
     "name": "stdout",
     "output_type": "stream",
     "text": [
      "Results for SLIM*SIG1 on bike_sharing calculated!\n",
      "Results for bike_sharing saved!\n",
      "---------------------------------------------------\n",
      "Performing random search for boston...\n",
      "Random search for boston completed!\n",
      "Results for SLIM+SIG2 on boston calculated!\n",
      "Results for SLIM*SIG2 on boston calculated!\n",
      "Results for SLIM+ABS on boston calculated!\n",
      "Results for SLIM*ABS on boston calculated!\n",
      "Results for SLIM+SIG1 on boston calculated!\n"
     ]
    },
    {
     "name": "stderr",
     "output_type": "stream",
     "text": [
      " 31%|███▏      | 5/16 [4:05:10<9:05:49, 2977.27s/it]"
     ]
    },
    {
     "name": "stdout",
     "output_type": "stream",
     "text": [
      "Results for SLIM*SIG1 on boston calculated!\n",
      "Results for boston saved!\n",
      "---------------------------------------------------\n",
      "Performing random search for breast_cancer...\n",
      "Random search for breast_cancer completed!\n",
      "Results for SLIM+SIG2 on breast_cancer calculated!\n",
      "Results for SLIM*SIG2 on breast_cancer calculated!\n",
      "Results for SLIM+ABS on breast_cancer calculated!\n",
      "Results for SLIM*ABS on breast_cancer calculated!\n",
      "Results for SLIM+SIG1 on breast_cancer calculated!\n"
     ]
    },
    {
     "name": "stderr",
     "output_type": "stream",
     "text": [
      " 38%|███▊      | 6/16 [4:52:55<8:09:48, 2938.81s/it]"
     ]
    },
    {
     "name": "stdout",
     "output_type": "stream",
     "text": [
      "Results for SLIM*SIG1 on breast_cancer calculated!\n",
      "Results for breast_cancer saved!\n",
      "---------------------------------------------------\n",
      "Performing random search for concrete_slump...\n",
      "Random search for concrete_slump completed!\n",
      "Results for SLIM+SIG2 on concrete_slump calculated!\n",
      "Results for SLIM*SIG2 on concrete_slump calculated!\n",
      "Results for SLIM+ABS on concrete_slump calculated!\n",
      "Results for SLIM*ABS on concrete_slump calculated!\n",
      "Results for SLIM+SIG1 on concrete_slump calculated!\n"
     ]
    },
    {
     "name": "stderr",
     "output_type": "stream",
     "text": [
      " 44%|████▍     | 7/16 [5:43:05<7:24:20, 2962.30s/it]"
     ]
    },
    {
     "name": "stdout",
     "output_type": "stream",
     "text": [
      "Results for SLIM*SIG1 on concrete_slump calculated!\n",
      "Results for concrete_slump saved!\n",
      "---------------------------------------------------\n",
      "Performing random search for concrete_strength...\n",
      "Random search for concrete_strength completed!\n",
      "Results for SLIM+SIG2 on concrete_strength calculated!\n",
      "Results for SLIM*SIG2 on concrete_strength calculated!\n",
      "Results for SLIM+ABS on concrete_strength calculated!\n",
      "Results for SLIM*ABS on concrete_strength calculated!\n",
      "Results for SLIM+SIG1 on concrete_strength calculated!\n"
     ]
    },
    {
     "name": "stderr",
     "output_type": "stream",
     "text": [
      " 50%|█████     | 8/16 [6:34:22<6:39:50, 2998.76s/it]"
     ]
    },
    {
     "name": "stdout",
     "output_type": "stream",
     "text": [
      "Results for SLIM*SIG1 on concrete_strength calculated!\n",
      "Results for concrete_strength saved!\n",
      "---------------------------------------------------\n",
      "Performing random search for diabetes...\n",
      "Random search for diabetes completed!\n",
      "Results for SLIM+SIG2 on diabetes calculated!\n",
      "Results for SLIM*SIG2 on diabetes calculated!\n",
      "Results for SLIM+ABS on diabetes calculated!\n",
      "Results for SLIM*ABS on diabetes calculated!\n",
      "Results for SLIM+SIG1 on diabetes calculated!\n"
     ]
    },
    {
     "name": "stderr",
     "output_type": "stream",
     "text": [
      " 56%|█████▋    | 9/16 [7:19:05<5:38:21, 2900.15s/it]"
     ]
    },
    {
     "name": "stdout",
     "output_type": "stream",
     "text": [
      "Results for SLIM*SIG1 on diabetes calculated!\n",
      "Results for diabetes saved!\n",
      "---------------------------------------------------\n",
      "Performing random search for efficiency_heating...\n",
      "Random search for efficiency_heating completed!\n",
      "Results for SLIM+SIG2 on efficiency_heating calculated!\n",
      "Results for SLIM*SIG2 on efficiency_heating calculated!\n",
      "Results for SLIM+ABS on efficiency_heating calculated!\n",
      "Results for SLIM*ABS on efficiency_heating calculated!\n",
      "Results for SLIM+SIG1 on efficiency_heating calculated!\n"
     ]
    },
    {
     "name": "stderr",
     "output_type": "stream",
     "text": [
      " 62%|██████▎   | 10/16 [8:04:17<4:44:11, 2841.99s/it]"
     ]
    },
    {
     "name": "stdout",
     "output_type": "stream",
     "text": [
      "Results for SLIM*SIG1 on efficiency_heating calculated!\n",
      "Results for efficiency_heating saved!\n",
      "---------------------------------------------------\n",
      "Performing random search for efficiency_cooling...\n",
      "Random search for efficiency_cooling completed!\n",
      "Results for SLIM+SIG2 on efficiency_cooling calculated!\n",
      "Results for SLIM*SIG2 on efficiency_cooling calculated!\n",
      "Results for SLIM+ABS on efficiency_cooling calculated!\n",
      "Results for SLIM*ABS on efficiency_cooling calculated!\n",
      "Results for SLIM+SIG1 on efficiency_cooling calculated!\n"
     ]
    },
    {
     "name": "stderr",
     "output_type": "stream",
     "text": [
      " 69%|██████▉   | 11/16 [8:52:26<3:58:01, 2856.39s/it]"
     ]
    },
    {
     "name": "stdout",
     "output_type": "stream",
     "text": [
      "Results for SLIM*SIG1 on efficiency_cooling calculated!\n",
      "Results for efficiency_cooling saved!\n",
      "---------------------------------------------------\n",
      "Performing random search for forest_fires...\n",
      "Random search for forest_fires completed!\n",
      "Results for SLIM+SIG2 on forest_fires calculated!\n",
      "Results for SLIM*SIG2 on forest_fires calculated!\n",
      "Results for SLIM+ABS on forest_fires calculated!\n",
      "Results for SLIM*ABS on forest_fires calculated!\n",
      "Results for SLIM+SIG1 on forest_fires calculated!\n"
     ]
    },
    {
     "name": "stderr",
     "output_type": "stream",
     "text": [
      " 75%|███████▌  | 12/16 [9:44:59<3:16:25, 2946.49s/it]"
     ]
    },
    {
     "name": "stdout",
     "output_type": "stream",
     "text": [
      "Results for SLIM*SIG1 on forest_fires calculated!\n",
      "Results for forest_fires saved!\n",
      "---------------------------------------------------\n",
      "Performing random search for parkinson_updrs...\n",
      "Random search for parkinson_updrs completed!\n",
      "Results for SLIM+SIG2 on parkinson_updrs calculated!\n",
      "Results for SLIM*SIG2 on parkinson_updrs calculated!\n",
      "Results for SLIM+ABS on parkinson_updrs calculated!\n",
      "Results for SLIM*ABS on parkinson_updrs calculated!\n",
      "Results for SLIM+SIG1 on parkinson_updrs calculated!\n"
     ]
    },
    {
     "name": "stderr",
     "output_type": "stream",
     "text": [
      " 81%|████████▏ | 13/16 [10:51:04<2:42:45, 3255.01s/it]"
     ]
    },
    {
     "name": "stdout",
     "output_type": "stream",
     "text": [
      "Results for SLIM*SIG1 on parkinson_updrs calculated!\n",
      "Results for parkinson_updrs saved!\n",
      "---------------------------------------------------\n",
      "Performing random search for ld50...\n",
      "Random search for ld50 completed!\n",
      "Results for SLIM+SIG2 on ld50 calculated!\n",
      "Results for SLIM*SIG2 on ld50 calculated!\n",
      "Results for SLIM+ABS on ld50 calculated!\n",
      "Results for SLIM*ABS on ld50 calculated!\n",
      "Results for SLIM+SIG1 on ld50 calculated!\n"
     ]
    },
    {
     "name": "stderr",
     "output_type": "stream",
     "text": [
      " 88%|████████▊ | 14/16 [11:50:53<1:51:51, 3355.95s/it]"
     ]
    },
    {
     "name": "stdout",
     "output_type": "stream",
     "text": [
      "Results for SLIM*SIG1 on ld50 calculated!\n",
      "Results for ld50 saved!\n",
      "---------------------------------------------------\n",
      "Performing random search for ppb...\n",
      "Random search for ppb completed!\n",
      "Results for SLIM+SIG2 on ppb calculated!\n",
      "Results for SLIM*SIG2 on ppb calculated!\n",
      "Results for SLIM+ABS on ppb calculated!\n",
      "Results for SLIM*ABS on ppb calculated!\n",
      "Results for SLIM+SIG1 on ppb calculated!\n"
     ]
    },
    {
     "name": "stderr",
     "output_type": "stream",
     "text": [
      " 94%|█████████▍| 15/16 [12:46:02<55:41, 3341.86s/it]  "
     ]
    },
    {
     "name": "stdout",
     "output_type": "stream",
     "text": [
      "Results for SLIM*SIG1 on ppb calculated!\n",
      "Results for ppb saved!\n",
      "---------------------------------------------------\n",
      "Performing random search for bioav...\n",
      "Random search for bioav completed!\n",
      "Results for SLIM+SIG2 on bioav calculated!\n",
      "Results for SLIM*SIG2 on bioav calculated!\n",
      "Results for SLIM+ABS on bioav calculated!\n",
      "Results for SLIM*ABS on bioav calculated!\n",
      "Results for SLIM+SIG1 on bioav calculated!\n"
     ]
    },
    {
     "name": "stderr",
     "output_type": "stream",
     "text": [
      "100%|██████████| 16/16 [13:43:15<00:00, 3087.24s/it]"
     ]
    },
    {
     "name": "stdout",
     "output_type": "stream",
     "text": [
      "Results for SLIM*SIG1 on bioav calculated!\n",
      "Results for bioav saved!\n",
      "---------------------------------------------------\n"
     ]
    },
    {
     "name": "stderr",
     "output_type": "stream",
     "text": [
      "\n"
     ]
    }
   ],
   "source": [
    "for dataset_loader in tqdm(datasets):\n",
    "    X, y = dataset_loader()\n",
    "    dataset_name = dataset_loader.__name__.split('load_')[1]\n",
    "    \n",
    "    # Perform random search for both scaled and unscaled versions\n",
    "    print(f\"Performing random search for {dataset_name}...\")\n",
    "    best_params = random_search_slim(X, y, dataset_name, scale=True, p_train=p_train,\n",
    "                                        iterations=n_iter_rs, pop_size=pop_size, n_iter=n_iter,\n",
    "                                        struct_mutation=True, show_progress=False, identifier='struct')\n",
    "    \n",
    "    print(f\"Random search for {dataset_name} completed!\")\n",
    "    \n",
    "    # Initialize dictionaries for scaled and unscaled results\n",
    "    metrics = ['rmse_', 'mape_', 'nrmse_', 'r2_', 'mae_', 'std_rmse_', 'time_stats', 'train_fit', 'test_fit', 'size']\n",
    "    results = {metric: {} for metric in metrics}\n",
    "\n",
    "    for algorithm in best_params:\n",
    "        # Retrieve the best hyperparameters for testing\n",
    "        args = best_params[algorithm]\n",
    "\n",
    "        # Test SLIM \n",
    "        rm, ma, nrmse, r2, mae, std_rmse, time, train, test, size = test_slim(\n",
    "            X=X, y=y, args_dict=args, dataset_name=dataset_loader.__name__,\n",
    "            ms_lower=0, ms_upper=1, n_elites=1,\n",
    "            iterations=n_iter_test, struct_mutation=True, scale=True, algorithm=algorithm,\n",
    "            verbose=0, p_train=p_train, show_progress=False,\n",
    "        )\n",
    "        \n",
    "        # Initialize storage for each algorithm if not already present\n",
    "        for metric in metrics:\n",
    "            if algorithm not in results[metric]:\n",
    "                results[metric][algorithm] = []\n",
    "\n",
    "        # Store results\n",
    "        results['rmse_'][algorithm].append(rm)\n",
    "        results['mape_'][algorithm].append(ma)\n",
    "        results['nrmse_'][algorithm].append(nrmse)\n",
    "        results['r2_'][algorithm].append(r2)\n",
    "        results['mae_'][algorithm].append(mae)\n",
    "        results['std_rmse_'][algorithm].append(std_rmse)\n",
    "        results['time_stats'][algorithm].append(time)\n",
    "        results['train_fit'][algorithm].append(train)\n",
    "        results['test_fit'][algorithm].append(test)\n",
    "        results['size'][algorithm].append(size)        \n",
    "\n",
    "        print(f\"Results for {algorithm} on {dataset_name} calculated!\")\n",
    "\n",
    "    # Save the results to disk\n",
    "    with open(f\"results/SLIM/{dataset_name}_struct.pkl\", 'wb') as f:\n",
    "        pickle.dump(results, f)\n",
    "\n",
    "    print(f\"Results for {dataset_name} saved!\")\n",
    "    print(\"---------------------------------------------------\")"
   ]
  }
 ],
 "metadata": {
  "kernelspec": {
   "display_name": "Python 3",
   "language": "python",
   "name": "python3"
  },
  "language_info": {
   "codemirror_mode": {
    "name": "ipython",
    "version": 3
   },
   "file_extension": ".py",
   "mimetype": "text/x-python",
   "name": "python",
   "nbconvert_exporter": "python",
   "pygments_lexer": "ipython3",
   "version": "3.11.9"
  }
 },
 "nbformat": 4,
 "nbformat_minor": 2
}
