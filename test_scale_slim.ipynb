{
 "cells": [
  {
   "cell_type": "code",
   "execution_count": 1,
   "metadata": {},
   "outputs": [],
   "source": [
    "from functions.test_algorithms import *\n",
    "from functions.random_search import * \n",
    "from slim_gsgp_lib.datasets.data_loader import *\n",
    "import pickle\n",
    "\n",
    "datasets = [globals()[i] for i in globals() if 'load' in i][2:]"
   ]
  },
  {
   "cell_type": "markdown",
   "metadata": {},
   "source": [
    "#### Settings"
   ]
  },
  {
   "cell_type": "code",
   "execution_count": 4,
   "metadata": {},
   "outputs": [],
   "source": [
    "pop_size = 100 \n",
    "n_iter = 200\n",
    "n_iter_rs = 10\n",
    "n_iter_test = 30\n",
    "p_train = 0.7"
   ]
  },
  {
   "cell_type": "code",
   "execution_count": 7,
   "metadata": {},
   "outputs": [
    {
     "name": "stdout",
     "output_type": "stream",
     "text": [
      "309.81640625\n"
     ]
    },
    {
     "name": "stderr",
     "output_type": "stream",
     "text": [
      " 10%|█         | 1/10 [00:13<02:01, 13.46s/it]\n"
     ]
    },
    {
     "ename": "KeyboardInterrupt",
     "evalue": "",
     "output_type": "error",
     "traceback": [
      "\u001b[1;31m---------------------------------------------------------------------------\u001b[0m",
      "\u001b[1;31mKeyboardInterrupt\u001b[0m                         Traceback (most recent call last)",
      "Cell \u001b[1;32mIn[7], line 8\u001b[0m\n\u001b[0;32m      6\u001b[0m process \u001b[38;5;241m=\u001b[39m psutil\u001b[38;5;241m.\u001b[39mProcess(os\u001b[38;5;241m.\u001b[39mgetpid())\n\u001b[0;32m      7\u001b[0m \u001b[38;5;28mprint\u001b[39m(process\u001b[38;5;241m.\u001b[39mmemory_info()\u001b[38;5;241m.\u001b[39mrss \u001b[38;5;241m/\u001b[39m \u001b[38;5;241m1024\u001b[39m\u001b[38;5;241m*\u001b[39m\u001b[38;5;241m*\u001b[39m\u001b[38;5;241m2\u001b[39m)\n\u001b[1;32m----> 8\u001b[0m \u001b[43mrandom_search_slim\u001b[49m\u001b[43m(\u001b[49m\u001b[43mX\u001b[49m\u001b[43m,\u001b[49m\u001b[43my\u001b[49m\u001b[43m,\u001b[49m\u001b[43m \u001b[49m\u001b[38;5;124;43m'\u001b[39;49m\u001b[38;5;124;43mtest\u001b[39;49m\u001b[38;5;124;43m'\u001b[39;49m\u001b[43m,\u001b[49m\u001b[43m \u001b[49m\u001b[43mscale\u001b[49m\u001b[38;5;241;43m=\u001b[39;49m\u001b[38;5;28;43;01mFalse\u001b[39;49;00m\u001b[43m,\u001b[49m\u001b[43m \u001b[49m\u001b[43mp_train\u001b[49m\u001b[38;5;241;43m=\u001b[39;49m\u001b[43mp_train\u001b[49m\u001b[43m,\u001b[49m\u001b[43m \u001b[49m\u001b[43miterations\u001b[49m\u001b[38;5;241;43m=\u001b[39;49m\u001b[43mn_iter_rs\u001b[49m\u001b[43m,\u001b[49m\u001b[43m \u001b[49m\u001b[43mn_iter\u001b[49m\u001b[38;5;241;43m=\u001b[39;49m\u001b[43mn_iter\u001b[49m\u001b[43m,\u001b[49m\u001b[43m \u001b[49m\u001b[43mshow_progress\u001b[49m\u001b[38;5;241;43m=\u001b[39;49m\u001b[38;5;28;43;01mTrue\u001b[39;49;00m\u001b[43m,\u001b[49m\n\u001b[0;32m      9\u001b[0m \u001b[43m                   \u001b[49m\u001b[43mstruct_mutation\u001b[49m\u001b[38;5;241;43m=\u001b[39;49m\u001b[38;5;28;43;01mFalse\u001b[39;49;00m\u001b[43m,\u001b[49m\u001b[43m \u001b[49m\u001b[43mx_o\u001b[49m\u001b[38;5;241;43m=\u001b[39;49m\u001b[38;5;28;43;01mFalse\u001b[39;49;00m\u001b[43m,\u001b[49m\u001b[43m \u001b[49m\u001b[43msave\u001b[49m\u001b[38;5;241;43m=\u001b[39;49m\u001b[38;5;28;43;01mFalse\u001b[39;49;00m\u001b[43m)\u001b[49m\n",
      "File \u001b[1;32mc:\\Users\\Mateus\\Documents\\Tese\\Codigo\\SLIM-Tests\\functions\\random_search.py:111\u001b[0m, in \u001b[0;36mrandom_search_slim\u001b[1;34m(X, y, dataset, scale, p_train, iterations, pop_size, n_iter, struct_mutation, show_progress, x_o, mut_xo, save, identifier)\u001b[0m\n\u001b[0;32m    108\u001b[0m \u001b[38;5;28;01mif\u001b[39;00m init_depth \u001b[38;5;241m+\u001b[39m \u001b[38;5;241m6\u001b[39m \u001b[38;5;241m>\u001b[39m max_depth:\n\u001b[0;32m    109\u001b[0m     max_depth \u001b[38;5;241m=\u001b[39m init_depth \u001b[38;5;241m+\u001b[39m \u001b[38;5;241m6\u001b[39m\n\u001b[1;32m--> 111\u001b[0m slim_ \u001b[38;5;241m=\u001b[39m \u001b[43mslim\u001b[49m\u001b[43m(\u001b[49m\u001b[43mX_train\u001b[49m\u001b[38;5;241;43m=\u001b[39;49m\u001b[43mX_train\u001b[49m\u001b[43m,\u001b[49m\u001b[43m \u001b[49m\u001b[43my_train\u001b[49m\u001b[38;5;241;43m=\u001b[39;49m\u001b[43my_train\u001b[49m\u001b[43m,\u001b[49m\u001b[43m \u001b[49m\u001b[43mdataset_name\u001b[49m\u001b[38;5;241;43m=\u001b[39;49m\u001b[38;5;124;43m'\u001b[39;49m\u001b[38;5;124;43mdataset_1\u001b[39;49m\u001b[38;5;124;43m'\u001b[39;49m\u001b[43m,\u001b[49m\n\u001b[0;32m    112\u001b[0m \u001b[43m                \u001b[49m\u001b[43mX_test\u001b[49m\u001b[38;5;241;43m=\u001b[39;49m\u001b[43mX_test\u001b[49m\u001b[43m,\u001b[49m\u001b[43m \u001b[49m\u001b[43my_test\u001b[49m\u001b[38;5;241;43m=\u001b[39;49m\u001b[43my_test\u001b[49m\u001b[43m,\u001b[49m\u001b[43m \u001b[49m\u001b[43mslim_version\u001b[49m\u001b[38;5;241;43m=\u001b[39;49m\u001b[43malgorithm\u001b[49m\u001b[43m,\u001b[49m\u001b[43m \u001b[49m\u001b[43mpop_size\u001b[49m\u001b[38;5;241;43m=\u001b[39;49m\u001b[43mpop_size\u001b[49m\u001b[43m,\u001b[49m\u001b[43m \u001b[49m\u001b[43mn_iter\u001b[49m\u001b[38;5;241;43m=\u001b[39;49m\u001b[43mn_iter\u001b[49m\u001b[43m,\u001b[49m\n\u001b[0;32m    113\u001b[0m \u001b[43m                \u001b[49m\u001b[43mms_lower\u001b[49m\u001b[38;5;241;43m=\u001b[39;49m\u001b[43mms_lower\u001b[49m\u001b[43m,\u001b[49m\u001b[43m \u001b[49m\u001b[43mms_upper\u001b[49m\u001b[38;5;241;43m=\u001b[39;49m\u001b[43mms_upper\u001b[49m\u001b[43m,\u001b[49m\u001b[43m \u001b[49m\u001b[43mp_inflate\u001b[49m\u001b[38;5;241;43m=\u001b[39;49m\u001b[43mp_inflate\u001b[49m\u001b[43m,\u001b[49m\u001b[43m \u001b[49m\u001b[43mmax_depth\u001b[49m\u001b[38;5;241;43m=\u001b[39;49m\u001b[43mmax_depth\u001b[49m\u001b[43m,\u001b[49m\u001b[43m \u001b[49m\u001b[43minit_depth\u001b[49m\u001b[38;5;241;43m=\u001b[39;49m\u001b[43minit_depth\u001b[49m\u001b[43m,\u001b[49m\u001b[43m \u001b[49m\n\u001b[0;32m    114\u001b[0m \u001b[43m                \u001b[49m\u001b[43mseed\u001b[49m\u001b[38;5;241;43m=\u001b[39;49m\u001b[38;5;241;43m20\u001b[39;49m\u001b[43m,\u001b[49m\u001b[43m \u001b[49m\u001b[43mprob_const\u001b[49m\u001b[38;5;241;43m=\u001b[39;49m\u001b[43mprob_const\u001b[49m\u001b[43m,\u001b[49m\u001b[43m \u001b[49m\u001b[43mn_elites\u001b[49m\u001b[38;5;241;43m=\u001b[39;49m\u001b[38;5;241;43m1\u001b[39;49m\u001b[43m,\u001b[49m\u001b[43m \u001b[49m\u001b[43mlog_level\u001b[49m\u001b[38;5;241;43m=\u001b[39;49m\u001b[38;5;241;43m0\u001b[39;49m\u001b[43m,\u001b[49m\u001b[43m \u001b[49m\u001b[43mverbose\u001b[49m\u001b[38;5;241;43m=\u001b[39;49m\u001b[38;5;241;43m0\u001b[39;49m\u001b[43m,\u001b[49m\n\u001b[0;32m    115\u001b[0m \u001b[43m                \u001b[49m\u001b[43mstruct_mutation\u001b[49m\u001b[38;5;241;43m=\u001b[39;49m\u001b[43mstruct_mutation\u001b[49m\u001b[43m,\u001b[49m\u001b[43m \u001b[49m\u001b[43mprob_replace\u001b[49m\u001b[38;5;241;43m=\u001b[39;49m\u001b[43mprob_replace\u001b[49m\u001b[43m,\u001b[49m\u001b[43m \u001b[49m\u001b[43mp_prune\u001b[49m\u001b[38;5;241;43m=\u001b[39;49m\u001b[43mp_prune\u001b[49m\u001b[43m,\u001b[49m\u001b[43m \u001b[49m\n\u001b[0;32m    116\u001b[0m \u001b[43m                \u001b[49m\u001b[43mp_xo\u001b[49m\u001b[38;5;241;43m=\u001b[39;49m\u001b[43mp_xo\u001b[49m\u001b[43m,\u001b[49m\u001b[43m \u001b[49m\u001b[43mp_struct_xo\u001b[49m\u001b[38;5;241;43m=\u001b[39;49m\u001b[43mp_struct_xo\u001b[49m\u001b[43m,\u001b[49m\u001b[43m \u001b[49m\u001b[43mtournament_size\u001b[49m\u001b[38;5;241;43m=\u001b[39;49m\u001b[43mtournament_size\u001b[49m\u001b[43m,\u001b[49m\u001b[43m \u001b[49m\n\u001b[0;32m    117\u001b[0m \u001b[43m                \u001b[49m\u001b[43m)\u001b[49m\n\u001b[0;32m    119\u001b[0m predictions_slim \u001b[38;5;241m=\u001b[39m slim_\u001b[38;5;241m.\u001b[39mpredict(X_test)\n\u001b[0;32m    120\u001b[0m rmse_score \u001b[38;5;241m=\u001b[39m \u001b[38;5;28mfloat\u001b[39m(rmse(y_true\u001b[38;5;241m=\u001b[39my_test, y_pred\u001b[38;5;241m=\u001b[39mpredictions_slim))\n",
      "File \u001b[1;32mc:\\Users\\Mateus\\Documents\\Tese\\Codigo\\SLIM-Tests\\slim_gsgp_lib\\main_slim.py:323\u001b[0m, in \u001b[0;36mslim\u001b[1;34m(X_train, y_train, X_test, y_test, dataset_name, slim_version, pop_size, n_iter, elitism, n_elites, init_depth, ms_lower, ms_upper, p_inflate, p_xo, p_prune, p_struct_xo, mut_xo_operator, selector, fitness_sharing, log_path, seed, log_level, verbose, reconstruct, fitness_function, initializer, minimization, prob_grow, prob_const, prob_replace, tree_functions, tree_constants, struct_mutation, max_depth, n_jobs, tournament_size, test_elite, callbacks)\u001b[0m\n\u001b[0;32m    314\u001b[0m \u001b[38;5;66;03m# ================================\u001b[39;00m\n\u001b[0;32m    315\u001b[0m \u001b[38;5;66;03m#       Running the Algorithm\u001b[39;00m\n\u001b[0;32m    316\u001b[0m \u001b[38;5;66;03m# ================================\u001b[39;00m\n\u001b[0;32m    318\u001b[0m optimizer \u001b[38;5;241m=\u001b[39m SLIM_GSGP(\n\u001b[0;32m    319\u001b[0m     pi_init\u001b[38;5;241m=\u001b[39mslim_gsgp_pi_init,\n\u001b[0;32m    320\u001b[0m     \u001b[38;5;241m*\u001b[39m\u001b[38;5;241m*\u001b[39mslim_gsgp_parameters\n\u001b[0;32m    321\u001b[0m )\n\u001b[1;32m--> 323\u001b[0m \u001b[43moptimizer\u001b[49m\u001b[38;5;241;43m.\u001b[39;49m\u001b[43msolve\u001b[49m\u001b[43m(\u001b[49m\n\u001b[0;32m    324\u001b[0m \u001b[43m    \u001b[49m\u001b[43mX_train\u001b[49m\u001b[38;5;241;43m=\u001b[39;49m\u001b[43mX_train\u001b[49m\u001b[43m,\u001b[49m\n\u001b[0;32m    325\u001b[0m \u001b[43m    \u001b[49m\u001b[43mX_test\u001b[49m\u001b[38;5;241;43m=\u001b[39;49m\u001b[43mX_test\u001b[49m\u001b[43m,\u001b[49m\n\u001b[0;32m    326\u001b[0m \u001b[43m    \u001b[49m\u001b[43my_train\u001b[49m\u001b[38;5;241;43m=\u001b[39;49m\u001b[43my_train\u001b[49m\u001b[43m,\u001b[49m\n\u001b[0;32m    327\u001b[0m \u001b[43m    \u001b[49m\u001b[43my_test\u001b[49m\u001b[38;5;241;43m=\u001b[39;49m\u001b[43my_test\u001b[49m\u001b[43m,\u001b[49m\n\u001b[0;32m    328\u001b[0m \u001b[43m    \u001b[49m\u001b[43mcurr_dataset\u001b[49m\u001b[38;5;241;43m=\u001b[39;49m\u001b[43mdataset_name\u001b[49m\u001b[43m,\u001b[49m\n\u001b[0;32m    329\u001b[0m \u001b[43m    \u001b[49m\u001b[38;5;241;43m*\u001b[39;49m\u001b[38;5;241;43m*\u001b[39;49m\u001b[43mslim_gsgp_solve_parameters\u001b[49m\n\u001b[0;32m    330\u001b[0m \u001b[43m\u001b[49m\u001b[43m)\u001b[49m\n\u001b[0;32m    332\u001b[0m log_settings(\n\u001b[0;32m    333\u001b[0m     path\u001b[38;5;241m=\u001b[39mos\u001b[38;5;241m.\u001b[39mpath\u001b[38;5;241m.\u001b[39mjoin(os\u001b[38;5;241m.\u001b[39mgetcwd(), \u001b[38;5;124m\"\u001b[39m\u001b[38;5;124mlog\u001b[39m\u001b[38;5;124m\"\u001b[39m, \u001b[38;5;124m\"\u001b[39m\u001b[38;5;124mslim_settings.csv\u001b[39m\u001b[38;5;124m\"\u001b[39m),\n\u001b[0;32m    334\u001b[0m     settings_dict\u001b[38;5;241m=\u001b[39m[slim_gsgp_solve_parameters,\n\u001b[1;32m   (...)\u001b[0m\n\u001b[0;32m    338\u001b[0m     unique_run_id\u001b[38;5;241m=\u001b[39mUNIQUE_RUN_ID\n\u001b[0;32m    339\u001b[0m )\n\u001b[0;32m    341\u001b[0m optimizer\u001b[38;5;241m.\u001b[39melite\u001b[38;5;241m.\u001b[39mversion \u001b[38;5;241m=\u001b[39m slim_version\n",
      "File \u001b[1;32mc:\\Users\\Mateus\\Documents\\Tese\\Codigo\\SLIM-Tests\\slim_gsgp_lib\\algorithms\\SLIM_GSGP\\slim_gsgp.py:311\u001b[0m, in \u001b[0;36mSLIM_GSGP.solve\u001b[1;34m(self, X_train, X_test, y_train, y_test, curr_dataset, run_info, n_iter, elitism, log, verbose, test_elite, log_path, ffunction, max_depth, n_elites, reconstruct, n_jobs)\u001b[0m\n\u001b[0;32m    309\u001b[0m             off1 \u001b[38;5;241m=\u001b[39m \u001b[38;5;28mself\u001b[39m\u001b[38;5;241m.\u001b[39mdeflate_mutation_step(p1, X_train, X_test, reconstruct)\n\u001b[0;32m    310\u001b[0m         \u001b[38;5;28;01melse\u001b[39;00m:\n\u001b[1;32m--> 311\u001b[0m             off1 \u001b[38;5;241m=\u001b[39m \u001b[38;5;28;43mself\u001b[39;49m\u001b[38;5;241;43m.\u001b[39;49m\u001b[43minflate_mutation_step\u001b[49m\u001b[43m(\u001b[49m\u001b[43mp1\u001b[49m\u001b[43m,\u001b[49m\u001b[43m \u001b[49m\u001b[43mX_train\u001b[49m\u001b[43m,\u001b[49m\u001b[43m \u001b[49m\u001b[43mX_test\u001b[49m\u001b[43m,\u001b[49m\u001b[43m \u001b[49m\u001b[43mreconstruct\u001b[49m\u001b[43m,\u001b[49m\u001b[43m \u001b[49m\u001b[43mmax_depth\u001b[49m\u001b[43m)\u001b[49m\n\u001b[0;32m    312\u001b[0m         offs_pop\u001b[38;5;241m.\u001b[39mappend(off1)\n\u001b[0;32m    314\u001b[0m \u001b[38;5;66;03m# removing any excess individuals from the offspring population\u001b[39;00m\n",
      "File \u001b[1;32mc:\\Users\\Mateus\\Documents\\Tese\\Codigo\\SLIM-Tests\\slim_gsgp_lib\\algorithms\\SLIM_GSGP\\slim_gsgp.py:387\u001b[0m, in \u001b[0;36mSLIM_GSGP.inflate_mutation_step\u001b[1;34m(self, p1, X_train, X_test, reconstruct, max_depth)\u001b[0m\n\u001b[0;32m    384\u001b[0m     \u001b[38;5;28;01melse\u001b[39;00m:\n\u001b[0;32m    385\u001b[0m         \u001b[38;5;28;01mreturn\u001b[39;00m \u001b[38;5;28mself\u001b[39m\u001b[38;5;241m.\u001b[39mdeflate_mutator(p1, reconstruct\u001b[38;5;241m=\u001b[39mreconstruct)\n\u001b[1;32m--> 387\u001b[0m off1 \u001b[38;5;241m=\u001b[39m \u001b[38;5;28;43mself\u001b[39;49m\u001b[38;5;241;43m.\u001b[39;49m\u001b[43minflate_mutator\u001b[49m\u001b[43m(\u001b[49m\n\u001b[0;32m    388\u001b[0m \u001b[43m    \u001b[49m\u001b[43mp1\u001b[49m\u001b[43m,\u001b[49m\n\u001b[0;32m    389\u001b[0m \u001b[43m    \u001b[49m\u001b[43mms_\u001b[49m\u001b[43m,\u001b[49m\n\u001b[0;32m    390\u001b[0m \u001b[43m    \u001b[49m\u001b[43mX_train\u001b[49m\u001b[43m,\u001b[49m\n\u001b[0;32m    391\u001b[0m \u001b[43m    \u001b[49m\u001b[43mmax_depth\u001b[49m\u001b[38;5;241;43m=\u001b[39;49m\u001b[38;5;28;43mself\u001b[39;49m\u001b[38;5;241;43m.\u001b[39;49m\u001b[43mpi_init\u001b[49m\u001b[43m[\u001b[49m\u001b[38;5;124;43m\"\u001b[39;49m\u001b[38;5;124;43minit_depth\u001b[39;49m\u001b[38;5;124;43m\"\u001b[39;49m\u001b[43m]\u001b[49m\u001b[43m,\u001b[49m\n\u001b[0;32m    392\u001b[0m \u001b[43m    \u001b[49m\u001b[43mp_c\u001b[49m\u001b[38;5;241;43m=\u001b[39;49m\u001b[38;5;28;43mself\u001b[39;49m\u001b[38;5;241;43m.\u001b[39;49m\u001b[43mpi_init\u001b[49m\u001b[43m[\u001b[49m\u001b[38;5;124;43m\"\u001b[39;49m\u001b[38;5;124;43mp_c\u001b[39;49m\u001b[38;5;124;43m\"\u001b[39;49m\u001b[43m]\u001b[49m\u001b[43m,\u001b[49m\n\u001b[0;32m    393\u001b[0m \u001b[43m    \u001b[49m\u001b[43mX_test\u001b[49m\u001b[38;5;241;43m=\u001b[39;49m\u001b[43mX_test\u001b[49m\u001b[43m,\u001b[49m\n\u001b[0;32m    394\u001b[0m \u001b[43m    \u001b[49m\u001b[43mreconstruct\u001b[49m\u001b[38;5;241;43m=\u001b[39;49m\u001b[43mreconstruct\u001b[49m\u001b[43m,\u001b[49m\n\u001b[0;32m    395\u001b[0m \u001b[43m    \u001b[49m\u001b[43mgrow_probability\u001b[49m\u001b[38;5;241;43m=\u001b[39;49m\u001b[38;5;28;43mself\u001b[39;49m\u001b[38;5;241;43m.\u001b[39;49m\u001b[43mp_g\u001b[49m\u001b[43m,\u001b[49m\n\u001b[0;32m    396\u001b[0m \u001b[43m\u001b[49m\u001b[43m)\u001b[49m\n\u001b[0;32m    398\u001b[0m \u001b[38;5;28;01mif\u001b[39;00m max_depth \u001b[38;5;129;01mis\u001b[39;00m \u001b[38;5;129;01mnot\u001b[39;00m \u001b[38;5;28;01mNone\u001b[39;00m \u001b[38;5;129;01mand\u001b[39;00m off1\u001b[38;5;241m.\u001b[39mdepth \u001b[38;5;241m>\u001b[39m max_depth:\n\u001b[0;32m    399\u001b[0m     \u001b[38;5;28;01mif\u001b[39;00m \u001b[38;5;28mself\u001b[39m\u001b[38;5;241m.\u001b[39mstruct_mutation:\n",
      "File \u001b[1;32mc:\\Users\\Mateus\\Documents\\Tese\\Codigo\\SLIM-Tests\\slim_gsgp_lib\\algorithms\\SLIM_GSGP\\operators\\mutators.py:331\u001b[0m, in \u001b[0;36minflate_mutation.<locals>.inflate\u001b[1;34m(individual, ms, X, max_depth, p_c, X_test, grow_probability, reconstruct)\u001b[0m\n\u001b[0;32m    302\u001b[0m \u001b[38;5;250m\u001b[39m\u001b[38;5;124;03m\"\"\"\u001b[39;00m\n\u001b[0;32m    303\u001b[0m \u001b[38;5;124;03mPerform inflate mutation on the given Individual.\u001b[39;00m\n\u001b[0;32m    304\u001b[0m \n\u001b[1;32m   (...)\u001b[0m\n\u001b[0;32m    327\u001b[0m \u001b[38;5;124;03m    The mutated tree Individual.\u001b[39;00m\n\u001b[0;32m    328\u001b[0m \u001b[38;5;124;03m\"\"\"\u001b[39;00m\n\u001b[0;32m    329\u001b[0m \u001b[38;5;28;01mif\u001b[39;00m two_trees:\n\u001b[0;32m    330\u001b[0m     \u001b[38;5;66;03m# getting two random trees\u001b[39;00m\n\u001b[1;32m--> 331\u001b[0m     random_tree1 \u001b[38;5;241m=\u001b[39m \u001b[43mget_random_tree\u001b[49m\u001b[43m(\u001b[49m\n\u001b[0;32m    332\u001b[0m \u001b[43m        \u001b[49m\u001b[43mmax_depth\u001b[49m\u001b[43m,\u001b[49m\n\u001b[0;32m    333\u001b[0m \u001b[43m        \u001b[49m\u001b[43mFUNCTIONS\u001b[49m\u001b[43m,\u001b[49m\n\u001b[0;32m    334\u001b[0m \u001b[43m        \u001b[49m\u001b[43mTERMINALS\u001b[49m\u001b[43m,\u001b[49m\n\u001b[0;32m    335\u001b[0m \u001b[43m        \u001b[49m\u001b[43mCONSTANTS\u001b[49m\u001b[43m,\u001b[49m\n\u001b[0;32m    336\u001b[0m \u001b[43m        \u001b[49m\u001b[43minputs\u001b[49m\u001b[38;5;241;43m=\u001b[39;49m\u001b[43mX\u001b[49m\u001b[43m,\u001b[49m\n\u001b[0;32m    337\u001b[0m \u001b[43m        \u001b[49m\u001b[43mp_c\u001b[49m\u001b[38;5;241;43m=\u001b[39;49m\u001b[43mp_c\u001b[49m\u001b[43m,\u001b[49m\n\u001b[0;32m    338\u001b[0m \u001b[43m        \u001b[49m\u001b[43mgrow_probability\u001b[49m\u001b[38;5;241;43m=\u001b[39;49m\u001b[43mgrow_probability\u001b[49m\u001b[43m,\u001b[49m\n\u001b[0;32m    339\u001b[0m \u001b[43m        \u001b[49m\u001b[43mlogistic\u001b[49m\u001b[38;5;241;43m=\u001b[39;49m\u001b[38;5;28;43;01mTrue\u001b[39;49;00m\u001b[43m,\u001b[49m\n\u001b[0;32m    340\u001b[0m \u001b[43m    \u001b[49m\u001b[43m)\u001b[49m\n\u001b[0;32m    341\u001b[0m     random_tree2 \u001b[38;5;241m=\u001b[39m get_random_tree(\n\u001b[0;32m    342\u001b[0m         max_depth,\n\u001b[0;32m    343\u001b[0m         FUNCTIONS,\n\u001b[1;32m   (...)\u001b[0m\n\u001b[0;32m    349\u001b[0m         logistic\u001b[38;5;241m=\u001b[39m\u001b[38;5;28;01mTrue\u001b[39;00m,\n\u001b[0;32m    350\u001b[0m     )\n\u001b[0;32m    351\u001b[0m     \u001b[38;5;66;03m# adding the random trees to a list, to be used in the creation of a new block\u001b[39;00m\n",
      "File \u001b[1;32mc:\\Users\\Mateus\\Documents\\Tese\\Codigo\\SLIM-Tests\\slim_gsgp_lib\\utils\\utils.py:322\u001b[0m, in \u001b[0;36mget_random_tree\u001b[1;34m(max_depth, FUNCTIONS, TERMINALS, CONSTANTS, inputs, p_c, grow_probability, logistic)\u001b[0m\n\u001b[0;32m    315\u001b[0m tree \u001b[38;5;241m=\u001b[39m Tree(\n\u001b[0;32m    316\u001b[0m     structure\u001b[38;5;241m=\u001b[39mtree_structure,\n\u001b[0;32m    317\u001b[0m     train_semantics\u001b[38;5;241m=\u001b[39m\u001b[38;5;28;01mNone\u001b[39;00m,\n\u001b[0;32m    318\u001b[0m     test_semantics\u001b[38;5;241m=\u001b[39m\u001b[38;5;28;01mNone\u001b[39;00m,\n\u001b[0;32m    319\u001b[0m     reconstruct\u001b[38;5;241m=\u001b[39m\u001b[38;5;28;01mTrue\u001b[39;00m,\n\u001b[0;32m    320\u001b[0m )\n\u001b[0;32m    321\u001b[0m \u001b[38;5;28;01mif\u001b[39;00m inputs \u001b[38;5;129;01mis\u001b[39;00m \u001b[38;5;129;01mnot\u001b[39;00m \u001b[38;5;28;01mNone\u001b[39;00m:\n\u001b[1;32m--> 322\u001b[0m     \u001b[43mtree\u001b[49m\u001b[38;5;241;43m.\u001b[39;49m\u001b[43mcalculate_semantics\u001b[49m\u001b[43m(\u001b[49m\u001b[43minputs\u001b[49m\u001b[43m,\u001b[49m\u001b[43m \u001b[49m\u001b[43mtesting\u001b[49m\u001b[38;5;241;43m=\u001b[39;49m\u001b[38;5;28;43;01mFalse\u001b[39;49;00m\u001b[43m,\u001b[49m\u001b[43m \u001b[49m\u001b[43mlogistic\u001b[49m\u001b[38;5;241;43m=\u001b[39;49m\u001b[43mlogistic\u001b[49m\u001b[43m)\u001b[49m\n\u001b[0;32m    323\u001b[0m \u001b[38;5;28;01mreturn\u001b[39;00m tree\n",
      "File \u001b[1;32mc:\\Users\\Mateus\\Documents\\Tese\\Codigo\\SLIM-Tests\\slim_gsgp_lib\\algorithms\\GSGP\\representations\\tree.py:149\u001b[0m, in \u001b[0;36mTree.calculate_semantics\u001b[1;34m(self, inputs, testing, logistic)\u001b[0m\n\u001b[0;32m    145\u001b[0m \u001b[38;5;28;01melif\u001b[39;00m \u001b[38;5;28mself\u001b[39m\u001b[38;5;241m.\u001b[39mtrain_semantics \u001b[38;5;129;01mis\u001b[39;00m \u001b[38;5;28;01mNone\u001b[39;00m:\n\u001b[0;32m    146\u001b[0m     \u001b[38;5;66;03m# if the structure is a base (gp) tree, call apply_tree in order to obtain the semantics\u001b[39;00m\n\u001b[0;32m    147\u001b[0m     \u001b[38;5;28;01mif\u001b[39;00m \u001b[38;5;28misinstance\u001b[39m(\u001b[38;5;28mself\u001b[39m\u001b[38;5;241m.\u001b[39mstructure, \u001b[38;5;28mtuple\u001b[39m):\n\u001b[0;32m    148\u001b[0m         \u001b[38;5;28mself\u001b[39m\u001b[38;5;241m.\u001b[39mtrain_semantics \u001b[38;5;241m=\u001b[39m (\n\u001b[1;32m--> 149\u001b[0m             torch\u001b[38;5;241m.\u001b[39msigmoid(\u001b[43mapply_tree\u001b[49m\u001b[43m(\u001b[49m\u001b[38;5;28;43mself\u001b[39;49m\u001b[43m,\u001b[49m\u001b[43m \u001b[49m\u001b[43minputs\u001b[49m\u001b[43m)\u001b[49m)\n\u001b[0;32m    150\u001b[0m             \u001b[38;5;28;01mif\u001b[39;00m logistic\n\u001b[0;32m    151\u001b[0m             \u001b[38;5;28;01melse\u001b[39;00m apply_tree(\u001b[38;5;28mself\u001b[39m, inputs)\n\u001b[0;32m    152\u001b[0m         )\n\u001b[0;32m    153\u001b[0m     \u001b[38;5;28;01melse\u001b[39;00m:\n\u001b[0;32m    154\u001b[0m         \u001b[38;5;66;03m# otherwise, the semantics are computed by calling the operator (crossover or mutation)\u001b[39;00m\n\u001b[0;32m    155\u001b[0m         \u001b[38;5;66;03m# with the remaining structure of the individual\u001b[39;00m\n\u001b[0;32m    156\u001b[0m         \u001b[38;5;28mself\u001b[39m\u001b[38;5;241m.\u001b[39mtrain_semantics \u001b[38;5;241m=\u001b[39m \u001b[38;5;28mself\u001b[39m\u001b[38;5;241m.\u001b[39mstructure[\u001b[38;5;241m0\u001b[39m](\n\u001b[0;32m    157\u001b[0m             \u001b[38;5;241m*\u001b[39m\u001b[38;5;28mself\u001b[39m\u001b[38;5;241m.\u001b[39mstructure[\u001b[38;5;241m1\u001b[39m:], testing\u001b[38;5;241m=\u001b[39m\u001b[38;5;28;01mFalse\u001b[39;00m\n\u001b[0;32m    158\u001b[0m         )\n",
      "File \u001b[1;32mc:\\Users\\Mateus\\Documents\\Tese\\Codigo\\SLIM-Tests\\slim_gsgp_lib\\algorithms\\GSGP\\representations\\tree_utils.py:108\u001b[0m, in \u001b[0;36mapply_tree\u001b[1;34m(tree, inputs)\u001b[0m\n\u001b[0;32m    106\u001b[0m     right_subtree \u001b[38;5;241m=\u001b[39m Tree(right_subtree)\n\u001b[0;32m    107\u001b[0m     left_result \u001b[38;5;241m=\u001b[39m left_subtree\u001b[38;5;241m.\u001b[39mapply_tree(inputs)\n\u001b[1;32m--> 108\u001b[0m     right_result \u001b[38;5;241m=\u001b[39m \u001b[43mright_subtree\u001b[49m\u001b[38;5;241;43m.\u001b[39;49m\u001b[43mapply_tree\u001b[49m\u001b[43m(\u001b[49m\u001b[43minputs\u001b[49m\u001b[43m)\u001b[49m\n\u001b[0;32m    109\u001b[0m     output \u001b[38;5;241m=\u001b[39m tree\u001b[38;5;241m.\u001b[39mFUNCTIONS[function_name][\u001b[38;5;124m\"\u001b[39m\u001b[38;5;124mfunction\u001b[39m\u001b[38;5;124m\"\u001b[39m](\n\u001b[0;32m    110\u001b[0m         left_result, right_result\n\u001b[0;32m    111\u001b[0m     )\n\u001b[0;32m    112\u001b[0m \u001b[38;5;28;01melse\u001b[39;00m:\n",
      "File \u001b[1;32mc:\\Users\\Mateus\\Documents\\Tese\\Codigo\\SLIM-Tests\\slim_gsgp_lib\\algorithms\\GP\\representations\\tree.py:91\u001b[0m, in \u001b[0;36mTree.apply_tree\u001b[1;34m(self, inputs)\u001b[0m\n\u001b[0;32m     76\u001b[0m \u001b[38;5;28;01mdef\u001b[39;00m \u001b[38;5;21mapply_tree\u001b[39m(\u001b[38;5;28mself\u001b[39m, inputs):\n\u001b[0;32m     77\u001b[0m \u001b[38;5;250m    \u001b[39m\u001b[38;5;124;03m\"\"\"\u001b[39;00m\n\u001b[0;32m     78\u001b[0m \u001b[38;5;124;03m    Evaluates the tree on input vectors.\u001b[39;00m\n\u001b[0;32m     79\u001b[0m \n\u001b[1;32m   (...)\u001b[0m\n\u001b[0;32m     88\u001b[0m \u001b[38;5;124;03m        Output of the evaluated tree.\u001b[39;00m\n\u001b[0;32m     89\u001b[0m \u001b[38;5;124;03m    \"\"\"\u001b[39;00m\n\u001b[1;32m---> 91\u001b[0m     \u001b[38;5;28;01mreturn\u001b[39;00m \u001b[43m_execute_tree\u001b[49m\u001b[43m(\u001b[49m\n\u001b[0;32m     92\u001b[0m \u001b[43m        \u001b[49m\u001b[43mrepr_\u001b[49m\u001b[38;5;241;43m=\u001b[39;49m\u001b[38;5;28;43mself\u001b[39;49m\u001b[38;5;241;43m.\u001b[39;49m\u001b[43mrepr_\u001b[49m\u001b[43m,\u001b[49m\n\u001b[0;32m     93\u001b[0m \u001b[43m        \u001b[49m\u001b[43mX\u001b[49m\u001b[38;5;241;43m=\u001b[39;49m\u001b[43minputs\u001b[49m\u001b[43m,\u001b[49m\n\u001b[0;32m     94\u001b[0m \u001b[43m        \u001b[49m\u001b[43mFUNCTIONS\u001b[49m\u001b[38;5;241;43m=\u001b[39;49m\u001b[38;5;28;43mself\u001b[39;49m\u001b[38;5;241;43m.\u001b[39;49m\u001b[43mFUNCTIONS\u001b[49m\u001b[43m,\u001b[49m\n\u001b[0;32m     95\u001b[0m \u001b[43m        \u001b[49m\u001b[43mTERMINALS\u001b[49m\u001b[38;5;241;43m=\u001b[39;49m\u001b[38;5;28;43mself\u001b[39;49m\u001b[38;5;241;43m.\u001b[39;49m\u001b[43mTERMINALS\u001b[49m\u001b[43m,\u001b[49m\n\u001b[0;32m     96\u001b[0m \u001b[43m        \u001b[49m\u001b[43mCONSTANTS\u001b[49m\u001b[38;5;241;43m=\u001b[39;49m\u001b[38;5;28;43mself\u001b[39;49m\u001b[38;5;241;43m.\u001b[39;49m\u001b[43mCONSTANTS\u001b[49m\n\u001b[0;32m     97\u001b[0m \u001b[43m    \u001b[49m\u001b[43m)\u001b[49m\n",
      "File \u001b[1;32mc:\\Users\\Mateus\\Documents\\Tese\\Codigo\\SLIM-Tests\\slim_gsgp_lib\\algorithms\\GP\\representations\\tree_utils.py:572\u001b[0m, in \u001b[0;36m_execute_tree\u001b[1;34m(repr_, X, FUNCTIONS, TERMINALS, CONSTANTS)\u001b[0m\n\u001b[0;32m    570\u001b[0m     \u001b[38;5;28;01mreturn\u001b[39;00m X[:, TERMINALS[repr_]]\n\u001b[0;32m    571\u001b[0m \u001b[38;5;28;01melif\u001b[39;00m repr_ \u001b[38;5;129;01min\u001b[39;00m CONSTANTS:\n\u001b[1;32m--> 572\u001b[0m     \u001b[38;5;28;01mreturn\u001b[39;00m \u001b[43mtorch\u001b[49m\u001b[38;5;241;43m.\u001b[39;49m\u001b[43mfull\u001b[49m\u001b[43m(\u001b[49m\u001b[43m(\u001b[49m\u001b[43mX\u001b[49m\u001b[38;5;241;43m.\u001b[39;49m\u001b[43mshape\u001b[49m\u001b[43m[\u001b[49m\u001b[38;5;241;43m0\u001b[39;49m\u001b[43m]\u001b[49m\u001b[43m,\u001b[49m\u001b[43m)\u001b[49m\u001b[43m,\u001b[49m\u001b[43m \u001b[49m\u001b[43mCONSTANTS\u001b[49m\u001b[43m[\u001b[49m\u001b[43mrepr_\u001b[49m\u001b[43m]\u001b[49m\u001b[43m(\u001b[49m\u001b[38;5;28;43;01mNone\u001b[39;49;00m\u001b[43m)\u001b[49m\u001b[43m)\u001b[49m\n",
      "\u001b[1;31mKeyboardInterrupt\u001b[0m: "
     ]
    }
   ],
   "source": [
    "X,y = datasets[0]()\n",
    "\n",
    "random_search_slim(X,y, 'test', scale=False, p_train=p_train, iterations=n_iter_rs, n_iter=n_iter, show_progress=True,\n",
    "                   struct_mutation=False, x_o=False, save=False)"
   ]
  },
  {
   "cell_type": "markdown",
   "metadata": {},
   "source": [
    "#### SLIM "
   ]
  },
  {
   "cell_type": "code",
   "execution_count": 12,
   "metadata": {},
   "outputs": [
    {
     "name": "stderr",
     "output_type": "stream",
     "text": [
      "  0%|          | 0/13 [00:00<?, ?it/s]"
     ]
    },
    {
     "name": "stdout",
     "output_type": "stream",
     "text": [
      "Performing random search for boston...\n",
      "Random search for boston completed!\n",
      "Results for SLIM+SIG2 on boston saved!\n",
      "Results for SLIM*SIG2 on boston saved!\n",
      "Results for SLIM+ABS on boston saved!\n",
      "Results for SLIM*ABS on boston saved!\n",
      "Results for SLIM+SIG1 on boston saved!\n"
     ]
    },
    {
     "name": "stderr",
     "output_type": "stream",
     "text": [
      "  8%|▊         | 1/13 [1:38:39<19:43:54, 5919.57s/it]"
     ]
    },
    {
     "name": "stdout",
     "output_type": "stream",
     "text": [
      "Results for SLIM*SIG1 on boston saved!\n",
      "Results for boston saved!\n",
      "---------------------------------------------------\n",
      "Performing random search for breast_cancer...\n",
      "Random search for breast_cancer completed!\n",
      "Results for SLIM+SIG2 on breast_cancer saved!\n",
      "Results for SLIM*SIG2 on breast_cancer saved!\n",
      "Results for SLIM+ABS on breast_cancer saved!\n",
      "Results for SLIM*ABS on breast_cancer saved!\n",
      "Results for SLIM+SIG1 on breast_cancer saved!\n"
     ]
    },
    {
     "name": "stderr",
     "output_type": "stream",
     "text": [
      " 15%|█▌        | 2/13 [3:16:31<18:00:10, 5891.82s/it]"
     ]
    },
    {
     "name": "stdout",
     "output_type": "stream",
     "text": [
      "Results for SLIM*SIG1 on breast_cancer saved!\n",
      "Results for breast_cancer saved!\n",
      "---------------------------------------------------\n",
      "Performing random search for concrete_slump...\n",
      "Random search for concrete_slump completed!\n",
      "Results for SLIM+SIG2 on concrete_slump saved!\n",
      "Results for SLIM*SIG2 on concrete_slump saved!\n",
      "Results for SLIM+ABS on concrete_slump saved!\n",
      "Results for SLIM*ABS on concrete_slump saved!\n",
      "Results for SLIM+SIG1 on concrete_slump saved!\n"
     ]
    },
    {
     "name": "stderr",
     "output_type": "stream",
     "text": [
      " 23%|██▎       | 3/13 [5:04:47<17:07:54, 6167.47s/it]"
     ]
    },
    {
     "name": "stdout",
     "output_type": "stream",
     "text": [
      "Results for SLIM*SIG1 on concrete_slump saved!\n",
      "Results for concrete_slump saved!\n",
      "---------------------------------------------------\n",
      "Performing random search for concrete_strength...\n",
      "Random search for concrete_strength completed!\n",
      "Results for SLIM+SIG2 on concrete_strength saved!\n",
      "Results for SLIM*SIG2 on concrete_strength saved!\n",
      "Results for SLIM+ABS on concrete_strength saved!\n",
      "Results for SLIM*ABS on concrete_strength saved!\n",
      "Results for SLIM+SIG1 on concrete_strength saved!\n"
     ]
    },
    {
     "name": "stderr",
     "output_type": "stream",
     "text": [
      " 31%|███       | 4/13 [6:47:55<15:26:19, 6175.55s/it]"
     ]
    },
    {
     "name": "stdout",
     "output_type": "stream",
     "text": [
      "Results for SLIM*SIG1 on concrete_strength saved!\n",
      "Results for concrete_strength saved!\n",
      "---------------------------------------------------\n",
      "Performing random search for diabetes...\n",
      "Random search for diabetes completed!\n",
      "Results for SLIM+SIG2 on diabetes saved!\n",
      "Results for SLIM*SIG2 on diabetes saved!\n",
      "Results for SLIM+ABS on diabetes saved!\n",
      "Results for SLIM*ABS on diabetes saved!\n",
      "Results for SLIM+SIG1 on diabetes saved!\n"
     ]
    },
    {
     "name": "stderr",
     "output_type": "stream",
     "text": [
      " 38%|███▊      | 5/13 [8:23:34<13:22:25, 6018.13s/it]"
     ]
    },
    {
     "name": "stdout",
     "output_type": "stream",
     "text": [
      "Results for SLIM*SIG1 on diabetes saved!\n",
      "Results for diabetes saved!\n",
      "---------------------------------------------------\n",
      "Performing random search for efficiency_heating...\n",
      "Random search for efficiency_heating completed!\n",
      "Results for SLIM+SIG2 on efficiency_heating saved!\n",
      "Results for SLIM*SIG2 on efficiency_heating saved!\n",
      "Results for SLIM+ABS on efficiency_heating saved!\n",
      "Results for SLIM*ABS on efficiency_heating saved!\n",
      "Results for SLIM+SIG1 on efficiency_heating saved!\n"
     ]
    },
    {
     "name": "stderr",
     "output_type": "stream",
     "text": [
      " 46%|████▌     | 6/13 [10:03:24<11:41:01, 6008.72s/it]"
     ]
    },
    {
     "name": "stdout",
     "output_type": "stream",
     "text": [
      "Results for SLIM*SIG1 on efficiency_heating saved!\n",
      "Results for efficiency_heating saved!\n",
      "---------------------------------------------------\n",
      "Performing random search for efficiency_cooling...\n",
      "Random search for efficiency_cooling completed!\n",
      "Results for SLIM+SIG2 on efficiency_cooling saved!\n",
      "Results for SLIM*SIG2 on efficiency_cooling saved!\n",
      "Results for SLIM+ABS on efficiency_cooling saved!\n",
      "Results for SLIM*ABS on efficiency_cooling saved!\n",
      "Results for SLIM+SIG1 on efficiency_cooling saved!\n"
     ]
    },
    {
     "name": "stderr",
     "output_type": "stream",
     "text": [
      " 54%|█████▍    | 7/13 [11:45:54<10:05:28, 6054.74s/it]"
     ]
    },
    {
     "name": "stdout",
     "output_type": "stream",
     "text": [
      "Results for SLIM*SIG1 on efficiency_cooling saved!\n",
      "Results for efficiency_cooling saved!\n",
      "---------------------------------------------------\n",
      "Performing random search for forest_fires...\n",
      "Random search for forest_fires completed!\n",
      "Results for SLIM+SIG2 on forest_fires saved!\n",
      "Results for SLIM*SIG2 on forest_fires saved!\n",
      "Results for SLIM+ABS on forest_fires saved!\n",
      "Results for SLIM*ABS on forest_fires saved!\n",
      "Results for SLIM+SIG1 on forest_fires saved!\n"
     ]
    },
    {
     "name": "stderr",
     "output_type": "stream",
     "text": [
      " 62%|██████▏   | 8/13 [13:17:24<8:09:35, 5875.12s/it] "
     ]
    },
    {
     "name": "stdout",
     "output_type": "stream",
     "text": [
      "Results for SLIM*SIG1 on forest_fires saved!\n",
      "Results for forest_fires saved!\n",
      "---------------------------------------------------\n",
      "Performing random search for parkinson_updrs...\n",
      "Random search for parkinson_updrs completed!\n",
      "Results for SLIM+SIG2 on parkinson_updrs saved!\n",
      "Results for SLIM*SIG2 on parkinson_updrs saved!\n",
      "Results for SLIM+ABS on parkinson_updrs saved!\n",
      "Results for SLIM*ABS on parkinson_updrs saved!\n",
      "Results for SLIM+SIG1 on parkinson_updrs saved!\n"
     ]
    },
    {
     "name": "stderr",
     "output_type": "stream",
     "text": [
      " 69%|██████▉   | 9/13 [15:28:58<7:13:44, 6506.04s/it]"
     ]
    },
    {
     "name": "stdout",
     "output_type": "stream",
     "text": [
      "Results for SLIM*SIG1 on parkinson_updrs saved!\n",
      "Results for parkinson_updrs saved!\n",
      "---------------------------------------------------\n",
      "Performing random search for ld50...\n",
      "Random search for ld50 completed!\n",
      "Results for SLIM+SIG2 on ld50 saved!\n",
      "Results for SLIM*SIG2 on ld50 saved!\n",
      "Results for SLIM+ABS on ld50 saved!\n",
      "Results for SLIM*ABS on ld50 saved!\n",
      "Results for SLIM+SIG1 on ld50 saved!\n"
     ]
    },
    {
     "name": "stderr",
     "output_type": "stream",
     "text": [
      " 77%|███████▋  | 10/13 [17:33:23<5:40:06, 6802.27s/it]"
     ]
    },
    {
     "name": "stdout",
     "output_type": "stream",
     "text": [
      "Results for SLIM*SIG1 on ld50 saved!\n",
      "Results for ld50 saved!\n",
      "---------------------------------------------------\n",
      "Performing random search for ppb...\n",
      "Random search for ppb completed!\n",
      "Results for SLIM+SIG2 on ppb saved!\n",
      "Results for SLIM*SIG2 on ppb saved!\n",
      "Results for SLIM+ABS on ppb saved!\n",
      "Results for SLIM*ABS on ppb saved!\n",
      "Results for SLIM+SIG1 on ppb saved!\n"
     ]
    },
    {
     "name": "stderr",
     "output_type": "stream",
     "text": [
      " 85%|████████▍ | 11/13 [19:31:27<3:49:36, 6888.35s/it]"
     ]
    },
    {
     "name": "stdout",
     "output_type": "stream",
     "text": [
      "Results for SLIM*SIG1 on ppb saved!\n",
      "Results for ppb saved!\n",
      "---------------------------------------------------\n",
      "Performing random search for bioav...\n",
      "Random search for bioav completed!\n",
      "Results for SLIM+SIG2 on bioav saved!\n",
      "Results for SLIM*SIG2 on bioav saved!\n",
      "Results for SLIM+ABS on bioav saved!\n",
      "Results for SLIM*ABS on bioav saved!\n",
      "Results for SLIM+SIG1 on bioav saved!\n"
     ]
    },
    {
     "name": "stderr",
     "output_type": "stream",
     "text": [
      " 92%|█████████▏| 12/13 [21:11:39<1:50:21, 6621.90s/it]"
     ]
    },
    {
     "name": "stdout",
     "output_type": "stream",
     "text": [
      "Results for SLIM*SIG1 on bioav saved!\n",
      "Results for bioav saved!\n",
      "---------------------------------------------------\n",
      "Performing random search for boston...\n",
      "Random search for boston completed!\n",
      "Results for SLIM+SIG2 on boston saved!\n",
      "Results for SLIM*SIG2 on boston saved!\n",
      "Results for SLIM+ABS on boston saved!\n",
      "Results for SLIM*ABS on boston saved!\n",
      "Results for SLIM+SIG1 on boston saved!\n"
     ]
    },
    {
     "name": "stderr",
     "output_type": "stream",
     "text": [
      "100%|██████████| 13/13 [22:44:34<00:00, 6298.07s/it]  "
     ]
    },
    {
     "name": "stdout",
     "output_type": "stream",
     "text": [
      "Results for SLIM*SIG1 on boston saved!\n",
      "Results for boston saved!\n",
      "---------------------------------------------------\n"
     ]
    },
    {
     "name": "stderr",
     "output_type": "stream",
     "text": [
      "\n"
     ]
    }
   ],
   "source": [
    "for dataset_loader in tqdm(datasets[4:]):\n",
    "    X, y = dataset_loader()\n",
    "    dataset_name = dataset_loader.__name__.split('load_')[1]\n",
    "    \n",
    "    # Perform random search for both scaled and unscaled versions\n",
    "    print(f\"Performing random search for {dataset_name}...\")\n",
    "    results_unscaled = random_search_slim(X, y, dataset_name, scale=False, p_train=p_train,\n",
    "                                          iterations=n_iter_rs, pop_size=pop_size, n_iter=n_iter,\n",
    "                                          struct_mutation=False, show_progress=False)\n",
    "    \n",
    "    results_scaled = random_search_slim(X, y, dataset_name, scale=True, p_train=p_train,\n",
    "                                        iterations=n_iter_rs, pop_size=pop_size, n_iter=n_iter,\n",
    "                                        struct_mutation=False, show_progress=False)\n",
    "    \n",
    "    print(f\"Random search for {dataset_name} completed!\")\n",
    "    \n",
    "    # Initialize dictionaries for scaled and unscaled results\n",
    "    metrics = ['rmse_', 'mape_', 'nrmse_', 'r2_', 'mae_', 'std_rmse_', 'time_stats', 'train_fit', 'test_fit', 'size']\n",
    "    results_scaled_dict = {metric: {} for metric in metrics}\n",
    "    results_unscaled_dict = {metric: {} for metric in metrics}\n",
    "\n",
    "    for algorithm in results_unscaled:\n",
    "        # Retrieve the best hyperparameters for testing\n",
    "        args_unscaled = results_unscaled[algorithm]\n",
    "        args_scaled = results_scaled[algorithm]\n",
    "\n",
    "        # Test SLIM for unscaled data\n",
    "        rm_un, ma_un, nrmse_un, r2_un, mae_un, std_rmse_un, time_un, train_un, test_un, size_un = test_slim(\n",
    "            X=X, y=y, args_dict=args_unscaled, dataset_name=dataset_loader.__name__,\n",
    "            ms_lower=0, ms_upper=1, n_elites=1,\n",
    "            iterations=n_iter_test, struct_mutation=False, scale=False, algorithm=algorithm,\n",
    "            verbose=0, p_train=p_train, show_progress=False,\n",
    "        )\n",
    "        \n",
    "        # Test SLIM for scaled data\n",
    "        rm_sc, ma_sc, nrmse_sc, r2_sc, mae_sc, std_rmse_sc, time_sc, train_sc, test_sc, size_sc = test_slim(\n",
    "            X=X, y=y, args_dict=args_scaled, dataset_name=dataset_loader.__name__,\n",
    "            ms_lower=0, ms_upper=1, n_elites=1,\n",
    "            iterations=n_iter_test, struct_mutation=False, scale=True, algorithm=algorithm,\n",
    "            verbose=0, p_train=p_train, show_progress=False,\n",
    "        )\n",
    "        \n",
    "        # Initialize storage for each algorithm if not already present\n",
    "        for metric in metrics:\n",
    "            if algorithm not in results_scaled_dict[metric]:\n",
    "                results_scaled_dict[metric][algorithm] = []\n",
    "                results_unscaled_dict[metric][algorithm] = []\n",
    "\n",
    "        # Store scaled results\n",
    "        results_scaled_dict['rmse_'][algorithm].extend(rm_sc)\n",
    "        results_scaled_dict['mape_'][algorithm].extend(ma_sc)\n",
    "        results_scaled_dict['nrmse_'][algorithm].extend(nrmse_sc)\n",
    "        results_scaled_dict['r2_'][algorithm].extend(r2_sc)\n",
    "        results_scaled_dict['mae_'][algorithm].extend(mae_sc)\n",
    "        results_scaled_dict['std_rmse_'][algorithm].extend(std_rmse_sc)\n",
    "        results_scaled_dict['time_stats'][algorithm].extend(time_sc)\n",
    "        results_scaled_dict['train_fit'][algorithm].extend(train_sc)\n",
    "        results_scaled_dict['test_fit'][algorithm].extend(test_sc)\n",
    "        results_scaled_dict['size'][algorithm].extend(size_sc)\n",
    "\n",
    "        # Store unscaled results\n",
    "        results_unscaled_dict['rmse_'][algorithm].extend(rm_un)\n",
    "        results_unscaled_dict['mape_'][algorithm].extend(ma_un)\n",
    "        results_unscaled_dict['nrmse_'][algorithm].extend(nrmse_un)\n",
    "        results_unscaled_dict['r2_'][algorithm].extend(r2_un)\n",
    "        results_unscaled_dict['mae_'][algorithm].extend(mae_un)\n",
    "        results_unscaled_dict['std_rmse_'][algorithm].extend(std_rmse_un)\n",
    "        results_unscaled_dict['time_stats'][algorithm].extend(time_un)\n",
    "        results_unscaled_dict['train_fit'][algorithm].extend(train_un)\n",
    "        results_unscaled_dict['test_fit'][algorithm].extend(test_un)\n",
    "        results_unscaled_dict['size'][algorithm].extend(size_un)\n",
    "\n",
    "        print(f\"Results for {algorithm} on {dataset_name} saved!\")\n",
    "\n",
    "    # Save the results to disk\n",
    "    with open(f\"results/SLIM/{dataset_name}_scaled.pkl\", 'wb') as f:\n",
    "        pickle.dump(results_scaled_dict, f)\n",
    "\n",
    "    with open(f\"results/SLIM/{dataset_name}_unscaled.pkl\", 'wb') as f:\n",
    "        pickle.dump(results_unscaled_dict, f)\n",
    "\n",
    "    print(f\"Results for {dataset_name} saved!\")\n",
    "    print(\"---------------------------------------------------\")"
   ]
  }
 ],
 "metadata": {
  "kernelspec": {
   "display_name": "Python 3",
   "language": "python",
   "name": "python3"
  },
  "language_info": {
   "codemirror_mode": {
    "name": "ipython",
    "version": 3
   },
   "file_extension": ".py",
   "mimetype": "text/x-python",
   "name": "python",
   "nbconvert_exporter": "python",
   "pygments_lexer": "ipython3",
   "version": "3.11.3"
  }
 },
 "nbformat": 4,
 "nbformat_minor": 2
}
