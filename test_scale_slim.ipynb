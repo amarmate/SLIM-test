{
 "cells": [
  {
   "cell_type": "code",
   "execution_count": 1,
   "metadata": {},
   "outputs": [],
   "source": [
    "from functions.test_algorithms import *\n",
    "from functions.random_search import * \n",
    "from slim_gsgp_lib.datasets.data_loader import *\n",
    "import pickle\n",
    "\n",
    "datasets = [globals()[i] for i in globals() if 'load' in i][2:]"
   ]
  },
  {
   "cell_type": "markdown",
   "metadata": {},
   "source": [
    "#### Settings"
   ]
  },
  {
   "cell_type": "code",
   "execution_count": 2,
   "metadata": {},
   "outputs": [],
   "source": [
    "pop_size = 100 \n",
    "n_iter = 100\n",
    "n_iter_rs = 50\n",
    "n_iter_test = 30\n",
    "p_train = 0.7"
   ]
  },
  {
   "cell_type": "markdown",
   "metadata": {},
   "source": [
    "#### SLIM "
   ]
  },
  {
   "cell_type": "code",
   "execution_count": 12,
   "metadata": {},
   "outputs": [
    {
     "name": "stderr",
     "output_type": "stream",
     "text": [
      "  0%|          | 0/13 [00:00<?, ?it/s]"
     ]
    },
    {
     "name": "stdout",
     "output_type": "stream",
     "text": [
      "Performing random search for boston...\n",
      "Random search for boston completed!\n",
      "Results for SLIM+SIG2 on boston saved!\n",
      "Results for SLIM*SIG2 on boston saved!\n",
      "Results for SLIM+ABS on boston saved!\n",
      "Results for SLIM*ABS on boston saved!\n",
      "Results for SLIM+SIG1 on boston saved!\n"
     ]
    },
    {
     "name": "stderr",
     "output_type": "stream",
     "text": [
      "  8%|▊         | 1/13 [1:38:39<19:43:54, 5919.57s/it]"
     ]
    },
    {
     "name": "stdout",
     "output_type": "stream",
     "text": [
      "Results for SLIM*SIG1 on boston saved!\n",
      "Results for boston saved!\n",
      "---------------------------------------------------\n",
      "Performing random search for breast_cancer...\n",
      "Random search for breast_cancer completed!\n",
      "Results for SLIM+SIG2 on breast_cancer saved!\n",
      "Results for SLIM*SIG2 on breast_cancer saved!\n",
      "Results for SLIM+ABS on breast_cancer saved!\n",
      "Results for SLIM*ABS on breast_cancer saved!\n",
      "Results for SLIM+SIG1 on breast_cancer saved!\n"
     ]
    },
    {
     "name": "stderr",
     "output_type": "stream",
     "text": [
      " 15%|█▌        | 2/13 [3:16:31<18:00:10, 5891.82s/it]"
     ]
    },
    {
     "name": "stdout",
     "output_type": "stream",
     "text": [
      "Results for SLIM*SIG1 on breast_cancer saved!\n",
      "Results for breast_cancer saved!\n",
      "---------------------------------------------------\n",
      "Performing random search for concrete_slump...\n",
      "Random search for concrete_slump completed!\n",
      "Results for SLIM+SIG2 on concrete_slump saved!\n",
      "Results for SLIM*SIG2 on concrete_slump saved!\n",
      "Results for SLIM+ABS on concrete_slump saved!\n",
      "Results for SLIM*ABS on concrete_slump saved!\n",
      "Results for SLIM+SIG1 on concrete_slump saved!\n"
     ]
    },
    {
     "name": "stderr",
     "output_type": "stream",
     "text": [
      " 23%|██▎       | 3/13 [5:04:47<17:07:54, 6167.47s/it]"
     ]
    },
    {
     "name": "stdout",
     "output_type": "stream",
     "text": [
      "Results for SLIM*SIG1 on concrete_slump saved!\n",
      "Results for concrete_slump saved!\n",
      "---------------------------------------------------\n",
      "Performing random search for concrete_strength...\n",
      "Random search for concrete_strength completed!\n",
      "Results for SLIM+SIG2 on concrete_strength saved!\n",
      "Results for SLIM*SIG2 on concrete_strength saved!\n",
      "Results for SLIM+ABS on concrete_strength saved!\n",
      "Results for SLIM*ABS on concrete_strength saved!\n",
      "Results for SLIM+SIG1 on concrete_strength saved!\n"
     ]
    },
    {
     "name": "stderr",
     "output_type": "stream",
     "text": [
      " 31%|███       | 4/13 [6:47:55<15:26:19, 6175.55s/it]"
     ]
    },
    {
     "name": "stdout",
     "output_type": "stream",
     "text": [
      "Results for SLIM*SIG1 on concrete_strength saved!\n",
      "Results for concrete_strength saved!\n",
      "---------------------------------------------------\n",
      "Performing random search for diabetes...\n",
      "Random search for diabetes completed!\n",
      "Results for SLIM+SIG2 on diabetes saved!\n",
      "Results for SLIM*SIG2 on diabetes saved!\n",
      "Results for SLIM+ABS on diabetes saved!\n",
      "Results for SLIM*ABS on diabetes saved!\n",
      "Results for SLIM+SIG1 on diabetes saved!\n"
     ]
    },
    {
     "name": "stderr",
     "output_type": "stream",
     "text": [
      " 38%|███▊      | 5/13 [8:23:34<13:22:25, 6018.13s/it]"
     ]
    },
    {
     "name": "stdout",
     "output_type": "stream",
     "text": [
      "Results for SLIM*SIG1 on diabetes saved!\n",
      "Results for diabetes saved!\n",
      "---------------------------------------------------\n",
      "Performing random search for efficiency_heating...\n",
      "Random search for efficiency_heating completed!\n",
      "Results for SLIM+SIG2 on efficiency_heating saved!\n",
      "Results for SLIM*SIG2 on efficiency_heating saved!\n",
      "Results for SLIM+ABS on efficiency_heating saved!\n",
      "Results for SLIM*ABS on efficiency_heating saved!\n",
      "Results for SLIM+SIG1 on efficiency_heating saved!\n"
     ]
    },
    {
     "name": "stderr",
     "output_type": "stream",
     "text": [
      " 46%|████▌     | 6/13 [10:03:24<11:41:01, 6008.72s/it]"
     ]
    },
    {
     "name": "stdout",
     "output_type": "stream",
     "text": [
      "Results for SLIM*SIG1 on efficiency_heating saved!\n",
      "Results for efficiency_heating saved!\n",
      "---------------------------------------------------\n",
      "Performing random search for efficiency_cooling...\n",
      "Random search for efficiency_cooling completed!\n",
      "Results for SLIM+SIG2 on efficiency_cooling saved!\n",
      "Results for SLIM*SIG2 on efficiency_cooling saved!\n",
      "Results for SLIM+ABS on efficiency_cooling saved!\n",
      "Results for SLIM*ABS on efficiency_cooling saved!\n",
      "Results for SLIM+SIG1 on efficiency_cooling saved!\n"
     ]
    },
    {
     "name": "stderr",
     "output_type": "stream",
     "text": [
      " 54%|█████▍    | 7/13 [11:45:54<10:05:28, 6054.74s/it]"
     ]
    },
    {
     "name": "stdout",
     "output_type": "stream",
     "text": [
      "Results for SLIM*SIG1 on efficiency_cooling saved!\n",
      "Results for efficiency_cooling saved!\n",
      "---------------------------------------------------\n",
      "Performing random search for forest_fires...\n",
      "Random search for forest_fires completed!\n",
      "Results for SLIM+SIG2 on forest_fires saved!\n",
      "Results for SLIM*SIG2 on forest_fires saved!\n",
      "Results for SLIM+ABS on forest_fires saved!\n",
      "Results for SLIM*ABS on forest_fires saved!\n",
      "Results for SLIM+SIG1 on forest_fires saved!\n"
     ]
    },
    {
     "name": "stderr",
     "output_type": "stream",
     "text": [
      " 62%|██████▏   | 8/13 [13:17:24<8:09:35, 5875.12s/it] "
     ]
    },
    {
     "name": "stdout",
     "output_type": "stream",
     "text": [
      "Results for SLIM*SIG1 on forest_fires saved!\n",
      "Results for forest_fires saved!\n",
      "---------------------------------------------------\n",
      "Performing random search for parkinson_updrs...\n",
      "Random search for parkinson_updrs completed!\n",
      "Results for SLIM+SIG2 on parkinson_updrs saved!\n",
      "Results for SLIM*SIG2 on parkinson_updrs saved!\n",
      "Results for SLIM+ABS on parkinson_updrs saved!\n",
      "Results for SLIM*ABS on parkinson_updrs saved!\n",
      "Results for SLIM+SIG1 on parkinson_updrs saved!\n"
     ]
    },
    {
     "name": "stderr",
     "output_type": "stream",
     "text": [
      " 69%|██████▉   | 9/13 [15:28:58<7:13:44, 6506.04s/it]"
     ]
    },
    {
     "name": "stdout",
     "output_type": "stream",
     "text": [
      "Results for SLIM*SIG1 on parkinson_updrs saved!\n",
      "Results for parkinson_updrs saved!\n",
      "---------------------------------------------------\n",
      "Performing random search for ld50...\n",
      "Random search for ld50 completed!\n",
      "Results for SLIM+SIG2 on ld50 saved!\n",
      "Results for SLIM*SIG2 on ld50 saved!\n",
      "Results for SLIM+ABS on ld50 saved!\n",
      "Results for SLIM*ABS on ld50 saved!\n",
      "Results for SLIM+SIG1 on ld50 saved!\n"
     ]
    },
    {
     "name": "stderr",
     "output_type": "stream",
     "text": [
      " 77%|███████▋  | 10/13 [17:33:23<5:40:06, 6802.27s/it]"
     ]
    },
    {
     "name": "stdout",
     "output_type": "stream",
     "text": [
      "Results for SLIM*SIG1 on ld50 saved!\n",
      "Results for ld50 saved!\n",
      "---------------------------------------------------\n",
      "Performing random search for ppb...\n",
      "Random search for ppb completed!\n",
      "Results for SLIM+SIG2 on ppb saved!\n",
      "Results for SLIM*SIG2 on ppb saved!\n",
      "Results for SLIM+ABS on ppb saved!\n",
      "Results for SLIM*ABS on ppb saved!\n",
      "Results for SLIM+SIG1 on ppb saved!\n"
     ]
    },
    {
     "name": "stderr",
     "output_type": "stream",
     "text": [
      " 85%|████████▍ | 11/13 [19:31:27<3:49:36, 6888.35s/it]"
     ]
    },
    {
     "name": "stdout",
     "output_type": "stream",
     "text": [
      "Results for SLIM*SIG1 on ppb saved!\n",
      "Results for ppb saved!\n",
      "---------------------------------------------------\n",
      "Performing random search for bioav...\n",
      "Random search for bioav completed!\n",
      "Results for SLIM+SIG2 on bioav saved!\n",
      "Results for SLIM*SIG2 on bioav saved!\n",
      "Results for SLIM+ABS on bioav saved!\n",
      "Results for SLIM*ABS on bioav saved!\n",
      "Results for SLIM+SIG1 on bioav saved!\n"
     ]
    },
    {
     "name": "stderr",
     "output_type": "stream",
     "text": [
      " 92%|█████████▏| 12/13 [21:11:39<1:50:21, 6621.90s/it]"
     ]
    },
    {
     "name": "stdout",
     "output_type": "stream",
     "text": [
      "Results for SLIM*SIG1 on bioav saved!\n",
      "Results for bioav saved!\n",
      "---------------------------------------------------\n",
      "Performing random search for boston...\n",
      "Random search for boston completed!\n",
      "Results for SLIM+SIG2 on boston saved!\n",
      "Results for SLIM*SIG2 on boston saved!\n",
      "Results for SLIM+ABS on boston saved!\n",
      "Results for SLIM*ABS on boston saved!\n",
      "Results for SLIM+SIG1 on boston saved!\n"
     ]
    },
    {
     "name": "stderr",
     "output_type": "stream",
     "text": [
      "100%|██████████| 13/13 [22:44:34<00:00, 6298.07s/it]  "
     ]
    },
    {
     "name": "stdout",
     "output_type": "stream",
     "text": [
      "Results for SLIM*SIG1 on boston saved!\n",
      "Results for boston saved!\n",
      "---------------------------------------------------\n"
     ]
    },
    {
     "name": "stderr",
     "output_type": "stream",
     "text": [
      "\n"
     ]
    }
   ],
   "source": [
    "for dataset_loader in tqdm(datasets[4:]):\n",
    "    X, y = dataset_loader()\n",
    "    dataset_name = dataset_loader.__name__.split('load_')[1]\n",
    "    \n",
    "    # Perform random search for both scaled and unscaled versions\n",
    "    print(f\"Performing random search for {dataset_name}...\")\n",
    "    results_unscaled = random_search_slim(X, y, dataset_name, scale=False, p_train=p_train,\n",
    "                                          iterations=n_iter_rs, pop_size=pop_size, n_iter=n_iter,\n",
    "                                          struct_mutation=False, show_progress=False)\n",
    "    \n",
    "    results_scaled = random_search_slim(X, y, dataset_name, scale=True, p_train=p_train,\n",
    "                                        iterations=n_iter_rs, pop_size=pop_size, n_iter=n_iter,\n",
    "                                        struct_mutation=False, show_progress=False)\n",
    "    \n",
    "    print(f\"Random search for {dataset_name} completed!\")\n",
    "    \n",
    "    # Initialize dictionaries for scaled and unscaled results\n",
    "    metrics = ['rmse_', 'mape_', 'nrmse_', 'r2_', 'mae_', 'std_rmse_', 'time_stats', 'train_fit', 'test_fit', 'size']\n",
    "    results_scaled_dict = {metric: {} for metric in metrics}\n",
    "    results_unscaled_dict = {metric: {} for metric in metrics}\n",
    "\n",
    "    for algorithm in results_unscaled:\n",
    "        # Retrieve the best hyperparameters for testing\n",
    "        args_unscaled = results_unscaled[algorithm]\n",
    "        args_scaled = results_scaled[algorithm]\n",
    "\n",
    "        # Test SLIM for unscaled data\n",
    "        rm_un, ma_un, nrmse_un, r2_un, mae_un, std_rmse_un, time_un, train_un, test_un, size_un = test_slim(\n",
    "            X=X, y=y, args_dict=args_unscaled, dataset_name=dataset_loader.__name__,\n",
    "            ms_lower=0, ms_upper=1, n_elites=1,\n",
    "            iterations=n_iter_test, struct_mutation=False, scale=False, algorithm=algorithm,\n",
    "            verbose=0, p_train=p_train, show_progress=False,\n",
    "        )\n",
    "        \n",
    "        # Test SLIM for scaled data\n",
    "        rm_sc, ma_sc, nrmse_sc, r2_sc, mae_sc, std_rmse_sc, time_sc, train_sc, test_sc, size_sc = test_slim(\n",
    "            X=X, y=y, args_dict=args_scaled, dataset_name=dataset_loader.__name__,\n",
    "            ms_lower=0, ms_upper=1, n_elites=1,\n",
    "            iterations=n_iter_test, struct_mutation=False, scale=True, algorithm=algorithm,\n",
    "            verbose=0, p_train=p_train, show_progress=False,\n",
    "        )\n",
    "        \n",
    "        # Initialize storage for each algorithm if not already present\n",
    "        for metric in metrics:\n",
    "            if algorithm not in results_scaled_dict[metric]:\n",
    "                results_scaled_dict[metric][algorithm] = []\n",
    "                results_unscaled_dict[metric][algorithm] = []\n",
    "\n",
    "        # Store scaled results\n",
    "        results_scaled_dict['rmse_'][algorithm].extend(rm_sc)\n",
    "        results_scaled_dict['mape_'][algorithm].extend(ma_sc)\n",
    "        results_scaled_dict['nrmse_'][algorithm].extend(nrmse_sc)\n",
    "        results_scaled_dict['r2_'][algorithm].extend(r2_sc)\n",
    "        results_scaled_dict['mae_'][algorithm].extend(mae_sc)\n",
    "        results_scaled_dict['std_rmse_'][algorithm].extend(std_rmse_sc)\n",
    "        results_scaled_dict['time_stats'][algorithm].extend(time_sc)\n",
    "        results_scaled_dict['train_fit'][algorithm].extend(train_sc)\n",
    "        results_scaled_dict['test_fit'][algorithm].extend(test_sc)\n",
    "        results_scaled_dict['size'][algorithm].extend(size_sc)\n",
    "\n",
    "        # Store unscaled results\n",
    "        results_unscaled_dict['rmse_'][algorithm].extend(rm_un)\n",
    "        results_unscaled_dict['mape_'][algorithm].extend(ma_un)\n",
    "        results_unscaled_dict['nrmse_'][algorithm].extend(nrmse_un)\n",
    "        results_unscaled_dict['r2_'][algorithm].extend(r2_un)\n",
    "        results_unscaled_dict['mae_'][algorithm].extend(mae_un)\n",
    "        results_unscaled_dict['std_rmse_'][algorithm].extend(std_rmse_un)\n",
    "        results_unscaled_dict['time_stats'][algorithm].extend(time_un)\n",
    "        results_unscaled_dict['train_fit'][algorithm].extend(train_un)\n",
    "        results_unscaled_dict['test_fit'][algorithm].extend(test_un)\n",
    "        results_unscaled_dict['size'][algorithm].extend(size_un)\n",
    "\n",
    "        print(f\"Results for {algorithm} on {dataset_name} saved!\")\n",
    "\n",
    "    # Save the results to disk\n",
    "    with open(f\"results/SLIM/{dataset_name}_scaled.pkl\", 'wb') as f:\n",
    "        pickle.dump(results_scaled_dict, f)\n",
    "\n",
    "    with open(f\"results/SLIM/{dataset_name}_unscaled.pkl\", 'wb') as f:\n",
    "        pickle.dump(results_unscaled_dict, f)\n",
    "\n",
    "    print(f\"Results for {dataset_name} saved!\")\n",
    "    print(\"---------------------------------------------------\")"
   ]
  }
 ],
 "metadata": {
  "kernelspec": {
   "display_name": "Python 3",
   "language": "python",
   "name": "python3"
  },
  "language_info": {
   "codemirror_mode": {
    "name": "ipython",
    "version": 3
   },
   "file_extension": ".py",
   "mimetype": "text/x-python",
   "name": "python",
   "nbconvert_exporter": "python",
   "pygments_lexer": "ipython3",
   "version": "3.11.9"
  }
 },
 "nbformat": 4,
 "nbformat_minor": 2
}
