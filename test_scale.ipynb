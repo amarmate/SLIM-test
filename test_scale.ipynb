{
 "cells": [
  {
   "cell_type": "code",
   "execution_count": 1,
   "metadata": {},
   "outputs": [],
   "source": [
    "from functions.test_algorithms import *\n",
    "from functions.random_search import * \n",
    "from slim_gsgp_lib.datasets.data_loader import *\n",
    "import pickle\n",
    "\n",
    "datasets = [globals()[i] for i in globals() if 'load' in i][2:]"
   ]
  },
  {
   "cell_type": "markdown",
   "metadata": {},
   "source": [
    "#### Settings"
   ]
  },
  {
   "cell_type": "code",
   "execution_count": 2,
   "metadata": {},
   "outputs": [],
   "source": [
    "pop_size = 100 \n",
    "n_iter = 100\n",
    "n_iter_rs = 50\n",
    "n_iter_test = 30\n",
    "p_train = 0.7"
   ]
  },
  {
   "cell_type": "markdown",
   "metadata": {},
   "source": [
    "#### SLIM "
   ]
  },
  {
   "cell_type": "code",
   "execution_count": null,
   "metadata": {},
   "outputs": [
    {
     "name": "stderr",
     "output_type": "stream",
     "text": [
      "  0%|          | 0/16 [00:00<?, ?it/s]"
     ]
    }
   ],
   "source": [
    "for dataset_loader in tqdm(datasets):\n",
    "    X, y = dataset_loader()\n",
    "    dataset_name = dataset_loader.__name__.split('load_')[1]\n",
    "    \n",
    "    # Perform random search for both scaled and unscaled versions\n",
    "    results_unscaled = random_search_slim(X, y, dataset_name, scale=False, p_train=p_train,\n",
    "                                          iterations=n_iter_rs, pop_size=pop_size, n_iter=n_iter,\n",
    "                                          struct_mutation=False)\n",
    "    \n",
    "    results_scaled = random_search_slim(X, y, dataset_name, scale=True, p_train=p_train,\n",
    "                                        iterations=n_iter_rs, pop_size=pop_size, n_iter=n_iter,\n",
    "                                        struct_mutation=False)\n",
    "    \n",
    "    # Initialize dictionaries for scaled and unscaled results\n",
    "    metrics = ['rmse_', 'mape_', 'nrmse_', 'r2_', 'mae_', 'std_rmse_', 'time_stats', 'train_fit', 'test_fit', 'size']\n",
    "    results_scaled_dict = {metric: {} for metric in metrics}\n",
    "    results_unscaled_dict = {metric: {} for metric in metrics}\n",
    "\n",
    "    for algorithm in results_unscaled:\n",
    "        # Retrieve the best hyperparameters for testing\n",
    "        args_unscaled = results_unscaled[algorithm]\n",
    "        args_scaled = results_scaled[algorithm]\n",
    "\n",
    "        # Test SLIM for unscaled data\n",
    "        rm_un, ma_un, nrmse_un, r2_un, mae_un, std_rmse_un, time_un, train_un, test_un, size_un = test_slim(\n",
    "            X=X, y=y, args_dict=args_unscaled, dataset_name=dataset_loader.__name__,\n",
    "            ms_lower=0, ms_upper=1, n_elites=1,\n",
    "            iterations=n_iter_test, struct_mutation=False, scale=False, algorithm=algorithm,\n",
    "            verbose=0, p_train=p_train,\n",
    "        )\n",
    "        \n",
    "        # Test SLIM for scaled data\n",
    "        rm_sc, ma_sc, nrmse_sc, r2_sc, mae_sc, std_rmse_sc, time_sc, train_sc, test_sc, size_sc = test_slim(\n",
    "            X=X, y=y, args_dict=args_scaled, dataset_name=dataset_loader.__name__,\n",
    "            ms_lower=0, ms_upper=1, n_elites=1,\n",
    "            iterations=n_iter_test, struct_mutation=False, scale=True, algorithm=algorithm,\n",
    "            verbose=0, p_train=p_train,\n",
    "        )\n",
    "        \n",
    "        # Initialize storage for each algorithm if not already present\n",
    "        for metric in metrics:\n",
    "            if algorithm not in results_scaled_dict[metric]:\n",
    "                results_scaled_dict[metric][algorithm] = []\n",
    "                results_unscaled_dict[metric][algorithm] = []\n",
    "\n",
    "        # Store scaled results\n",
    "        results_scaled_dict['rmse_'][algorithm].extend(rm_sc)\n",
    "        results_scaled_dict['mape_'][algorithm].extend(ma_sc)\n",
    "        results_scaled_dict['nrmse_'][algorithm].extend(nrmse_sc)\n",
    "        results_scaled_dict['r2_'][algorithm].extend(r2_sc)\n",
    "        results_scaled_dict['mae_'][algorithm].extend(mae_sc)\n",
    "        results_scaled_dict['std_rmse_'][algorithm].extend(std_rmse_sc)\n",
    "        results_scaled_dict['time_stats'][algorithm].extend(time_sc)\n",
    "        results_scaled_dict['train_fit'][algorithm].extend(train_sc)\n",
    "        results_scaled_dict['test_fit'][algorithm].extend(test_sc)\n",
    "        results_scaled_dict['size'][algorithm].extend(size_sc)\n",
    "\n",
    "        # Store unscaled results\n",
    "        results_unscaled_dict['rmse_'][algorithm].extend(rm_un)\n",
    "        results_unscaled_dict['mape_'][algorithm].extend(ma_un)\n",
    "        results_unscaled_dict['nrmse_'][algorithm].extend(nrmse_un)\n",
    "        results_unscaled_dict['r2_'][algorithm].extend(r2_un)\n",
    "        results_unscaled_dict['mae_'][algorithm].extend(mae_un)\n",
    "        results_unscaled_dict['std_rmse_'][algorithm].extend(std_rmse_un)\n",
    "        results_unscaled_dict['time_stats'][algorithm].extend(time_un)\n",
    "        results_unscaled_dict['train_fit'][algorithm].extend(train_un)\n",
    "        results_unscaled_dict['test_fit'][algorithm].extend(test_un)\n",
    "        results_unscaled_dict['size'][algorithm].extend(size_un)\n",
    "\n",
    "    # Save the results to disk\n",
    "    with open(f\"results/{dataset_name}_scaled.pkl\", 'wb') as f:\n",
    "        pickle.dump(results_scaled_dict, f)\n",
    "\n",
    "    with open(f\"results/{dataset_name}_unscaled.pkl\", 'wb') as f:\n",
    "        pickle.dump(results_unscaled_dict, f)\n",
    "\n",
    "    print(f\"Results for {dataset_name} saved!\")\n",
    "    print(\"---------------------------------------------------\")"
   ]
  },
  {
   "cell_type": "markdown",
   "metadata": {},
   "source": [
    "#### GSGP"
   ]
  },
  {
   "cell_type": "code",
   "execution_count": null,
   "metadata": {},
   "outputs": [],
   "source": [
    "for dataset_loader in tqdm(datasets):\n",
    "    X, y = dataset_loader()\n",
    "    dataset_name = dataset_loader.__name__.split('load_')[1]\n",
    "    \n",
    "    # Perform random search for both scaled and unscaled versions\n",
    "    best_params_unscaled = random_search_gsgp(X, y, scale=False, p_train=p_train, p_val=p_val,\n",
    "                                            iterations=n_iter_rs, pop_size=pop_size, n_iter=n_iter)\n",
    "    \n",
    "    best_params_scaled = random_search_gsgp(X, y, scale=True, p_train=p_train, p_val=p_val,\n",
    "                                        iterations=n_iter_rs, pop_size=pop_size, n_iter=n_iter)\n",
    "    \n",
    "    \n",
    "    # Initialize dictionaries for scaled and unscaled results\n",
    "    metrics = ['rm', 'ma', 'nrmse', 'r2', 'mae', 'std_rmse', 'time', 'train', 'test', 'size']\n",
    "    results_scaled_dict = {metric: [] for metric in metrics}\n",
    "    results_unscaled_dict = {metric: [] for metric in metrics}\n",
    "\n",
    "    # Test the scaled and unscaled versions in GSGP \n",
    "    rm_sc, ma_sc, nrmse_sc, r2_sc, mae_sc, std_rmse_sc, time_sc, train_sc, test_sc, size_sc = test_gsgp(\n",
    "        X=X, y=y, args_dict=best_params_scaled, dataset_name=dataset_loader.__name__,\n",
    "        scale=True, verbose=0, p_train=p_train, p_val=p_val,\n",
    "    )\n",
    "\n",
    "    rm_un, ma_un, nrmse_un, r2_un, mae_un, std_rmse_un, time_un, train_un, test_un, size_un = test_gsgp(\n",
    "        X=X, y=y, args_dict=best_params_unscaled, dataset_name=dataset_loader.__name__,\n",
    "        scale=False, verbose=0, p_train=p_train, p_val=p_val,\n",
    "    )\n",
    "\n",
    "    # Initialize storage for each algorithm if not already present\n",
    "    for metric in metrics:\n",
    "        results_scaled_dict[metric].extend(eval(metric + '_sc'))\n",
    "        results_unscaled_dict[metric].extend(eval(metric + '_un'))\n",
    "\n",
    "    # Save the results to disk\n",
    "    with open(f\"results/{dataset_name}_gsgp_scaled.pkl\", 'wb') as f:\n",
    "        pickle.dump(results_scaled_dict, f)\n",
    "\n",
    "    with open(f\"results/{dataset_name}_gsgp_unscaled.pkl\", 'wb') as f:\n",
    "        pickle.dump(results_unscaled_dict, f)\n",
    "        \n",
    "    print(f\"Results for {dataset_name} saved!\")\n",
    "    print(\"---------------------------------------------------\")    "
   ]
  }
 ],
 "metadata": {
  "kernelspec": {
   "display_name": "Python 3",
   "language": "python",
   "name": "python3"
  },
  "language_info": {
   "codemirror_mode": {
    "name": "ipython",
    "version": 3
   },
   "file_extension": ".py",
   "mimetype": "text/x-python",
   "name": "python",
   "nbconvert_exporter": "python",
   "pygments_lexer": "ipython3",
   "version": "3.11.9"
  }
 },
 "nbformat": 4,
 "nbformat_minor": 2
}
